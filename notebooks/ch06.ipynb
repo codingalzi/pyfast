{
 "cells": [
  {
   "cell_type": "markdown",
   "metadata": {},
   "source": [
    "# 모듈과 패키지"
   ]
  },
  {
   "cell_type": "markdown",
   "metadata": {},
   "source": [
    "For now, we have typed all instructions in the interpreter. For longer\n",
    "sets of instructions we need to change track and write the code in text\n",
    "files (using a text editor), that we will call either *scripts* or\n",
    "*modules*. Use your favorite text editor (provided it offers syntax\n",
    "highlighting for Python), or the editor that comes with the Scientific\n",
    "Python Suite you may be using."
   ]
  },
  {
   "cell_type": "markdown",
   "metadata": {},
   "source": [
    "## Scripts"
   ]
  },
  {
   "cell_type": "markdown",
   "metadata": {},
   "source": [
    "Let us first write a *script*, that is a file with a sequence of\n",
    "instructions that are executed each time the script is called.\n",
    "Instructions may be e.g. copied-and-pasted from the interpreter (but\n",
    "take care to respect indentation rules!)."
   ]
  },
  {
   "cell_type": "markdown",
   "metadata": {},
   "source": [
    "The extension for Python files is `.py`. Write or copy-and-paste the\n",
    "following lines in a file called `test.py` ::\n",
    "\n",
    "```python\n",
    "message = \"Hello how are you?\"\n",
    "for word in message.split():\n",
    "    print(word)\n",
    "```"
   ]
  },
  {
   "cell_type": "markdown",
   "metadata": {},
   "source": [
    "Let us now execute the script interactively, that is inside the\n",
    "Ipython interpreter. This is maybe the most common use of scripts in\n",
    "scientific computing."
   ]
  },
  {
   "cell_type": "markdown",
   "metadata": {},
   "source": [
    "**Note**\n",
    "\n",
    "in Ipython, the syntax to execute a script is `%run script.py`. For\n",
    "example,"
   ]
  },
  {
   "cell_type": "markdown",
   "metadata": {},
   "source": [
    "```python\n",
    "In [1]: %run test.py\n",
    "Hello\n",
    "how\n",
    "are\n",
    "you?\n",
    "\n",
    "In [2]: message\n",
    "Out[2]: 'Hello how are you?'\n",
    "```"
   ]
  },
  {
   "cell_type": "markdown",
   "metadata": {},
   "source": [
    "The script has been executed. Moreover the variables defined in the\n",
    "script (such as `message`) are now available inside the interpreter's\n",
    "namespace."
   ]
  },
  {
   "cell_type": "markdown",
   "metadata": {},
   "source": [
    "Other interpreters also offer the possibility to execute scripts\n",
    "(e.g., `execfile` in the plain Python interpreter, etc.)."
   ]
  },
  {
   "cell_type": "markdown",
   "metadata": {},
   "source": [
    "It is also possible In order to execute this script as a *standalone\n",
    "program*, by executing the script inside a shell terminal (Linux/Mac\n",
    "console or cmd Windows console). For example, if we are in the same\n",
    "directory as the test.py file, we can execute this in a console:\n",
    "\n",
    "```bash\n",
    "$ python test.py\n",
    "Hello\n",
    "how\n",
    "are\n",
    "you?\n",
    "```"
   ]
  },
  {
   "cell_type": "markdown",
   "metadata": {},
   "source": [
    "Standalone scripts may also take command-line arguments"
   ]
  },
  {
   "cell_type": "markdown",
   "metadata": {},
   "source": [
    "In `file.py`::\n",
    "\n",
    "```python\n",
    "import sys\n",
    "print(sys.argv)\n",
    "```\n",
    "```bash\n",
    "$ python file.py test arguments\n",
    "['file.py', 'test', 'arguments']\n",
    "```"
   ]
  },
  {
   "cell_type": "markdown",
   "metadata": {},
   "source": [
    "**Warning**\n",
    "\n",
    "Don't implement option parsing yourself. Use a dedicated module such as\n",
    "`argparse`."
   ]
  },
  {
   "cell_type": "markdown",
   "metadata": {},
   "source": [
    "## Importing objects from modules"
   ]
  },
  {
   "cell_type": "markdown",
   "metadata": {},
   "source": [
    "```python\n",
    "In [1]: import os\n",
    "\n",
    "In [2]: os\n",
    "Out[2]: <module 'os' from '/usr/lib/python2.6/os.pyc'>\n",
    "\n",
    "In [3]: os.listdir('.')\n",
    "Out[3]:\n",
    "['conf.py',\n",
    "'basic_types.rst',\n",
    "'control_flow.rst',\n",
    "'functions.rst',\n",
    "'python_language.rst',\n",
    "'reusing.rst',\n",
    "'file_io.rst',\n",
    "'exceptions.rst',\n",
    "'workflow.rst',\n",
    "'index.rst']\n",
    "```"
   ]
  },
  {
   "cell_type": "markdown",
   "metadata": {},
   "source": [
    "And also:\n",
    "\n",
    "```python\n",
    "In [4]: from os import listdir\n",
    "```"
   ]
  },
  {
   "cell_type": "markdown",
   "metadata": {},
   "source": [
    "Importing shorthands:\n",
    "\n",
    "```python\n",
    "In [5]: import numpy as np\n",
    "```"
   ]
  },
  {
   "cell_type": "markdown",
   "metadata": {},
   "source": [
    "**Warning**\n",
    "\n",
    "```python\n",
    "from os import *\n",
    "```\n",
    "\n",
    "This is called the *star import* and please, **Do not use it**\n",
    "\n",
    "* Makes the code harder to read and understand: where do symbols come\n",
    "from?\n",
    "\n",
    "* Makes it impossible to guess the functionality by the context and\n",
    "the name (hint: `os.name` is the name of the OS), and to profit\n",
    "usefully from tab completion.\n",
    "\n",
    "* Restricts the variable names you can use: `os.name` might override\n",
    "`name`, or vise-versa.\n",
    "\n",
    "* Creates possible name clashes between modules.\n",
    "\n",
    "* Makes the code impossible to statically check for undefined\n",
    "symbols."
   ]
  },
  {
   "cell_type": "markdown",
   "metadata": {},
   "source": [
    "Modules are thus a good way to organize code in a hierarchical way. Actually,\n",
    "all the scientific computing tools we are going to use are modules::\n",
    "\n",
    "```python\n",
    ">>> import numpy as np # data arrays\n",
    ">>> np.linspace(0, 10, 6)\n",
    "array([  0.,   2.,   4.,   6.,   8.,  10.])\n",
    ">>> import scipy # scientific computing\n",
    "```"
   ]
  },
  {
   "cell_type": "markdown",
   "metadata": {},
   "source": [
    "## Creating modules"
   ]
  },
  {
   "cell_type": "markdown",
   "metadata": {},
   "source": [
    "If we want to write larger and better organized programs (compared to\n",
    "simple scripts), where some objects are defined, (variables,\n",
    "functions, classes) and that we want to reuse several times, we have\n",
    "to create our own *modules*."
   ]
  },
  {
   "cell_type": "markdown",
   "metadata": {},
   "source": [
    "Let us create a module `demo` contained in the file `demo.py`:\n",
    "\n",
    "```python\n",
    "\"A demo module.\"\n",
    "\n",
    "def print_b():\n",
    "    \"Prints b.\"\n",
    "    print('b')\n",
    "\n",
    "def print_a():\n",
    "    \"Prints a.\"\n",
    "    print('a')\n",
    "    \n",
    "c = 2\n",
    "d = 2\n",
    "```"
   ]
  },
  {
   "cell_type": "markdown",
   "metadata": {},
   "source": [
    "In this file, we defined two functions `print_a` and `print_b`. Suppose\n",
    "we want to call the `print_a` function from the interpreter. We could\n",
    "execute the file as a script, but since we just want to have access to\n",
    "the function `print_a`, we are rather going to **import it as a module**.\n",
    "The syntax is as follows.\n",
    "\n",
    "```python\n",
    "In [1]: import demo\n",
    "\n",
    "In [2]: demo.print_a()\n",
    "a\n",
    "\n",
    "In [3]: demo.print_b()\n",
    "b\n",
    "```"
   ]
  },
  {
   "cell_type": "markdown",
   "metadata": {},
   "source": [
    "Importing the module gives access to its objects, using the\n",
    "`module.object` syntax. Don't forget to put the module's name before the\n",
    "object's name, otherwise Python won't recognize the instruction."
   ]
  },
  {
   "cell_type": "markdown",
   "metadata": {},
   "source": [
    "Introspection\n",
    "\n",
    "```python\n",
    "In [4]: demo?\n",
    "Type:               module\n",
    "Base Class: <type 'module'>\n",
    "String Form:        <module 'demo' from 'demo.py'>\n",
    "Namespace:  Interactive\n",
    "File:               /home/varoquau/Projects/Python_talks/scipy_2009_tutorial/source/demo.py\n",
    "Docstring:\n",
    "A demo module.\n",
    "\n",
    "\n",
    "In [5]: who\n",
    "demo\n",
    "\n",
    "In [6]: whos\n",
    "Variable   Type      Data/Info\n",
    "------------------------------\n",
    "demo       module    <module 'demo' from 'demo.py'>\n",
    "\n",
    "In [7]: dir(demo)\n",
    "Out[7]:\n",
    "['__builtins__',\n",
    "'__doc__',\n",
    "'__file__',\n",
    "'__name__',\n",
    "'__package__',\n",
    "'c',\n",
    "'d',\n",
    "'print_a',\n",
    "'print_b']\n",
    "\n",
    "\n",
    "In [8]: demo.<TAB>\n",
    "demo.c        demo.print_a  demo.py       \n",
    "demo.d        demo.print_b  demo.pyc      \n",
    "```"
   ]
  },
  {
   "cell_type": "markdown",
   "metadata": {},
   "source": [
    "Importing objects from modules into the main namespace\n",
    "\n",
    "```python\n",
    "In [9]: from demo import print_a, print_b\n",
    "\n",
    "In [10]: whos\n",
    "Variable   Type        Data/Info\n",
    "--------------------------------\n",
    "demo       module      <module 'demo' from 'demo.py'>\n",
    "print_a    function    <function print_a at 0xb7421534>\n",
    "print_b    function    <function print_b at 0xb74214c4>\n",
    "\n",
    "In [11]: print_a()\n",
    "a\n",
    "```"
   ]
  },
  {
   "cell_type": "markdown",
   "metadata": {},
   "source": [
    "**Warning**: **Module caching**\n",
    "\n",
    "Modules are cached: if you modify `demo.py` and re-import it in the\n",
    "old session, you will get the old one.\n",
    "\n",
    "Solution:\n",
    "\n",
    "```python\n",
    "In [10]: reload(demo)\n",
    "```\n",
    "\n",
    "In Python3 instead `reload` is not builtin, so you have to import the `importlib` module first and then do:\n",
    "\n",
    "```python\n",
    "In [10]: importlib.reload(demo)\n",
    "```"
   ]
  },
  {
   "cell_type": "markdown",
   "metadata": {},
   "source": [
    "## '__main__' and module loading"
   ]
  },
  {
   "cell_type": "markdown",
   "metadata": {},
   "source": [
    "Sometimes we want code to be executed when a module is\n",
    "run directly, but not when it is imported by another module.\n",
    "`if __name__ == '__main__'` allows us to check whether the\n",
    "module is being run directly."
   ]
  },
  {
   "cell_type": "markdown",
   "metadata": {},
   "source": [
    "File `demo2.py`:\n",
    "\n",
    "```python\n",
    "def print_b():\n",
    "    \"Prints b.\"\n",
    "    print('b')\n",
    "\n",
    "def print_a():\n",
    "    \"Prints a.\"\n",
    "    print('a')\n",
    "    \n",
    "# print_b() runs on import\n",
    "print_b()\n",
    "\n",
    "if __name__ == '__main__':\n",
    "    # print_a() is only executed when the module is run directly.\n",
    "    print_a()\n",
    "```"
   ]
  },
  {
   "cell_type": "markdown",
   "metadata": {},
   "source": [
    "Importing it:\n",
    "\n",
    "```python\n",
    "In [11]: import demo2\n",
    "b\n",
    "\n",
    "In [12]: import demo2\n",
    "```"
   ]
  },
  {
   "cell_type": "markdown",
   "metadata": {},
   "source": [
    "Running it:\n",
    "\n",
    "```python\n",
    "In [13]: %run demo2\n",
    "b\n",
    "a\n",
    "```"
   ]
  },
  {
   "cell_type": "markdown",
   "metadata": {},
   "source": [
    "## Scripts or modules? How to organize your code"
   ]
  },
  {
   "cell_type": "markdown",
   "metadata": {},
   "source": [
    "**Note** Rule of thumb\n",
    "\n",
    "* Sets of instructions that are called several times should be\n",
    "written inside **functions** for better code reusability.\n",
    "\n",
    "* Functions (or other bits of code) that are called from several\n",
    "scripts should be written inside a **module**, so that only the\n",
    "module is imported in the different scripts (do not copy-and-paste\n",
    "your functions in the different scripts!)."
   ]
  },
  {
   "cell_type": "markdown",
   "metadata": {},
   "source": [
    "**How modules are found and imported**\n",
    "\n",
    "When the `import mymodule` statement is executed, the module `mymodule`\n",
    "is searched in a given list of directories. This list includes a list\n",
    "of installation-dependent default path (e.g., `/usr/lib/python`) as\n",
    "well as the list of directories specified by the environment variable\n",
    "`PYTHONPATH`.\n",
    "\n",
    "The list of directories searched by Python is given by the `sys.path`\n",
    "variable\n",
    "\n",
    "```python\n",
    "In [1]: import sys\n",
    "\n",
    "In [2]: sys.path\n",
    "Out[2]: \n",
    "['',\n",
    "'/home/varoquau/.local/bin',\n",
    "'/usr/lib/python2.7',\n",
    "'/home/varoquau/.local/lib/python2.7/site-packages',\n",
    "'/usr/lib/python2.7/dist-packages',\n",
    "'/usr/local/lib/python2.7/dist-packages',\n",
    "...]\n",
    "```"
   ]
  },
  {
   "cell_type": "markdown",
   "metadata": {},
   "source": [
    "Modules must be located in the search path, therefore you can:\n",
    "\n",
    "* write your own modules within directories already defined in the\n",
    "    search path (e.g. `$HOME/.local/lib/python2.7/dist-packages`). You\n",
    "    may use symbolic links (on Linux) to keep the code somewhere else.\n",
    "\n",
    "* modify the environment variable `PYTHONPATH` to include the\n",
    "    directories containing the user-defined modules.\n",
    "\n",
    "    On Linux/Unix, add the following line to a file read by the shell at\n",
    "    startup (e.g. /etc/profile, .profile)\n",
    "\n",
    "    ```bash\n",
    "    export PYTHONPATH=$PYTHONPATH:/home/emma/user_defined_modules\n",
    "    ```\n",
    "\n",
    "    On Windows, http://support.microsoft.com/kb/310519 explains how to\n",
    "    handle environment variables.\n",
    "\n",
    "* or modify the `sys.path` variable itself within a Python script.\n",
    "    \n",
    "    ```python\n",
    "    import sys\n",
    "    new_path = '/home/emma/user_defined_modules'\n",
    "    if new_path not in sys.path:\n",
    "        sys.path.append(new_path)\n",
    "    ```\n",
    "\n",
    "    This method is not very robust, however, because it makes the code\n",
    "    less portable (user-dependent path) and because you have to add the\n",
    "    directory to your sys.path each time you want to import from a module\n",
    "    in this directory."
   ]
  },
  {
   "cell_type": "markdown",
   "metadata": {},
   "source": [
    "## Packages"
   ]
  },
  {
   "cell_type": "markdown",
   "metadata": {},
   "source": [
    "A directory that contains many modules is called a *package*. A package\n",
    "is a module with submodules (which can have submodules themselves, etc.).\n",
    "A special file called `__init__.py` (which may be empty) tells Python\n",
    "that the directory is a Python package, from which modules can be\n",
    "imported."
   ]
  },
  {
   "cell_type": "markdown",
   "metadata": {},
   "source": [
    "```bash\n",
    "$ ls\n",
    "cluster/        io/          README.txt@     stsci/\n",
    "__config__.py@  LATEST.txt@  setup.py@       __svn_version__.py@\n",
    "__config__.pyc  lib/         setup.pyc       __svn_version__.pyc\n",
    "constants/      linalg/      setupscons.py@  THANKS.txt@\n",
    "fftpack/        linsolve/    setupscons.pyc  TOCHANGE.txt@\n",
    "__init__.py@    maxentropy/  signal/         version.py@\n",
    "__init__.pyc    misc/        sparse/         version.pyc\n",
    "INSTALL.txt@    ndimage/     spatial/        weave/\n",
    "integrate/      odr/         special/\n",
    "interpolate/    optimize/    stats/\n",
    "$ cd ndimage\n",
    "$ ls\n",
    "doccer.py@   fourier.pyc   interpolation.py@  morphology.pyc   setup.pyc\n",
    "doccer.pyc   info.py@      interpolation.pyc  _nd_image.so\n",
    "setupscons.py@\n",
    "filters.py@  info.pyc      measurements.py@   _ni_support.py@\n",
    "setupscons.pyc\n",
    "filters.pyc  __init__.py@  measurements.pyc   _ni_support.pyc  tests/\n",
    "fourier.py@  __init__.pyc  morphology.py@     setup.py@\n",
    "```"
   ]
  },
  {
   "cell_type": "markdown",
   "metadata": {},
   "source": [
    "From Ipython:\n",
    "\n",
    "```python\n",
    "In [1]: import scipy\n",
    "\n",
    "In [2]: scipy.__file__\n",
    "Out[2]: '/usr/lib/python2.6/dist-packages/scipy/__init__.pyc'\n",
    "\n",
    "In [3]: import scipy.version\n",
    "\n",
    "In [4]: scipy.version.version\n",
    "Out[4]: '0.7.0'\n",
    "\n",
    "In [5]: import scipy.ndimage.morphology\n",
    "\n",
    "In [6]: from scipy.ndimage import morphology\n",
    "\n",
    "In [17]: morphology.binary_dilation?\n",
    "Type:           function\n",
    "Base Class:     <type 'function'>\n",
    "String Form:    <function binary_dilation at 0x9bedd84>\n",
    "Namespace:      Interactive\n",
    "File:           /usr/lib/python2.6/dist-packages/scipy/ndimage/morphology.py\n",
    "Definition:     morphology.binary_dilation(input, structure=None,\n",
    "iterations=1, mask=None, output=None, border_value=0, origin=0,\n",
    "brute_force=False)\n",
    "Docstring:\n",
    "Multi-dimensional binary dilation with the given structure.\n",
    "\n",
    "An output array can optionally be provided. The origin parameter\n",
    "controls the placement of the filter. If no structuring element is\n",
    "provided an element is generated with a squared connectivity equal\n",
    "to one. The dilation operation is repeated iterations times.  If\n",
    "iterations is less than 1, the dilation is repeated until the\n",
    "result does not change anymore.  If a mask is given, only those\n",
    "elements with a true value at the corresponding mask element are\n",
    "modified at each iteration.\n",
    "```"
   ]
  },
  {
   "cell_type": "markdown",
   "metadata": {},
   "source": [
    "## Good practices"
   ]
  },
  {
   "cell_type": "markdown",
   "metadata": {},
   "source": [
    "* Use **meaningful** object **names**"
   ]
  },
  {
   "cell_type": "markdown",
   "metadata": {},
   "source": [
    "* **Indentation: no choice!**\n",
    "\n",
    "    Indenting is compulsory in Python! Every command block following a\n",
    "    colon bears an additional indentation level with respect to the\n",
    "    previous line with a colon. One must therefore indent after\n",
    "    `def f():` or `while:`. At the end of such logical blocks, one\n",
    "    decreases the indentation depth (and re-increases it if a new block\n",
    "    is entered, etc.)\n",
    "\n",
    "    Strict respect of indentation is the price to pay for getting rid of\n",
    "    `{` or `;` characters that delineate logical blocks in other\n",
    "    languages. Improper indentation leads to errors such as\n",
    "\n",
    "    ```python\n",
    "    ------------------------------------------------------------\n",
    "    IndentationError: unexpected indent (test.py, line 2)\n",
    "    ```\n",
    "\n",
    "    All this indentation business can be a bit confusing in the\n",
    "    beginning. However, with the clear indentation, and in the absence of\n",
    "    extra characters, the resulting code is very nice to read compared to\n",
    "    other languages."
   ]
  },
  {
   "cell_type": "markdown",
   "metadata": {},
   "source": [
    "* **Indentation depth**: Inside your text editor, you may choose to\n",
    "    indent with any positive number of spaces (1, 2, 3, 4, ...). However,\n",
    "    it is considered good practice to **indent with 4 spaces**. You may\n",
    "    configure your editor to map the `Tab` key to a 4-space\n",
    "    indentation. "
   ]
  },
  {
   "cell_type": "markdown",
   "metadata": {},
   "source": [
    "* **Style guidelines**\n",
    "\n",
    "    **Long lines**: you should not write very long lines that span over more\n",
    "    than (e.g.) 80 characters. Long lines can be broken with the `\\`\n",
    "    character ::\n",
    "\n",
    "    ```python\n",
    "    >>> long_line = \"Here is a very very long line \\\n",
    "    ... that we break in two parts.\"\n",
    "    ```\n",
    "\n",
    "    **Spaces**\n",
    "\n",
    "    Write well-spaced code: put whitespaces after commas, around arithmetic\n",
    "    operators, etc.::\n",
    "\n",
    "    ```python\n",
    "    >>> a = 1 # yes\n",
    "    >>> a=1 # too cramped\n",
    "    ```\n",
    "\n",
    "    A certain number of rules\n",
    "    for writing \"beautiful\" code (and more importantly using the same\n",
    "    conventions as anybody else!) are given in the \n",
    "    [Style Guide for Python Code](https://www.python.org/dev/peps/pep-0008)."
   ]
  }
 ],
 "metadata": {
  "kernelspec": {
   "display_name": "Python 3 (ipykernel)",
   "language": "python",
   "name": "python3"
  },
  "language_info": {
   "codemirror_mode": {
    "name": "ipython",
    "version": 3
   },
   "file_extension": ".py",
   "mimetype": "text/x-python",
   "name": "python",
   "nbconvert_exporter": "python",
   "pygments_lexer": "ipython3",
   "version": "3.9.7"
  }
 },
 "nbformat": 4,
 "nbformat_minor": 4
}
