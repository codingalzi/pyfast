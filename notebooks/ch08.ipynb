{
 "cells": [
  {
   "cell_type": "markdown",
   "metadata": {},
   "source": [
    "# 예외 처리"
   ]
  },
  {
   "cell_type": "markdown",
   "metadata": {},
   "source": [
    "It is likely that you have raised Exceptions if you have\n",
    "typed all the previous commands of the tutorial. For example, you may\n",
    "have raised an exception if you entered a command with a typo.\n",
    "\n",
    "Exceptions are raised by different kinds of errors arising when executing\n",
    "Python code. In your own code, you may also catch errors, or define custom\n",
    "error types. You may want to look at the descriptions of the \n",
    "[the built-in Exceptions](https://docs.python.org/2/library/exceptions.html)\n",
    "when looking for the right exception type."
   ]
  },
  {
   "cell_type": "markdown",
   "metadata": {},
   "source": [
    "## Exceptions"
   ]
  },
  {
   "cell_type": "markdown",
   "metadata": {},
   "source": [
    "Exceptions are raised by errors in Python:\n",
    "\n",
    "```python\n",
    "In [1]: 1/0\n",
    "---------------------------------------------------------------------------\n",
    "ZeroDivisionError: integer division or modulo by zero\n",
    "\n",
    "In [2]: 1 + 'e'\n",
    "---------------------------------------------------------------------------\n",
    "TypeError: unsupported operand type(s) for +: 'int' and 'str'\n",
    "\n",
    "In [3]: d = {1:1, 2:2}\n",
    "\n",
    "In [4]: d[3]\n",
    "---------------------------------------------------------------------------\n",
    "KeyError: 3\n",
    "\n",
    "In [5]: l = [1, 2, 3]\n",
    "\n",
    "In [6]: l[4]\n",
    "---------------------------------------------------------------------------\n",
    "IndexError: list index out of range\n",
    "\n",
    "In [7]: l.foobar\n",
    "---------------------------------------------------------------------------\n",
    "AttributeError: 'list' object has no attribute 'foobar'\n",
    "```"
   ]
  },
  {
   "cell_type": "markdown",
   "metadata": {},
   "source": [
    "As you can see, there are **different types** of exceptions for different errors."
   ]
  },
  {
   "cell_type": "markdown",
   "metadata": {},
   "source": [
    "## Catching exceptions"
   ]
  },
  {
   "cell_type": "markdown",
   "metadata": {},
   "source": [
    "### try/except"
   ]
  },
  {
   "cell_type": "markdown",
   "metadata": {},
   "source": [
    "```python\n",
    "In [10]: while True:\n",
    "   ....:     try:\n",
    "   ....:         x = int(raw_input('Please enter a number: '))\n",
    "   ....:         break\n",
    "   ....:     except ValueError:\n",
    "   ....:         print('That was no valid number.  Try again...')\n",
    "   ....: \n",
    "Please enter a number: a\n",
    "That was no valid number.  Try again...\n",
    "Please enter a number: 1\n",
    "\n",
    "In [9]: x\n",
    "Out[9]: 1\n",
    "```python"
   ]
  },
  {
   "cell_type": "markdown",
   "metadata": {},
   "source": [
    "### try/finally"
   ]
  },
  {
   "cell_type": "markdown",
   "metadata": {},
   "source": [
    "```python\n",
    "In [10]: try:\n",
    "   ....:     x = int(raw_input('Please enter a number: '))\n",
    "   ....: finally:\n",
    "   ....:     print('Thank you for your input')\n",
    "   ....:\n",
    "   ....:\n",
    "Please enter a number: a\n",
    "Thank you for your input\n",
    "---------------------------------------------------------------------------\n",
    "ValueError: invalid literal for int() with base 10: 'a'\n",
    "```"
   ]
  },
  {
   "cell_type": "markdown",
   "metadata": {},
   "source": [
    "Important for resource management (e.g. closing a file)"
   ]
  },
  {
   "cell_type": "markdown",
   "metadata": {},
   "source": [
    "### Easier to ask for forgiveness than for permission"
   ]
  },
  {
   "cell_type": "markdown",
   "metadata": {},
   "source": [
    "```python\n",
    "In [11]: def print_sorted(collection):\n",
    "   ....:     try:\n",
    "   ....:         collection.sort()\n",
    "   ....:     except AttributeError:\n",
    "   ....:         pass # The pass statement does nothing\n",
    "   ....:     print(collection)\n",
    "   ....:\n",
    "   ....:\n",
    "\n",
    "In [12]: print_sorted([1, 3, 2])\n",
    "[1, 2, 3]\n",
    "\n",
    "In [13]: print_sorted(set((1, 3, 2)))\n",
    "set([1, 2, 3])\n",
    "\n",
    "In [14]: print_sorted('132')\n",
    "132\n",
    "```"
   ]
  },
  {
   "cell_type": "markdown",
   "metadata": {},
   "source": [
    "## Raising exceptions"
   ]
  },
  {
   "cell_type": "markdown",
   "metadata": {},
   "source": [
    "* Capturing and reraising an exception:\n",
    "\n",
    "    ```python\n",
    "    In [15]: def filter_name(name):\n",
    "       ....:\ttry:\n",
    "       ....:\t    name = name.encode('ascii')\n",
    "       ....:\texcept UnicodeError as e:\n",
    "       ....:\t    if name == 'Gaël':\n",
    "       ....:\t\tprint('OK, Gaël')\n",
    "       ....:\t    else:\n",
    "       ....:\t\traise e\n",
    "       ....:\treturn name\n",
    "       ....:\n",
    "\n",
    "    In [16]: filter_name('Gaël')\n",
    "    OK, Gaël\n",
    "    Out[16]: 'Ga\\xc3\\xabl'\n",
    "\n",
    "    In [17]: filter_name('Stéfan')\n",
    "    ---------------------------------------------------------------------------\n",
    "    UnicodeDecodeError: 'ascii' codec can't decode byte 0xc3 in position 2: ordinal not in range(128)\n",
    "    ```"
   ]
  },
  {
   "cell_type": "markdown",
   "metadata": {},
   "source": [
    "* Exceptions to pass messages between parts of the code:\n",
    "\n",
    "    ```python\n",
    "    In [17]: def achilles_arrow(x):\n",
    "       ....:    if abs(x - 1) < 1e-3:\n",
    "       ....:        raise StopIteration\n",
    "       ....:    x = 1 - (1-x)/2.\n",
    "       ....:    return x\n",
    "       ....:\n",
    "\n",
    "    In [18]: x = 0\n",
    "\n",
    "    In [19]: while True:\n",
    "       ....:     try:\n",
    "       ....:         x = achilles_arrow(x)\n",
    "       ....:     except StopIteration:\n",
    "       ....:         break\n",
    "       ....:\n",
    "       ....:\n",
    "\n",
    "    In [20]: x\n",
    "    Out[20]: 0.9990234375\n",
    "    ```"
   ]
  },
  {
   "cell_type": "markdown",
   "metadata": {},
   "source": [
    "Use exceptions to notify certain conditions are met (e.g.\n",
    "StopIteration) or not (e.g. custom error raising)"
   ]
  }
 ],
 "metadata": {
  "kernelspec": {
   "display_name": "Python 3 (ipykernel)",
   "language": "python",
   "name": "python3"
  },
  "language_info": {
   "codemirror_mode": {
    "name": "ipython",
    "version": 3
   },
   "file_extension": ".py",
   "mimetype": "text/x-python",
   "name": "python",
   "nbconvert_exporter": "python",
   "pygments_lexer": "ipython3",
   "version": "3.9.7"
  }
 },
 "nbformat": 4,
 "nbformat_minor": 4
}
