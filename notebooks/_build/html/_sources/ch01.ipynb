{
 "cells": [
  {
   "cell_type": "markdown",
   "metadata": {},
   "source": [
    "# 기본 자료형"
   ]
  },
  {
   "cell_type": "markdown",
   "metadata": {},
   "source": [
    "We introduce here the Python language. Only the bare minimum\n",
    "necessary for getting started with Numpy and Scipy is addressed here.\n",
    "To learn more about the language, consider going through the\n",
    "excellent tutorial https://docs.python.org/tutorial. Dedicated books\n",
    "are also available, such as [Dive into Python 3](https://diveintopython3.net/)."
   ]
  },
  {
   "cell_type": "markdown",
   "metadata": {},
   "source": [
    "## First steps"
   ]
  },
  {
   "cell_type": "markdown",
   "metadata": {},
   "source": [
    "Start the **Ipython** shell (an enhanced interactive Python shell)."
   ]
  },
  {
   "cell_type": "markdown",
   "metadata": {},
   "source": [
    "Once you have started the interpreter, type\n",
    "\n",
    "```python\n",
    ">>> print(\"Hello, world!\")\n",
    "Hello, world!\n",
    "```"
   ]
  },
  {
   "cell_type": "markdown",
   "metadata": {},
   "source": [
    "The message \"Hello, world!\" is then displayed. You just executed your\n",
    "first Python instruction, congratulations!"
   ]
  },
  {
   "cell_type": "markdown",
   "metadata": {},
   "source": [
    "To get yourself started, type the following stack of instructions."
   ]
  },
  {
   "cell_type": "markdown",
   "metadata": {},
   "source": [
    "```python\n",
    ">>> a = 3\n",
    ">>> b = 2*a\n",
    ">>> type(b)     # doctest: +SKIP\n",
    "<type 'int'>\n",
    ">>> print(b)\n",
    "6\n",
    ">>> a*b \n",
    "18\n",
    ">>> b = 'hello' \n",
    ">>> type(b)    # doctest: +SKIP\n",
    "<type 'str'>\n",
    ">>> b + b\n",
    "'hellohello'\n",
    ">>> 2*b\n",
    "'hellohello'\n",
    "```"
   ]
  },
  {
   "cell_type": "markdown",
   "metadata": {},
   "source": [
    "Two variables `a` and `b` have been defined above. Note that one does\n",
    "not declare the type of a variable before assigning its value. In C,\n",
    "conversely, one should write:"
   ]
  },
  {
   "cell_type": "markdown",
   "metadata": {},
   "source": [
    "```c\n",
    "int a = 3;\n",
    "```"
   ]
  },
  {
   "cell_type": "markdown",
   "metadata": {},
   "source": [
    "In addition, the type of a variable may change, in the sense that at\n",
    "one point in time it can be equal to a value of a certain type, and a\n",
    "second point in time, it can be equal to a value of a different\n",
    "type. `b` was first equal to an integer, but it became equal to a\n",
    "string when it was assigned the value `'hello'`. Operations on\n",
    "integers (`b=2*a`) are coded natively in Python, and so are some\n",
    "operations on strings such as additions and multiplications, which\n",
    "amount respectively to concatenation and repetition."
   ]
  },
  {
   "cell_type": "markdown",
   "metadata": {},
   "source": [
    "## Basic types"
   ]
  },
  {
   "cell_type": "markdown",
   "metadata": {},
   "source": [
    "### Numerical types"
   ]
  },
  {
   "cell_type": "markdown",
   "metadata": {},
   "source": [
    "Python supports the following numerical, scalar types:"
   ]
  },
  {
   "cell_type": "markdown",
   "metadata": {},
   "source": [
    "**Integer**\n",
    "\n",
    "```python\n",
    ">>> 1 + 1\n",
    "2\n",
    ">>> a = 4\n",
    ">>> type(a)   # doctest +SKIP\n",
    "<type 'int'>\n",
    "```"
   ]
  },
  {
   "cell_type": "markdown",
   "metadata": {},
   "source": [
    "**Floats**\n",
    "\n",
    "```python\n",
    ">>> c = 2.1\n",
    ">>> type(c)   # doctest +SKIP\n",
    "<type 'float'>\n",
    "```"
   ]
  },
  {
   "cell_type": "markdown",
   "metadata": {},
   "source": [
    "**Booleans**\n",
    "\n",
    "```python\n",
    ">>> 3 > 4\n",
    "False\n",
    ">>> test = (3 > 4)\n",
    ">>> test\n",
    "False\n",
    ">>> type(test)      # doctest +SKIP\n",
    "<type 'bool'>\n",
    "```"
   ]
  },
  {
   "cell_type": "markdown",
   "metadata": {},
   "source": [
    "A Python shell can therefore replace your pocket calculator, with the\n",
    "basic arithmetic operations `+`, `-`, `*`, `/`, `%` (modulo)\n",
    "natively implemented\n",
    "\n",
    "```python\n",
    ">>> 7 * 3.\n",
    "21.0\n",
    ">>> 2**10\n",
    "1024\n",
    ">>> 8 % 3\n",
    "2\n",
    "```"
   ]
  },
  {
   "cell_type": "markdown",
   "metadata": {},
   "source": [
    "Type conversion (casting)\n",
    "\n",
    "```python\n",
    ">>> float(1)\n",
    "1.0\n",
    "```"
   ]
  },
  {
   "cell_type": "markdown",
   "metadata": {},
   "source": [
    "**warning Integer division**\n",
    "\n",
    "```python\n",
    ">>> 3 / 2   # doctest +SKIP\n",
    "1.5\n",
    "```"
   ]
  },
  {
   "cell_type": "markdown",
   "metadata": {},
   "source": [
    "**To be safe** use floats\n",
    "\n",
    "```python\n",
    ">>> 3 / 2.\n",
    "1.5\n",
    "\n",
    ">>> a = 3\n",
    ">>> b = 2\n",
    ">>> a / float(b)\n",
    "1.5\n",
    "```"
   ]
  },
  {
   "cell_type": "markdown",
   "metadata": {},
   "source": [
    "If you explicitly want integer division use `//`\n",
    "\n",
    "```python\n",
    ">>> 3.0 // 2\n",
    "1.0\n",
    "```"
   ]
  },
  {
   "cell_type": "markdown",
   "metadata": {},
   "source": [
    "### Containers"
   ]
  },
  {
   "cell_type": "markdown",
   "metadata": {},
   "source": [
    "Python provides many efficient types of containers, in which\n",
    "collections of objects can be stored."
   ]
  },
  {
   "cell_type": "markdown",
   "metadata": {},
   "source": [
    "#### Lists"
   ]
  },
  {
   "cell_type": "markdown",
   "metadata": {},
   "source": [
    "A list is an ordered collection of objects, that may have different\n",
    "types. For example\n",
    "\n",
    "```python\n",
    ">>> colors = ['red', 'blue', 'green', 'black', 'white']\n",
    ">>> type(colors)     # doctest +SKIP\n",
    "<type 'list'>\n",
    "```"
   ]
  },
  {
   "cell_type": "markdown",
   "metadata": {},
   "source": [
    "Indexing accessing individual objects contained in the list\n",
    "\n",
    "```python\n",
    ">>> colors[2]\n",
    "'green'\n",
    "```"
   ]
  },
  {
   "cell_type": "markdown",
   "metadata": {},
   "source": [
    "Counting from the end with negative indices\n",
    "\n",
    "```python\n",
    ">>> colors[-1]\n",
    "'white'\n",
    ">>> colors[-2]\n",
    "'black'\n",
    "```"
   ]
  },
  {
   "cell_type": "markdown",
   "metadata": {},
   "source": [
    "**warning**\n",
    "\n",
    "**Indexing starts at 0** (as in C), not at 1 (as in Fortran or Matlab)!"
   ]
  },
  {
   "cell_type": "markdown",
   "metadata": {},
   "source": [
    "Slicing obtaining sublists of regularly-spaced elements\n",
    "\n",
    "```python\n",
    ">>> colors\n",
    "['red', 'blue', 'green', 'black', 'white']\n",
    ">>> colors[24]\n",
    "['green', 'black']\n",
    "```"
   ]
  },
  {
   "cell_type": "markdown",
   "metadata": {},
   "source": [
    "**Warning**\n",
    "\n",
    "Note that `colors[startstop]` contains the elements with indices `i`\n",
    "such as  `start<= i < stop` (`i` ranging from `start` to\n",
    "`stop-1`). Therefore, `colors[startstop]` has `(stop - start)` elements."
   ]
  },
  {
   "cell_type": "markdown",
   "metadata": {},
   "source": [
    "**Slicing syntax** `colors[startstopstride]`\n",
    "\n",
    "All slicing parameters are optional:\n",
    "\n",
    "```python\n",
    ">>> colors\n",
    "['red', 'blue', 'green', 'black', 'white']\n",
    ">>> colors[3]\n",
    "['black', 'white']\n",
    ">>> colors[3]\n",
    "['red', 'blue', 'green']\n",
    ">>> colors[2]\n",
    "['red', 'green', 'white']\n",
    "```"
   ]
  },
  {
   "cell_type": "markdown",
   "metadata": {},
   "source": [
    "Lists are *mutable* objects and can be modified\n",
    "\n",
    "```python\n",
    ">>> colors[0] = 'yellow'\n",
    ">>> colors\n",
    "['yellow', 'blue', 'green', 'black', 'white']\n",
    ">>> colors[24] = ['gray', 'purple']\n",
    ">>> colors\n",
    "['yellow', 'blue', 'gray', 'purple', 'white']\n",
    "```"
   ]
  },
  {
   "cell_type": "markdown",
   "metadata": {},
   "source": [
    "**Note**\n",
    "\n",
    "The elements of a list may have different types\n",
    "\n",
    "```python\n",
    ">>> colors = [3, -200, 'hello']\n",
    ">>> colors\n",
    "[3, -200, 'hello']\n",
    ">>> colors[1], colors[2]\n",
    "(-200, 'hello')\n",
    "```"
   ]
  },
  {
   "cell_type": "markdown",
   "metadata": {},
   "source": [
    "For collections of numerical data that all have the same type, it\n",
    "is often **more efficient** to use the `array` type provided by\n",
    "the `numpy` module. A NumPy array is a chunk of memory\n",
    "containing fixed-sized items.  With NumPy arrays, operations on\n",
    "elements can be faster because elements are regularly spaced in\n",
    "memory and more operations are performed through specialized C\n",
    "functions instead of Python loops."
   ]
  },
  {
   "cell_type": "markdown",
   "metadata": {},
   "source": [
    "Python offers a large panel of functions to modify lists, or query\n",
    "them. Here are a few examples; for more details, see\n",
    "https//docs.python.org/tutorial/datastructures.html#more-on-lists"
   ]
  },
  {
   "cell_type": "markdown",
   "metadata": {},
   "source": [
    "Add and remove elements\n",
    "\n",
    "```python\n",
    ">>> colors = ['red', 'blue', 'green', 'black', 'white']\n",
    ">>> colors.append('pink')\n",
    ">>> colors\n",
    "['red', 'blue', 'green', 'black', 'white', 'pink']\n",
    ">>> colors.pop() # removes and returns the last item\n",
    "'pink'\n",
    ">>> colors\n",
    "['red', 'blue', 'green', 'black', 'white']\n",
    ">>> colors.extend(['pink', 'purple']) # extend colors, in-place\n",
    ">>> colors\n",
    "['red', 'blue', 'green', 'black', 'white', 'pink', 'purple']\n",
    ">>> colors = colors[-2]\n",
    ">>> colors\n",
    "['red', 'blue', 'green', 'black', 'white']\n",
    "```"
   ]
  },
  {
   "cell_type": "markdown",
   "metadata": {},
   "source": [
    "Reverse\n",
    "\n",
    "```python\n",
    ">>> rcolors = colors[-1]\n",
    ">>> rcolors\n",
    "['white', 'black', 'green', 'blue', 'red']\n",
    ">>> rcolors2 = list(colors) # new object that is a copy of colors in a different memory area\n",
    ">>> rcolors2\n",
    "['red', 'blue', 'green', 'black', 'white']\n",
    ">>> rcolors2.reverse() # in-place; reversing rcolors2 does not affect colors\n",
    ">>> rcolors2\n",
    "['white', 'black', 'green', 'blue', 'red']\n",
    "```"
   ]
  },
  {
   "cell_type": "markdown",
   "metadata": {},
   "source": [
    "Concatenate and repeat lists\n",
    "\n",
    "```python\n",
    ">>> rcolors + colors\n",
    "['white', 'black', 'green', 'blue', 'red', 'red', 'blue', 'green', 'black', 'white']\n",
    ">>> rcolors * 2\n",
    "['white', 'black', 'green', 'blue', 'red', 'white', 'black', 'green', 'blue', 'red']\n",
    "```"
   ]
  },
  {
   "cell_type": "markdown",
   "metadata": {},
   "source": [
    "Sort\n",
    "\n",
    "```python\n",
    ">>> sorted(rcolors) # new object\n",
    "['black', 'blue', 'green', 'red', 'white']\n",
    ">>> rcolors\n",
    "['white', 'black', 'green', 'blue', 'red']\n",
    ">>> rcolors.sort()  # in-place\n",
    ">>> rcolors\n",
    "['black', 'blue', 'green', 'red', 'white']\n",
    "```"
   ]
  },
  {
   "cell_type": "markdown",
   "metadata": {},
   "source": [
    "**Methods and Object-Oriented Programming**\n",
    "\n",
    "The notation `rcolors.method()` (e.g. `rcolors.append(3)` and `colors.pop()`) is our\n",
    "first example of object-oriented programming (OOP). Being a `list`, the\n",
    "object `rcolors` owns the *method* `function` that is called using the notation\n",
    "**.**. No further knowledge of OOP than understanding the notation **.** is\n",
    "necessary for going through this tutorial."
   ]
  },
  {
   "cell_type": "markdown",
   "metadata": {},
   "source": [
    "**Discovering methods**\n",
    "\n",
    "Reminder in Ipython tab-completion (press tab)\n",
    "\n",
    "```python\n",
    "In [28] rcolors.<TAB>\n",
    "rcolors.append   rcolors.index    rcolors.remove   \n",
    "rcolors.count    rcolors.insert   rcolors.reverse  \n",
    "rcolors.extend   rcolors.pop      rcolors.sort    \n",
    "```"
   ]
  },
  {
   "cell_type": "markdown",
   "metadata": {},
   "source": [
    "#### Strings"
   ]
  },
  {
   "cell_type": "markdown",
   "metadata": {},
   "source": [
    "Different string syntaxes (simple, double or triple quotes)\n",
    "\n",
    "```python\n",
    "s = 'Hello, how are you?'\n",
    "s = \"Hi, what's up\"\n",
    "s = '''Hello,\n",
    "   how are you'''         # tripling the quotes allows the\n",
    "                          # string to span more than one line\n",
    "s = \"\"\"Hi,\n",
    "what's up?\"\"\"\n",
    "```"
   ]
  },
  {
   "cell_type": "markdown",
   "metadata": {},
   "source": [
    "```python\n",
    "In [1] 'Hi, what's up?'\n",
    "------------------------------------------------------------\n",
    "File \"<ipython console>\", line 1\n",
    "'Hi, what's up?'\n",
    "       ^\n",
    "SyntaxError invalid syntax\n",
    "```"
   ]
  },
  {
   "cell_type": "markdown",
   "metadata": {},
   "source": [
    "This syntax error can be avoided by enclosing the string in double quotes\n",
    "instead of single quotes. Alternatively, one can prepend a backslash to the\n",
    "second single quote. Other uses of the backslash are, e.g., the newline character\n",
    "`\\n` and the tab character `\\t`."
   ]
  },
  {
   "cell_type": "markdown",
   "metadata": {},
   "source": [
    "Strings are collections like lists. Hence they can be indexed and\n",
    "sliced, using the same syntax and rules."
   ]
  },
  {
   "cell_type": "markdown",
   "metadata": {},
   "source": [
    "Indexing\n",
    "\n",
    "```python\n",
    ">>> a = \"hello\"\n",
    ">>> a[0]\n",
    "'h'\n",
    ">>> a[1]\n",
    "'e'\n",
    ">>> a[-1]\n",
    "'o'\n",
    "```"
   ]
  },
  {
   "cell_type": "markdown",
   "metadata": {},
   "source": [
    "(Remember that negative indices correspond to counting from the right\n",
    "end.)"
   ]
  },
  {
   "cell_type": "markdown",
   "metadata": {},
   "source": [
    "Slicing\n",
    "\n",
    "```python\n",
    ">>> a = \"hello, world!\"\n",
    ">>> a[36] # 3rd to 6th (excluded) elements elements 3, 4, 5\n",
    "'lo,'\n",
    ">>> a[2102] # Syntax a[startstopstep]\n",
    "'lo o'\n",
    ">>> a[3] # every three characters, from beginning to end\n",
    "'hl r!'\n",
    "```"
   ]
  },
  {
   "cell_type": "markdown",
   "metadata": {},
   "source": [
    "Accents and special characters can also be handled as in Python 3\n",
    "strings consist of Unicode characters."
   ]
  },
  {
   "cell_type": "markdown",
   "metadata": {},
   "source": [
    "A string is an **immutable object** and it is not possible to modify its\n",
    "contents. One may however create new strings from the original one.\n",
    "\n",
    "```python\n",
    "In [53] a = \"hello, world!\"\n",
    "In [54] a[2] = 'z'\n",
    "---------------------------------------------------------------------------\n",
    "Traceback (most recent call last)\n",
    "File \"<stdin>\", line 1, in <module>\n",
    "TypeError 'str' object does not support item assignment\n",
    "\n",
    "In [55] a.replace('l', 'z', 1)\n",
    "Out[55] 'hezlo, world!'\n",
    "In [56] a.replace('l', 'z')\n",
    "Out[56] 'hezzo, worzd!'\n",
    "```"
   ]
  },
  {
   "cell_type": "markdown",
   "metadata": {},
   "source": [
    "Strings have many useful methods, such as `a.replace` as seen\n",
    "above. Remember the `a.` object-oriented notation and use tab\n",
    "completion or `help(str)` to search for new methods."
   ]
  },
  {
   "cell_type": "markdown",
   "metadata": {},
   "source": [
    "**seealso**\n",
    "\n",
    "Python offers advanced possibilities for manipulating strings,\n",
    "looking for patterns or formatting. The interested reader is referred to\n",
    "https//docs.python.org/library/stdtypes.html#string-methods and\n",
    "https//docs.python.org/3/library/string.html#format-string-syntax"
   ]
  },
  {
   "cell_type": "markdown",
   "metadata": {},
   "source": [
    "String formatting\n",
    "\n",
    "```python\n",
    ">>> 'An integer %i; a float %f; another string %s' % (1, 0.1, 'string') # with more values use tuple after %\n",
    "'An integer 1; a float 0.100000; another string string'\n",
    "\n",
    ">>> i = 102\n",
    ">>> filename = 'processing_of_dataset_%d.txt' % i   # no need for tuples with just one value after %\n",
    ">>> filename\n",
    "'processing_of_dataset_102.txt'\n",
    "```"
   ]
  },
  {
   "cell_type": "markdown",
   "metadata": {},
   "source": [
    "#### Dictionaries"
   ]
  },
  {
   "cell_type": "markdown",
   "metadata": {},
   "source": [
    "A dictionary is basically an efficient table that **maps keys to\n",
    "values**. It is an **unordered** container"
   ]
  },
  {
   "cell_type": "markdown",
   "metadata": {},
   "source": [
    "```python\n",
    ">>> tel = {'emmanuelle' 5752, 'sebastian' 5578}\n",
    ">>> tel['francis'] = 5915\n",
    ">>> tel     # doctest +SKIP\n",
    "{'sebastian' 5578, 'francis' 5915, 'emmanuelle' 5752}\n",
    ">>> tel['sebastian']\n",
    "5578\n",
    ">>> tel.keys()   # doctest +SKIP\n",
    "['sebastian', 'francis', 'emmanuelle']\n",
    ">>> tel.values()   # doctest +SKIP\n",
    "[5578, 5915, 5752]\n",
    ">>> 'francis' in tel\n",
    "True\n",
    "```"
   ]
  },
  {
   "cell_type": "markdown",
   "metadata": {},
   "source": [
    "It can be used to conveniently store and retrieve values\n",
    "associated with a name (a string for a date, a name, etc.). See\n",
    "https//docs.python.org/tutorial/datastructures.html#dictionaries\n",
    "for more information."
   ]
  },
  {
   "cell_type": "markdown",
   "metadata": {},
   "source": [
    "A dictionary can have keys (resp. values) with different types\n",
    "\n",
    "```python\n",
    ">>> d = {'a'1, 'b'2, 3'hello'}\n",
    ">>> d       # doctest +SKIP\n",
    "{'a' 1, 3 'hello', 'b' 2}\n",
    "```"
   ]
  },
  {
   "cell_type": "markdown",
   "metadata": {},
   "source": [
    "#### More container types"
   ]
  },
  {
   "cell_type": "markdown",
   "metadata": {},
   "source": [
    "**Tuples**\n",
    "\n",
    "Tuples are basically immutable lists. The elements of a tuple are written\n",
    "between parentheses, or just separated by commas\n",
    "\n",
    "```python\n",
    ">>> t = 12345, 54321, 'hello!'\n",
    ">>> t[0]\n",
    "12345\n",
    ">>> t\n",
    "(12345, 54321, 'hello!')\n",
    ">>> u = (0, 2)\n",
    "```"
   ]
  },
  {
   "cell_type": "markdown",
   "metadata": {},
   "source": [
    "**Sets** unordered, unique items\n",
    "\n",
    "```python\n",
    ">>> s = set(('a', 'b', 'c', 'a'))\n",
    ">>> s    # doctest +SKIP\n",
    "set(['a', 'c', 'b'])\n",
    ">>> s.difference(('a', 'b'))    # doctest +SKIP\n",
    "set(['c'])\n",
    "```"
   ]
  },
  {
   "cell_type": "markdown",
   "metadata": {},
   "source": [
    "### List Comprehensions\n",
    "\n",
    "Instead of creating a list by means of a loop, one can make use\n",
    "of a list comprehension with a rather self-explaining syntax.\n",
    "\n",
    "```python\n",
    ">>> [i**2 for i in range(4)]\n",
    "[0, 1, 4, 9]\n",
    "```"
   ]
  }
 ],
 "metadata": {
  "kernelspec": {
   "display_name": "Python 3 (ipykernel)",
   "language": "python",
   "name": "python3"
  },
  "language_info": {
   "codemirror_mode": {
    "name": "ipython",
    "version": 3
   },
   "file_extension": ".py",
   "mimetype": "text/x-python",
   "name": "python",
   "nbconvert_exporter": "python",
   "pygments_lexer": "ipython3",
   "version": "3.9.7"
  }
 },
 "nbformat": 4,
 "nbformat_minor": 4
}
