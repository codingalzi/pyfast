{
 "cells": [
  {
   "cell_type": "markdown",
   "metadata": {},
   "source": [
    "# 데이터 과학과 파이썬"
   ]
  },
  {
   "cell_type": "markdown",
   "metadata": {},
   "source": [
    "**감사의 말**: 아래 내용은 [SciPy Lecture Notes](https://scipy-lectures.org/_downloads/ScipyLectures-simple.pdf)의 1장 내용을 많이 참고합니다. "
   ]
  },
  {
   "cell_type": "markdown",
   "metadata": {},
   "source": [
    "## Why Python?"
   ]
  },
  {
   "cell_type": "markdown",
   "metadata": {},
   "source": [
    "### The scientist's needs"
   ]
  },
  {
   "cell_type": "markdown",
   "metadata": {},
   "source": [
    "* Get data (simulation, experiment control),\n",
    "* Manipulate and process data,\n",
    "* Visualize results, quickly to understand, but also with high quality\n",
    "  figures, for reports or publications."
   ]
  },
  {
   "cell_type": "markdown",
   "metadata": {},
   "source": [
    "### Python's strengths"
   ]
  },
  {
   "cell_type": "markdown",
   "metadata": {},
   "source": [
    "* **Batteries included** Rich collection of already existing **bricks**\n",
    "  of classic numerical methods, plotting or data processing tools. We\n",
    "  don't want to re-program the plotting of a curve, a Fourier transform\n",
    "  or a fitting algorithm. Don't reinvent the wheel!\n",
    "\n",
    "* **Easy to learn** Most scientists are not payed as programmers, neither\n",
    "  have they been trained so. They need to be able to draw a curve, smooth\n",
    "  a signal, do a Fourier transform in a few minutes.\n",
    "\n",
    "* **Easy communication** To keep code alive within a lab or a company\n",
    "  it should be as readable as a book by collaborators, students, or\n",
    "  maybe customers. Python syntax is simple, avoiding strange symbols or\n",
    "  lengthy routine specifications that would divert the reader from\n",
    "  mathematical or scientific understanding of the code.\n",
    "\n",
    "* **Efficient code** Python numerical modules are computationally\n",
    "  efficient. But needless to say that a very fast code becomes useless if\n",
    "  too much time is spent writing it. Python aims for quick development\n",
    "  times and quick execution times.\n",
    "\n",
    "* **Universal** Python is a language used for many different problems.\n",
    "  Learning Python avoids learning a new software for each new problem."
   ]
  },
  {
   "cell_type": "markdown",
   "metadata": {},
   "source": [
    "### How does Python compare to other solutions?"
   ]
  },
  {
   "cell_type": "markdown",
   "metadata": {},
   "source": [
    "**Compiled languages: C, C++, Fortran, ...**\n",
    "\n",
    "Pros\n",
    "\n",
    "  * Very fast. For heavy computations, it's difficult to outperform these\n",
    "    languages.\n",
    "\n",
    "Cons\n",
    "\n",
    "  * Painful usage: no interactivity during development, mandatory\n",
    "    compilation steps, verbose syntax, manual memory management. These\n",
    "    are **difficult languages** for non programmers."
   ]
  },
  {
   "cell_type": "markdown",
   "metadata": {},
   "source": [
    "#### Matlab scripting language"
   ]
  },
  {
   "cell_type": "markdown",
   "metadata": {},
   "source": [
    "Pros\n",
    "\n",
    "  * Very rich collection of libraries with numerous algorithms, for many\n",
    "    different domains. Fast execution because these libraries are often written\n",
    "    in a compiled language.\n",
    "\n",
    "  * Pleasant development environment comprehensive and help, integrated\n",
    "    editor, etc.\n",
    "\n",
    "  * Commercial support is available.\n",
    "\n",
    "Cons\n",
    "\n",
    "  * Base language is quite poor and can become restrictive for advanced users.\n",
    "\n",
    "  * Not free."
   ]
  },
  {
   "cell_type": "markdown",
   "metadata": {},
   "source": [
    "#### Julia"
   ]
  },
  {
   "cell_type": "markdown",
   "metadata": {},
   "source": [
    "Pros\n",
    "\n",
    "  * Fast code, yet interactive and simple.\n",
    "\n",
    "  * Easily connects to Python or C.\n",
    "\n",
    "Cons\n",
    "\n",
    "  * Ecosystem limited to numerical computing.\n",
    "\n",
    "  * Still young."
   ]
  },
  {
   "cell_type": "markdown",
   "metadata": {},
   "source": [
    "#### Other scripting languages: Scilab, Octave, R, IDL, etc."
   ]
  },
  {
   "cell_type": "markdown",
   "metadata": {},
   "source": [
    "Pros\n",
    "\n",
    "  * Open-source, free, or at least cheaper than Matlab.\n",
    "\n",
    "  * Some features can be very advanced (statistics in R, etc.)\n",
    "\n",
    "Cons\n",
    "\n",
    "  * Fewer available algorithms than in Matlab, and the language\n",
    "    is not more advanced.\n",
    "\n",
    "  * Some software are dedicated to one domain. Ex: Gnuplot to draw\n",
    "    curves. These programs are very powerful, but they are restricted to\n",
    "    a single type of usage, such as plotting."
   ]
  },
  {
   "cell_type": "markdown",
   "metadata": {},
   "source": [
    "#### Python"
   ]
  },
  {
   "cell_type": "markdown",
   "metadata": {},
   "source": [
    "Pros\n",
    "\n",
    "  * Very rich scientific computing libraries\n",
    "\n",
    "  * Well thought out language, allowing to write very readable and well\n",
    "    structured code: we \"code what we think\".\n",
    "\n",
    "  * Many libraries beyond scientific computing (web server,\n",
    "    serial port access, etc.)\n",
    "\n",
    "  * Free and open-source software, widely spread, with a vibrant community.\n",
    "\n",
    "  * A variety of powerful environments to work in, such as\n",
    "    [IPython](http://ipython.readthedocs.io/en/stable/),\n",
    "    [Spyder](https://www.spyder-ide.org/),\n",
    "    [Jupyter notebooks](http://jupyter.org/),\n",
    "    [Pycharm](https://www.jetbrains.com/pycharm),\n",
    "    [Visual Studio Code](https://code.visualstudio.com/docs/languages/python)\n",
    "\n",
    "Cons\n",
    "\n",
    "  * Not all the algorithms that can be found in more specialized\n",
    "    software or toolboxes."
   ]
  },
  {
   "cell_type": "markdown",
   "metadata": {},
   "source": [
    "## The Scientific Python ecosystem"
   ]
  },
  {
   "cell_type": "markdown",
   "metadata": {},
   "source": [
    "Unlike Matlab, or R, Python does not come with a prebundled set\n",
    "of modules for scientific computing. Below are the basic building blocks\n",
    "that can be combined to obtain a scientific computing environment:"
   ]
  },
  {
   "cell_type": "markdown",
   "metadata": {},
   "source": [
    "**Python**, a generic and modern computing language\n",
    "\n",
    "* The language: flow control, data types (`string`, `int`),\n",
    "  data collections (lists, dictionaries), etc.\n",
    "\n",
    "* Modules of the standard library: string processing, file\n",
    "  management, simple network protocols.\n",
    "\n",
    "* A large number of specialized modules or applications written in\n",
    "  Python: web framework, etc. ... and scientific\n",
    "  computing.\n",
    "\n",
    "* Development tools (automatic testing, documentation generation)\n",
    "\n",
    "**참고**: `<python_language_chapter>`"
   ]
  },
  {
   "cell_type": "markdown",
   "metadata": {},
   "source": [
    "<div align=\"center\"><img src=\"https://github.com/codingalzi/pyfast/blob/master/notebooks/images/random_c.jpg?raw=true\" width=\"50%\"></div>"
   ]
  },
  {
   "cell_type": "markdown",
   "metadata": {},
   "source": [
    "**Core numeric libraries**\n",
    "\n",
    "* **Numpy**: numerical computing with powerful **numerical arrays**\n",
    "  objects, and routines to manipulate them. [http://www.numpy.org/](http://www.numpy.org/)\n",
    "\n",
    "**참고**: `<numpy>`\n",
    "\n",
    "* **Scipy** : highlevel numerical routines.\n",
    "  Optimization, regression, interpolation, etc [http://www.scipy.org/](http://www.scipy.org/)\n",
    "\n",
    "**참고**: `<scipy>`\n",
    "\n",
    "* **Matplotlib** : 2D visualization, \"publicationready\" plots\n",
    "  [http://matplotlib.org/](http://matplotlib.org/)\n",
    "\n",
    "**참고**: `<matplotlib>`"
   ]
  },
  {
   "cell_type": "markdown",
   "metadata": {},
   "source": [
    "<div align=\"center\"><img src=\"https://github.com/codingalzi/pyfast/blob/master/notebooks/images/snapshot_ipython.png?raw=true\" width=\"50%\"></div>"
   ]
  },
  {
   "cell_type": "markdown",
   "metadata": {},
   "source": [
    "**Advanced interactive environments**:\n",
    "\n",
    "* **IPython**, an advanced **Python console** [http://ipython.org/](http://ipython.org/)\n",
    "\n",
    "* **Jupyter**, **notebooks** in the browser [http://jupyter.org/](http://jupyter.org/)"
   ]
  },
  {
   "cell_type": "markdown",
   "metadata": {},
   "source": [
    "<div align=\"center\"><img src=\"https://github.com/codingalzi/pyfast/blob/master/notebooks/images/example_surface_from_irregular_data.jpg?raw=true\" width=\"50%\"></div>"
   ]
  },
  {
   "cell_type": "markdown",
   "metadata": {},
   "source": [
    "**Domainspecific packages**,\n",
    "\n",
    "* **Mayavi** for 3D visualization (link to chapter `mayavilabel`)\n",
    "\n",
    "* **pandas, statsmodels, seaborn** for statistics (link to chapter `statistics`)\n",
    "\n",
    "* **sympy** for symbolic computing (link to chapter `sympy`)\n",
    "\n",
    "* **scikitimage** for image processing (link to chapter `scikit_image`)\n",
    "\n",
    "* **scikitlearn** for machine learning (link to chapter `scikitlearn_chapter`)\n",
    "\n",
    "and much more packages not documented in the scipy lectures.\n",
    "\n",
    "**참고**: chapters on advanced topics, chapters on packages and applications"
   ]
  },
  {
   "cell_type": "markdown",
   "metadata": {},
   "source": [
    "## Before starting: Installing a working environment"
   ]
  },
  {
   "cell_type": "markdown",
   "metadata": {},
   "source": [
    "Python comes in many flavors, and there are many ways to install it.\n",
    "However, we recommend to install a scientificcomputing distribution,\n",
    "that comes readily with optimized versions of scientific modules.\n",
    "\n",
    "**Under Linux**\n",
    "\n",
    "If you have a recent distribution, most of the tools are probably\n",
    "packaged, and it is recommended to use your package manager.\n",
    "\n",
    "**Other systems**\n",
    "\n",
    "There are several fullyfeatured Scientific Python distributions:\n",
    "\n",
    "* [Anaconda](https://www.anaconda.com/download/)\n",
    "* [EPD](https://store.enthought.com/downloads)\n",
    "* [WinPython](https://winpython.github.io)"
   ]
  },
  {
   "cell_type": "markdown",
   "metadata": {},
   "source": [
    "## The workflow: interactive environments and text editors"
   ]
  },
  {
   "cell_type": "markdown",
   "metadata": {},
   "source": [
    "**Interactive work to test and understand algorithms:** In this section, we\n",
    "describe a workflow combining interactive work and consolidation.\n",
    "\n",
    "Python is a generalpurpose language. As such, there is not one blessed\n",
    "environment to work in, and not only one way of using it. Although\n",
    "this makes it harder for beginners to find their way, it makes it\n",
    "possible for Python to be used for programs, in web servers, or\n",
    "embedded devices."
   ]
  },
  {
   "cell_type": "markdown",
   "metadata": {},
   "source": [
    "### Interactive work"
   ]
  },
  {
   "cell_type": "markdown",
   "metadata": {},
   "source": [
    "We recommend an interactive work with the \n",
    "[IPython](http://ipython.org) console, or its offspring, the \n",
    "[Jupyter notebook](http://jupyter.readthedocs.io/en/latest/contentquickstart.html). They are handy to explore and understand algorithms."
   ]
  },
  {
   "cell_type": "markdown",
   "metadata": {},
   "source": [
    "**Under the notebook**\n",
    "\n",
    "To execute code, press \"shift enter\""
   ]
  },
  {
   "cell_type": "markdown",
   "metadata": {},
   "source": [
    "Start *ipython*:\n",
    "\n",
    "```\n",
    "In [1]: print('Hello world')\n",
    "Hello world\n",
    "```"
   ]
  },
  {
   "cell_type": "markdown",
   "metadata": {},
   "source": [
    "Getting help by using the **?** operator after an object:"
   ]
  },
  {
   "cell_type": "markdown",
   "metadata": {},
   "source": [
    "```\n",
    "In [2]: print?\n",
    "Docstring:\n",
    "print(value, ..., sep=' ', end='\\n', file=sys.stdout, flush=False)\n",
    "\n",
    "Prints the values to a stream, or to sys.stdout by default.\n",
    "Optional keyword arguments:\n",
    "file:  a file-like object (stream); defaults to the current sys.stdout.\n",
    "sep:   string inserted between values, default a space.\n",
    "end:   string appended after the last value, default a newline.\n",
    "flush: whether to forcibly flush the stream.\n",
    "Type:      builtin_function_or_method\n",
    "```"
   ]
  },
  {
   "cell_type": "markdown",
   "metadata": {},
   "source": [
    "**참고**\n",
    "\n",
    "* IPython user manual: [https://ipython.readthedocs.io/en/stable/](https://ipython.readthedocs.io/en/stable/)\n",
    "\n",
    "* Jupyter Notebook QuickStart:\n",
    "  [http://jupyter.readthedocs.io/en/latest/contentquickstart.html](http://jupyter.readthedocs.io/en/latest/contentquickstart.html)"
   ]
  },
  {
   "cell_type": "markdown",
   "metadata": {},
   "source": [
    "### Elaboration of the work in an editor"
   ]
  },
  {
   "cell_type": "markdown",
   "metadata": {},
   "source": [
    "As you move forward, it will be important to not only work interactively,\n",
    "but also to create and reuse Python files. For this, a powerful code editor\n",
    "will get you far. Here are several good easytouse editors:\n",
    "\n",
    "  * [Spyder](https://www.spyderide.org/): integrates an IPython\n",
    "    console, a debugger, a profiler...\n",
    "  * [PyCharm](https://www.jetbrains.com/pycharm): integrates an IPython\n",
    "    console, notebooks, a debugger... (freely available,\n",
    "    but commercial)\n",
    "  * [Visual Studio Code](https://code.visualstudio.com/docs/languages/python):\n",
    "    integrates a Python console, notebooks, a debugger, ...\n",
    "  * [Atom](https://atom.io)\n",
    "\n",
    "Some of these are shipped by the various scientific Python distributions,\n",
    "and you can find them in the menus."
   ]
  },
  {
   "cell_type": "markdown",
   "metadata": {},
   "source": [
    "As an exercise, create a file *my_file.py* in a code editor, and add the\n",
    "following lines:\n",
    "\n",
    "```\n",
    "s = 'Hello world'\n",
    "print(s)\n",
    "```"
   ]
  },
  {
   "cell_type": "markdown",
   "metadata": {},
   "source": [
    "Now, you can run it in IPython console or a notebook and explore the\n",
    "resulting variables:"
   ]
  },
  {
   "cell_type": "markdown",
   "metadata": {},
   "source": [
    "```\n",
    "In [1]: %run my_file.py\n",
    "Hello world\n",
    "\n",
    "In [2]: s\n",
    "Out[2]: 'Hello world'\n",
    "\n",
    "In [3]: %whos\n",
    "Variable   Type    Data/Info\n",
    "----------------------------\n",
    "s          str     Hello world\n",
    "```"
   ]
  },
  {
   "cell_type": "markdown",
   "metadata": {},
   "source": [
    "```{seealso}\n",
    "\n",
    "**From a script to functions**\n",
    "\n",
    "While it is tempting to work only with scripts, that is a file full\n",
    "of instructions following each other, do plan to progressively evolve\n",
    "the script to a set of functions:\n",
    "\n",
    "* A script is not reusable, functions are.\n",
    "\n",
    "* Thinking in terms of functions helps breaking the problem in small\n",
    "  blocks.\n",
    "```"
   ]
  },
  {
   "cell_type": "markdown",
   "metadata": {},
   "source": [
    "### IPython and Jupyter Tips and Tricks"
   ]
  },
  {
   "cell_type": "markdown",
   "metadata": {},
   "source": [
    "The user manuals contain a wealth of information. Here we give a quick\n",
    "introduction to four useful features: *history*, *tab completion*, *magic\n",
    "functions*, and *aliases*."
   ]
  },
  {
   "cell_type": "markdown",
   "metadata": {},
   "source": [
    "**Command history** Like a UNIX shell, the IPython console supports\n",
    "command history. Type *up* and *down* to navigate previously typed\n",
    "commands:"
   ]
  },
  {
   "cell_type": "markdown",
   "metadata": {},
   "source": [
    "```\n",
    "In [1]: x = 10\n",
    "\n",
    "In [2]: <UP>\n",
    "\n",
    "In [2]: x = 10\n",
    "```"
   ]
  },
  {
   "cell_type": "markdown",
   "metadata": {},
   "source": [
    "**Tab completion** Tab completion, is a convenient way to explore the\n",
    "structure of any object you’re dealing with. Simply type object_name.<TAB> to\n",
    "view the object’s attributes. Besides Python objects and keywords, tab\n",
    "completion also works on file and directory names.*"
   ]
  },
  {
   "cell_type": "markdown",
   "metadata": {},
   "source": [
    "```\n",
    "In [1]: x = 10\n",
    "\n",
    "In [2]: x.<TAB>\n",
    "x.bit_length   x.denominator  x.imag         x.real\n",
    "x.conjugate    x.from_bytes   x.numerator    x.to_bytes\n",
    "```"
   ]
  },
  {
   "cell_type": "markdown",
   "metadata": {},
   "source": [
    "**Magic functions**\n",
    "The console and the notebooks support socalled *magic* functions by prefixing a command with the\n",
    "`%` character. For example, the `run` and `whos` functions from the\n",
    "previous section are magic functions. Note that, the setting `automagic`,\n",
    "which is enabled by default, allows you to omit the preceding `%` sign. Thus,\n",
    "you can just type the magic function and it will work.\n",
    "\n",
    "Other useful magic functions are:\n",
    "\n",
    "* `%cd` to change the current directory.\n",
    "\n",
    "    ```\n",
    "    In [1]: cd /tmp\n",
    "    /tmp\n",
    "    ```\n",
    "\n",
    "* `%cpaste` allows you to paste code, especially code from websites which has\n",
    "  been prefixed with the standard Python prompt (e.g. `>>>`) or with an ipython\n",
    "  prompt, (e.g. `in [3]`):\n",
    "\n",
    "    ```\n",
    "    In [2]: %cpaste\n",
    "    Pasting code; enter '' alone on the line to stop or use CtrlD.\n",
    "    :>>> for i in range(3):\n",
    "    :...     print(i)\n",
    "    :--\n",
    "    0\n",
    "    1\n",
    "    2\n",
    "    ```\n",
    "    \n",
    "* `%timeit` allows you to time the execution of short snippets using the\n",
    "  `timeit` module from the standard library:\n",
    "\n",
    "    ```\n",
    "    In [3]: %timeit x = 10\n",
    "    10000000 loops, best of 3: 39 ns per loop\n",
    "    ```\n",
    "    \n",
    "    **참고**: `<optimizing_code_chapter>`\n",
    "\n",
    "* `%debug` allows you to enter postmortem debugging. That is to say, if the\n",
    "  code you try to execute, raises an exception, using `%debug` will enter the\n",
    "  debugger at the point where the exception was thrown.\n",
    "\n",
    "    ```\n",
    "    In [4]: x === 10\n",
    "    File \"<ipythoninput612fd421b5f28>\", line 1\n",
    "        x === 10\n",
    "        ^\n",
    "    SyntaxError: invalid syntax\n",
    "\n",
    "    In [5]: %debug\n",
    "    > /.../IPython/core/compilerop.py (87)ast_parse()\n",
    "         86         and are passed to the builtin compile function.\"\"\"\n",
    "    ---> 87         return compile(source, filename, symbol, self.flags  PyCF_ONLY_AST, 1)\n",
    "         88\n",
    "\n",
    "    ipdb>locals()\n",
    "    {'source': u'x === 10\\n', 'symbol': 'exec', 'self':\n",
    "    <IPython.core.compilerop.CachingCompiler instance at 0x2ad8ef0>,\n",
    "    'filename': '<ipythoninput612fd421b5f28>'}\n",
    "    ```\n",
    "\n",
    "    **참고**: `<debugging_chapter>`"
   ]
  },
  {
   "cell_type": "markdown",
   "metadata": {},
   "source": [
    "**Aliases**\n",
    "Furthermore IPython ships with various *aliases* which emulate common UNIX\n",
    "command line tools such as `ls` to list files, `cp` to copy files and `rm` to\n",
    "remove files (a full list of aliases is shown when typing `alias`)."
   ]
  },
  {
   "cell_type": "markdown",
   "metadata": {},
   "source": [
    "**Getting help**\n",
    "\n",
    "* The builtin cheatsheet is accessible via the `%quickref` magic\n",
    "    function.\n",
    "\n",
    "* A list of all available magic functions is shown when typing `%magic`."
   ]
  }
 ],
 "metadata": {
  "kernelspec": {
   "display_name": "Python 3 (ipykernel)",
   "language": "python",
   "name": "python3"
  },
  "language_info": {
   "codemirror_mode": {
    "name": "ipython",
    "version": 3
   },
   "file_extension": ".py",
   "mimetype": "text/x-python",
   "name": "python",
   "nbconvert_exporter": "python",
   "pygments_lexer": "ipython3",
   "version": "3.9.7"
  }
 },
 "nbformat": 4,
 "nbformat_minor": 4
}