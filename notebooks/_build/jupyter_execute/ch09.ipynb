{
 "cells": [
  {
   "cell_type": "markdown",
   "metadata": {},
   "source": [
    "(ch:recursion)=\n",
    "# 재귀 함수"
   ]
  },
  {
   "cell_type": "markdown",
   "metadata": {},
   "source": [
    "하나의 함수가 실행되는 동안 다른 함수를 호출할 수 있으며 \n",
    "심지어 실행되는 함수 자신을 다시 호출할 수 있다. \n",
    "예를 들어 아래 `countdown()` 함수의 본문에 현재 정의되고 있는 자신에 대한 호출이 포함되어 있다."
   ]
  },
  {
   "cell_type": "code",
   "execution_count": 1,
   "metadata": {},
   "outputs": [],
   "source": [
    "def countdown(n):\n",
    "    if n <= 0:\n",
    "        print('발사!')\n",
    "    else:\n",
    "        print(n)\n",
    "        countdown(n-1)"
   ]
  },
  {
   "cell_type": "markdown",
   "metadata": {},
   "source": [
    "`countdown()` 함수의 작동 방식은 다음과 같다.\n",
    "\n",
    "- `n` 이 0 이하인 경우: `'발사!'` 출력\n",
    "- `n` 이 양의 정수인 경우: `n`을 출력한 다음 바로 `countdown(n-1)` 호출.\n",
    "    \n",
    "`n` 이 양수인 경우 동일한 함수가 호출되지만 인자가 1적어 지고 결국 `n`이 되어\n",
    "더 이상의 함수 호출이 없어 실행이 멈춘다.\n",
    "예를 들어 `countdown(3)`을 호출하면 다음처럼 실행된다."
   ]
  },
  {
   "cell_type": "code",
   "execution_count": 2,
   "metadata": {},
   "outputs": [
    {
     "name": "stdout",
     "output_type": "stream",
     "text": [
      "3\n",
      "2\n",
      "1\n",
      "발사!\n"
     ]
    }
   ],
   "source": [
    "countdown(3)"
   ]
  },
  {
   "cell_type": "markdown",
   "metadata": {},
   "source": [
    "함수 본문에 자신을 호출하는 함수를 기능을 **재귀**<font size=\"2\">recursion</font>라 하며,\n",
    "**재귀 함수**<font size=\"2\">recursive function</font>는 재귀를 활용하는 함수이다."
   ]
  },
  {
   "cell_type": "markdown",
   "metadata": {},
   "source": [
    "## 재귀 함수의 콜 스택"
   ]
  },
  {
   "cell_type": "markdown",
   "metadata": {},
   "source": [
    "재귀 함수의 실행과정 동안 많은 프레임의 생성과 소멸이 발생하여\n",
    "콜 스택의 변화가 경우에 따라 매우 복잡해지기도 한다.\n",
    "아래 그림은 `countdown(3)`을 호출했을 때의 콜 스택의 상태를 스택 다이어그램으로 보여준다."
   ]
  },
  {
   "cell_type": "markdown",
   "metadata": {},
   "source": [
    "<div align=\"center\"><img src=\"https://raw.githubusercontent.com/codingalzi/pybook/master/notebooks/images/count_down.jpg\" style=\"width:300px;\"></div>"
   ]
  },
  {
   "cell_type": "markdown",
   "metadata": {},
   "source": [
    "예를 들어,\n",
    "[PythonTutor: 콜라츠 추측](http://pythontutor.com/visualize.html#code=def%20collatz%28num%29%3A%0A%20%20%20%20if%20num%20%3D%3D%201%3A%0A%20%20%20%20%20%20%20%20print%28num%29%0A%20%20%20%20%20%20%20%20return%200%0A%20%20%20%20elif%20num%252%20%3D%3D%200%3A%0A%20%20%20%20%20%20%20%20print%28num,%20end%3D',%20'%29%0A%20%20%20%20%20%20%20%20return%20collatz%28num//2%29%20%2B%201%0A%20%20%20%20else%3A%0A%20%20%20%20%20%20%20%20print%28num,%20end%3D',%20'%29%0A%20%20%20%20%20%20%20%20return%20collatz%28num*3%20%2B%201%29%20%2B%201%0A%20%20%20%20%20%20%20%20%0Acollatz%287%29&cumulative=false&curInstr=0&heapPrimitives=nevernest&mode=display&origin=opt-frontend.js&py=3&rawInputLstJSON=%5B%5D&textReferences=false)에서\n",
    "재귀 함수 호출 과정 동안 메모리에서 벌어지는 프레임의 생성과 소멸 과정,\n",
    "즉, 콜 스택의 변화를 살펴볼 수 있다."
   ]
  },
  {
   "cell_type": "markdown",
   "metadata": {},
   "source": [
    "## 기저 조건과 무한 재귀"
   ]
  },
  {
   "cell_type": "markdown",
   "metadata": {},
   "source": [
    "재귀 함수의 실행이 멈추려면 재귀 호출 과정에서 언젠가는 더 이상 자신을 호출하지 않아야 한다.\n",
    "`countdown()` 함수는 `0`과 함께 호출될 때 더 이상 재귀 호출을 하지 않는다. \n",
    "이렇게 더 이상 재귀 호출이 발생하지 않도록 하는 경우를 \n",
    "**기저 조건**<font size=\"2\">base case</font>이라 한다.\n",
    "즉, `countdown()` 함수의 기저 조건은 `n = 0`이다.\n",
    "\n",
    "반면에 아래 함수는 기저 조건을 갖지 않는다. \n",
    "\n",
    "```python\n",
    "def count_infinitely(n):\n",
    "    print(n)\n",
    "    count_finitely(n+1)\n",
    "```\n",
    "\n",
    "`count_infinitely()` 함수를 호출하면 재귀 호출이 무한정 반복됨을 쉽게 알 수 있다.\n",
    "하지만 파이썬을 포함해서 대부분의 프로그래밍 언어는 재귀 호출의 무한 반복을 허용하지 않고\n",
    "언젠가 아래와 같은 오류를 발생시키면서 실행을 중지시킨다. \n",
    "\n",
    "```python\n",
    "Traceback (most recent call last):\n",
    "  File \"<stdin>\", line 1, in <module>\n",
    "  File \"<stdin>\", line 3, in count_infinitely\n",
    "  File \"<stdin>\", line 3, in count_infinitely\n",
    "  File \"<stdin>\", line 3, in count_infinitely\n",
    "  [Previous line repeated 992 more times]\n",
    "  File \"<stdin>\", line 2, in count_infinitely\n",
    "RecursionError: maximum recursion depth exceeded while calling a Python object\n",
    "```"
   ]
  },
  {
   "cell_type": "markdown",
   "metadata": {},
   "source": [
    ":::{admonition} 최대 재귀 한도\n",
    ":class: info\n",
    "\n",
    "파이썬은 **최대 재귀 한도**<font size=\"2\">Maximum recursion depth</font>를 정해\n",
    "허용되는 재귀 호출의 최대 반복 횟수를 지정한다. \n",
    "한도는 파이썬 버전과 운영체제 등에 따라 다를 수 있으며\n",
    "필요에 따라 조정하는 것도 가능하다.\n",
    "\n",
    "사용하는 파이썬의 최대 재귀 한도는 다음 명령문으로 확인할 수 있다.\n",
    "```python\n",
    ">>> import sys\n",
    ">>> print(sys.getrecursionlimit())\n",
    "```\n",
    ":::"
   ]
  },
  {
   "cell_type": "markdown",
   "metadata": {},
   "source": [
    "재귀 함수를 실행해서 무한 반복에 빠지거나 최대 재귀 한도를 벗어났다는\n",
    "오류 메시지가 발생하면 다음 두 가지 사항을 확인해야 한다.\n",
    "\n",
    "- 기저 조건이 주어졌는가?\n",
    "- 어떠한 경우에도 기저 조건에 다달하는가?\n",
    "\n",
    "하나라도 충족되지 않거나 확인할 수 없다면 해당 재귀 함수의 활용에 매우 \n",
    "주의를 기울여야 한다."
   ]
  },
  {
   "cell_type": "markdown",
   "metadata": {},
   "source": [
    "## `return` 명령문"
   ]
  },
  {
   "cell_type": "markdown",
   "metadata": {},
   "source": [
    "함수의 본문에 함수의 반환값을 지정하는 `return 표현식`이 여러 번\n",
    "사용될 수 있다.\n",
    "예를 들어 짝수이면 0, 홀수이면 1을 반환하는 함수는 다음과 같이 정의한다."
   ]
  },
  {
   "cell_type": "code",
   "execution_count": 3,
   "metadata": {},
   "outputs": [],
   "source": [
    "def even_odd(n):\n",
    "    if n % 2 == 0:\n",
    "        return 0\n",
    "    else:\n",
    "        return 1"
   ]
  },
  {
   "cell_type": "code",
   "execution_count": 4,
   "metadata": {},
   "outputs": [
    {
     "data": {
      "text/plain": [
       "0"
      ]
     },
     "execution_count": 4,
     "metadata": {},
     "output_type": "execute_result"
    }
   ],
   "source": [
    "even_odd(8)"
   ]
  },
  {
   "cell_type": "code",
   "execution_count": 5,
   "metadata": {},
   "outputs": [
    {
     "data": {
      "text/plain": [
       "1"
      ]
     },
     "execution_count": 5,
     "metadata": {},
     "output_type": "execute_result"
    }
   ],
   "source": [
    "even_odd(3)"
   ]
  },
  {
   "cell_type": "markdown",
   "metadata": {},
   "source": [
    "파이썬 프로그램은 함수 실행 중에 `return 표현식` 명령문을 만나면\n",
    "`표현식`의 값을 반환하면서 동시에 함수의 실행을 멈춘다.\n",
    "따라서 함수 본문에 `return` 명령문이 여러 번 사용되었다 하더라도\n",
    "한 번만 실행되며, 결국 하나의 반환값만 지정된다.\n",
    "\n",
    "재귀 함수에 대해서도 동일하게 적용된다.\n",
    "다음 `countdown_num()` 함수는 카운트 다운 횟수를 반환한다.\n",
    "인자로 0을 사용하면 바로 0을 반환값으로 지정하고\n",
    "이후 명령문을 더 이상 실행하지 않고 바로 종료한다."
   ]
  },
  {
   "cell_type": "code",
   "execution_count": 6,
   "metadata": {},
   "outputs": [],
   "source": [
    "def countdown_num(n):\n",
    "    if n <= 0:\n",
    "        return 0\n",
    "    else:\n",
    "        print(n, '이(가) 양수인 경우!')\n",
    "        result = countdown_num(n-1) + 1\n",
    "        return result"
   ]
  },
  {
   "cell_type": "code",
   "execution_count": 7,
   "metadata": {},
   "outputs": [
    {
     "name": "stdout",
     "output_type": "stream",
     "text": [
      "반환값: 0\n"
     ]
    }
   ],
   "source": [
    "print('반환값:', countdown_num(0))"
   ]
  },
  {
   "cell_type": "markdown",
   "metadata": {},
   "source": [
    "하지만 `n`이 `0`보다 크면 `countdown_num(n-1)` 이 \n",
    "재귀적으로 호출되어 실행이 종료할 때까지 기다렸다가\n",
    "반환값을 받아 `result`가 가리키는 값을 지정한다.\n",
    "\n",
    "`n = 1`이면 재귀 호출이 한 번 발생하며\n",
    "재귀 호출된 `countdown_num(0)`은 `0`을 반환하며 종료된다.\n",
    "따라서 `result = 0 + 1`이 실행되어 최종적으로 `1`을 반환한다."
   ]
  },
  {
   "cell_type": "code",
   "execution_count": 8,
   "metadata": {},
   "outputs": [
    {
     "name": "stdout",
     "output_type": "stream",
     "text": [
      "1 이(가) 양수인 경우!\n",
      "반환값: 1\n"
     ]
    }
   ],
   "source": [
    "print('반환값:', countdown_num(1))"
   ]
  },
  {
   "cell_type": "markdown",
   "metadata": {},
   "source": [
    "일반적으로 `n = k`이면 재귀 호출이 `k-1` 번 발생하며\n",
    "재귀적으로 호출된 역순으로 계산된 값을 반환하며 실행을 종료한다."
   ]
  },
  {
   "cell_type": "code",
   "execution_count": 9,
   "metadata": {},
   "outputs": [
    {
     "name": "stdout",
     "output_type": "stream",
     "text": [
      "2 이(가) 양수인 경우!\n",
      "1 이(가) 양수인 경우!\n",
      "반환값: 2\n"
     ]
    }
   ],
   "source": [
    "print('반환값:', countdown_num(2))"
   ]
  },
  {
   "cell_type": "code",
   "execution_count": 10,
   "metadata": {},
   "outputs": [
    {
     "name": "stdout",
     "output_type": "stream",
     "text": [
      "3 이(가) 양수인 경우!\n",
      "2 이(가) 양수인 경우!\n",
      "1 이(가) 양수인 경우!\n",
      "반환값: 3\n"
     ]
    }
   ],
   "source": [
    "print('반환값:', countdown_num(3))"
   ]
  },
  {
   "cell_type": "markdown",
   "metadata": {},
   "source": [
    "## 재귀 수학 함수 예제"
   ]
  },
  {
   "cell_type": "markdown",
   "metadata": {},
   "source": [
    "재귀 함수로 구현될 수 있는 세 개의 수학 함수를 살펴본다."
   ]
  },
  {
   "cell_type": "markdown",
   "metadata": {},
   "source": [
    "### 계승"
   ]
  },
  {
   "cell_type": "markdown",
   "metadata": {},
   "source": [
    "음이 아닌 정수 $n$이 주어졌을 때 1부터 $n$ 까지의 곱을 $n$의 계승 또는 \n",
    "팩토리얼<font size=\"2\">factorial</font>이라 하고 $n!$로 표시한다. \n",
    "\n",
    "$$\n",
    "\\begin{align*}\n",
    "0! & = 1 \\\\\n",
    "n! & = n \\, (n-1)!\\quad\\text{단, $n>0$.}\n",
    "\\end{align*}\n",
    "$$\n",
    "\n",
    "계승을 계산하는 함수 `factorial()` 을 재귀로 구현할 수 있다.\n",
    "\n",
    "- 기저 조건은 `n == 0`이고, 1을 반환한다. \n",
    "- `n`이 0보다 크면 `(n-1)`의 계승과 `n`을 곱합 값을 반환한다."
   ]
  },
  {
   "cell_type": "code",
   "execution_count": 11,
   "metadata": {},
   "outputs": [],
   "source": [
    "def factorial(n):\n",
    "    if n == 0:                            # 기저 조건\n",
    "        return 1\n",
    "    else:\n",
    "        recursion_step = factorial(n-1)   # (n-1)의 계승\n",
    "        result = n * recursion_step\n",
    "        return result"
   ]
  },
  {
   "cell_type": "markdown",
   "metadata": {},
   "source": [
    "### 피보나치 수열"
   ]
  },
  {
   "cell_type": "markdown",
   "metadata": {},
   "source": [
    "**피보나치 수열**<font size=\"2\">Fibonacci sequence</font>은 \n",
    "처음엔 1과 1로 시작한 후에 이후의 항목은 이전 두 개의 항목의 합으로 생성된다.\n",
    "\n",
    "    1, 1, 2, 3, 5, 8, 13, 21, 34, 55, ...\n",
    "\n",
    "피보나치 수열의 두 항목의 관계 점화식은 다음과 같다.\n",
    "\n",
    "$$\n",
    "\\begin{align*}\n",
    "f_0 & = 1 \\\\\n",
    "f_1 & = 1 \\\\\n",
    "f_n & = f_{n-1} + f_{n-2} \\quad \\text{단, $n \\ge 2$.}\n",
    "\\end{align*}\n",
    "$$"
   ]
  },
  {
   "cell_type": "markdown",
   "metadata": {},
   "source": [
    "점화식이 알려진 수열의 $n$ 번째 항목을 생성하는 \n",
    "함수는 기본적으로 재귀로 쉽게 구현할 수 있다.\n",
    "피보나치 수열의 `n` 번째 값을 구하는 함수는 다음과 같다."
   ]
  },
  {
   "cell_type": "code",
   "execution_count": 12,
   "metadata": {},
   "outputs": [],
   "source": [
    "def fibonacci(n):\n",
    "    if n == 0:\n",
    "        return 1\n",
    "    elif  n == 1:\n",
    "        return 1\n",
    "    else:                                        # n >= 2 인 경우\n",
    "        return fibonacci(n-1) + fibonacci(n-2)"
   ]
  },
  {
   "cell_type": "markdown",
   "metadata": {},
   "source": [
    "피보나치 수열의 처음 10개 항목은 다음과 같다."
   ]
  },
  {
   "cell_type": "code",
   "execution_count": 13,
   "metadata": {},
   "outputs": [
    {
     "name": "stdout",
     "output_type": "stream",
     "text": [
      "1, 1, 2, 3, 5, 8, 13, 21, 34, 55, ...\n"
     ]
    }
   ],
   "source": [
    "for n in range(10):\n",
    "    print(fibonacci(n), end=', ')\n",
    "\n",
    "print('...')"
   ]
  },
  {
   "cell_type": "markdown",
   "metadata": {},
   "source": [
    ":::{admonition} 인덱스의 시작\n",
    ":class: info\n",
    "\n",
    "프로그래밍에서는 관습적으로 순서를 1번부터가 아닌 0번부터 시작한다. \n",
    "따라서 피보나치 수열의 0번과 1번 값이 1, 2번 값은 2, 3번 값은 3 등이 된다.\n",
    ":::"
   ]
  },
  {
   "cell_type": "markdown",
   "metadata": {},
   "source": [
    "(sec:collatz)=\n",
    "### 콜라츠 추측"
   ]
  },
  {
   "cell_type": "markdown",
   "metadata": {},
   "source": [
    "독일 수학자 콜라츠(Collatz -> L.)가 1937년에 아래 알고리즘을\n",
    "얼마나 많이 반복하면 최종적으로 숫자 1에 다다를 것인가를 질문했다.\n",
    "\n",
    "* 주어진 숫자가 짝수면 2로 나눈다.\n",
    "* 주어진 숫자가 홀수면 3배한 후 1을 더한다.\n",
    "\n",
    "실제로 숫자 7부터 시작해서 위 과정을 16번 반복하면 1에 다다른다. \n",
    "\n",
    "    7 -> 22 -> 11 -> 34 -> 17 -> 52 -> 26 -> 13 -> 40 -> 20 -> 10 -> 5 -> 16 -> 8 -> 4 -> 2 -> 1\n",
    "    \n",
    "반면에 숫자 128부터 시작하면 7번만 반복하면 된다.\n",
    "\n",
    "    128 -> 64 -> 32 -> 16 -> 8 -> 4 -> 2 -> 1    "
   ]
  },
  {
   "cell_type": "markdown",
   "metadata": {},
   "source": [
    "콜라츠 알고리즘을 재귀 함수로 구현할 수 있다.\n",
    "\n",
    "- 기저 조건: `num == 1`\n",
    "- `num % 2 == 0`: 짝수인 경우. 2로 나누기\n",
    "- 기타<font size=\"2\">else</font>: 홀수 인 경우. 3배 더하기 1."
   ]
  },
  {
   "cell_type": "code",
   "execution_count": 14,
   "metadata": {},
   "outputs": [],
   "source": [
    "def collatz(num):\n",
    "    if num == 1:                        # 기저 조건\n",
    "        print(1)\n",
    "    elif num%2 == 0:                  # 짝수인 경우\n",
    "        print(num, end=' -> ')\n",
    "        collatz(num//2)\n",
    "    else:                               # 홀수인 경우\n",
    "        print(num, end=' -> ')\n",
    "        collatz(num*3 + 1)"
   ]
  },
  {
   "cell_type": "code",
   "execution_count": 15,
   "metadata": {},
   "outputs": [
    {
     "name": "stdout",
     "output_type": "stream",
     "text": [
      "7 -> 22 -> 11 -> 34 -> 17 -> 52 -> 26 -> 13 -> 40 -> 20 -> 10 -> 5 -> 16 -> 8 -> 4 -> 2 -> 1\n"
     ]
    }
   ],
   "source": [
    "collatz(7)"
   ]
  },
  {
   "cell_type": "code",
   "execution_count": 16,
   "metadata": {},
   "outputs": [
    {
     "name": "stdout",
     "output_type": "stream",
     "text": [
      "128 -> 64 -> 32 -> 16 -> 8 -> 4 -> 2 -> 1\n"
     ]
    }
   ],
   "source": [
    "collatz(128)"
   ]
  },
  {
   "cell_type": "code",
   "execution_count": 17,
   "metadata": {},
   "outputs": [
    {
     "name": "stdout",
     "output_type": "stream",
     "text": [
      "129 -> 388 -> 194 -> 97 -> 292 -> 146 -> 73 -> 220 -> 110 -> 55 -> 166 -> 83 -> 250 -> 125 -> 376 -> 188 -> 94 -> 47 -> 142 -> 71 -> 214 -> 107 -> 322 -> 161 -> 484 -> 242 -> 121 -> 364 -> 182 -> 91 -> 274 -> 137 -> 412 -> 206 -> 103 -> 310 -> 155 -> 466 -> 233 -> 700 -> 350 -> 175 -> 526 -> 263 -> 790 -> 395 -> 1186 -> 593 -> 1780 -> 890 -> 445 -> 1336 -> 668 -> 334 -> 167 -> 502 -> 251 -> 754 -> 377 -> 1132 -> 566 -> 283 -> 850 -> 425 -> 1276 -> 638 -> 319 -> 958 -> 479 -> 1438 -> 719 -> 2158 -> 1079 -> 3238 -> 1619 -> 4858 -> 2429 -> 7288 -> 3644 -> 1822 -> 911 -> 2734 -> 1367 -> 4102 -> 2051 -> 6154 -> 3077 -> 9232 -> 4616 -> 2308 -> 1154 -> 577 -> 1732 -> 866 -> 433 -> 1300 -> 650 -> 325 -> 976 -> 488 -> 244 -> 122 -> 61 -> 184 -> 92 -> 46 -> 23 -> 70 -> 35 -> 106 -> 53 -> 160 -> 80 -> 40 -> 20 -> 10 -> 5 -> 16 -> 8 -> 4 -> 2 -> 1\n"
     ]
    }
   ],
   "source": [
    "collatz(129)"
   ]
  },
  {
   "cell_type": "markdown",
   "metadata": {},
   "source": [
    "재귀 호출 횟수를 반환값으로 지정할 수 있다.\n",
    "\n",
    "- `n == 1`: 재귀 호출 없음. 0 반환.\n",
    "- 짝수인 경우: 2로 나눈 값에 대한 재귀 호출 횟수 더하기 1\n",
    "- 홀수인 경우: 세 배 더하기 1에 대한 재귀 호출 횟수 더하기 1"
   ]
  },
  {
   "cell_type": "code",
   "execution_count": 18,
   "metadata": {},
   "outputs": [],
   "source": [
    "def collatz_count(num):\n",
    "    if num == 1:                        # 기저 조건\n",
    "        return 0\n",
    "    elif num % 2 == 0:                  # 짝수인 경우\n",
    "        return collatz_count(num//2) + 1\n",
    "    else:                               # 홀수인 경우\n",
    "        return collatz_count(num*3 + 1) + 1"
   ]
  },
  {
   "cell_type": "code",
   "execution_count": 19,
   "metadata": {},
   "outputs": [
    {
     "name": "stdout",
     "output_type": "stream",
     "text": [
      "16 회\n"
     ]
    }
   ],
   "source": [
    "print(collatz_count(7), \"회\")"
   ]
  },
  {
   "cell_type": "code",
   "execution_count": 20,
   "metadata": {},
   "outputs": [
    {
     "name": "stdout",
     "output_type": "stream",
     "text": [
      "7 회\n"
     ]
    }
   ],
   "source": [
    "print(collatz_count(128), \"회\")"
   ]
  },
  {
   "cell_type": "code",
   "execution_count": 21,
   "metadata": {},
   "outputs": [
    {
     "name": "stdout",
     "output_type": "stream",
     "text": [
      "121 회\n"
     ]
    }
   ],
   "source": [
    "print(collatz_count(129), \"회\")"
   ]
  },
  {
   "cell_type": "markdown",
   "metadata": {},
   "source": [
    "앞서 보았듯이 처음 시작하는 값이 작다고 해서 반드시 먼저 끝나는 것이 아니다.\n",
    "이처럼 시작 값이 정해졌을 때 언제 1에 다다르며 종료하는지 알려지지 않았다.\n",
    "반면에 지금까지 테스트한 모든 자연수에 대해 콜라츠 알고리즘은 \n",
    "언젠가는 1에 다다르며 종료하였다.\n",
    "즉, 콜라츠 알고리즘이 모든 수에 대해 언젠가는 1에 다다르며 정지한다라는 주장이\n",
    "아직 증명도 부정도 되지 않고 있다.\n",
    "이렇게 증명도 부정되 되지 않은 콜라츠의 주장을 \n",
    "**콜라츠 추측**<font size=\"2\">Collatz conjecture</font>\n",
    "이라 부른다."
   ]
  },
  {
   "cell_type": "markdown",
   "metadata": {},
   "source": [
    "## 연습문제"
   ]
  },
  {
   "cell_type": "markdown",
   "metadata": {},
   "source": [
    "1. ..."
   ]
  }
 ],
 "metadata": {
  "kernelspec": {
   "display_name": "Python 3 (ipykernel)",
   "language": "python",
   "name": "python3"
  },
  "language_info": {
   "codemirror_mode": {
    "name": "ipython",
    "version": 3
   },
   "file_extension": ".py",
   "mimetype": "text/x-python",
   "name": "python",
   "nbconvert_exporter": "python",
   "pygments_lexer": "ipython3",
   "version": "3.9.7"
  }
 },
 "nbformat": 4,
 "nbformat_minor": 1
}