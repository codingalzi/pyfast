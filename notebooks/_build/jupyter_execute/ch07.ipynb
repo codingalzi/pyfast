{
 "cells": [
  {
   "cell_type": "markdown",
   "id": "1d901e8a",
   "metadata": {},
   "source": [
    "# 함수의 인터페이스"
   ]
  }
 ],
 "metadata": {
  "kernelspec": {
   "display_name": "Python 3 (ipykernel)",
   "language": "python",
   "name": "python3"
  },
  "language_info": {
   "codemirror_mode": {
    "name": "ipython",
    "version": 3
   },
   "file_extension": ".py",
   "mimetype": "text/x-python",
   "name": "python",
   "nbconvert_exporter": "python",
   "pygments_lexer": "ipython3",
   "version": "3.9.7"
  }
 },
 "nbformat": 4,
 "nbformat_minor": 5
}