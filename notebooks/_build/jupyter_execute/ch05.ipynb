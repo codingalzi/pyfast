{
 "cells": [
  {
   "cell_type": "markdown",
   "metadata": {
    "id": "5uVJ6sswtoeL"
   },
   "source": [
    "# 기본 자료형"
   ]
  },
  {
   "cell_type": "markdown",
   "metadata": {},
   "source": [
    "참고: [SciPy 2.2장](https://scipy-lectures.org/intro/language/basic_types.html)\n",
    "\n",
    "1. 기본자료형이란?\n",
    "2. 정수 자료형(int)\n",
    "3. 부동소수점 자료형(float)\n",
    "4. 부울 자료형(bool) (간단히, 나중에 if, for 명령문과 함께 자세히.)\n",
    "5. 문자열 자료형(str) (간단히, 나중에 모음 자료형 다룰 때 보다 자세히.) \n",
    "    - input() 함수 소개 및 활용. print() 명령문과 함께.\\\n",
    "    - whitespace 언급할 것: [여기](https://www.unf.edu/~cwinton/html/cop3601/s10/class.notes/C4-PurgeBlnkLns.pdf)와 [여기](https://www.geeksforgeeks.org/string-whitespace-in-python/) 참고.\n",
    "    - 다음 사항고 언급"
   ]
  },
  {
   "cell_type": "markdown",
   "metadata": {},
   "source": [
    ":::{admonition} 문자열 `''` 와 문자의 `' '` 차이점\n",
    ":class: info\n",
    "\n",
    "빈 문자열<font size=\"2\">empty string</font> `''` 는 \n",
    "아무런 문자를 포함하지 않으며 따라서 문자열의 길이, 즉 문자열에 포함된 문자의 개수가 0이다.\n",
    "반면에 `' '` 는 눈에 보이지는 않지만 공백 문자 하나를 포함하는 문자열이며 길이가 1이다.\n",
    "\n",
    "참고: {numref}`%s 절<sec:string>`\n",
    ":::"
   ]
  }
 ],
 "metadata": {
  "colab": {
   "name": "python01.ipynb",
   "provenance": []
  },
  "kernelspec": {
   "display_name": "Python 3 (ipykernel)",
   "language": "python",
   "name": "python3"
  },
  "language_info": {
   "codemirror_mode": {
    "name": "ipython",
    "version": 3
   },
   "file_extension": ".py",
   "mimetype": "text/x-python",
   "name": "python",
   "nbconvert_exporter": "python",
   "pygments_lexer": "ipython3",
   "version": "3.9.7"
  }
 },
 "nbformat": 4,
 "nbformat_minor": 1
}