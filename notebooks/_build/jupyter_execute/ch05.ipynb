{
 "cells": [
  {
   "cell_type": "markdown",
   "metadata": {},
   "source": [
    "# 입력과 출력"
   ]
  },
  {
   "cell_type": "markdown",
   "metadata": {},
   "source": [
    "To be exhaustive, here are some information about input and output in\n",
    "Python. Since we will use the Numpy methods to read and write files,\n",
    "**you may skip this chapter at first reading**."
   ]
  },
  {
   "cell_type": "markdown",
   "metadata": {},
   "source": [
    "We write or read **strings** to/from files (other types must be converted to\n",
    "strings). To write in a file::\n",
    "\n",
    "```python\n",
    ">>> f = open('workfile', 'w') # opens the workfile file\n",
    ">>> type(f)    # doctest: +SKIP \n",
    "<type 'file'>\n",
    ">>> f.write('This is a test \\nand another test')   # doctest: +SKIP \n",
    ">>> f.close()\n",
    "```"
   ]
  },
  {
   "cell_type": "markdown",
   "metadata": {},
   "source": [
    "To read from a file\n",
    "\n",
    "```python\n",
    "In [1]: f = open('workfile', 'r')\n",
    "\n",
    "In [2]: s = f.read()\n",
    "\n",
    "In [3]: print(s)\n",
    "This is a test \n",
    "and another test\n",
    "\n",
    "In [4]: f.close()\n",
    "```"
   ]
  },
  {
   "cell_type": "markdown",
   "metadata": {},
   "source": [
    "## Iterating over a file"
   ]
  },
  {
   "cell_type": "markdown",
   "metadata": {},
   "source": [
    "```python\n",
    "In [6]: f = open('workfile', 'r')\n",
    "\n",
    "In [7]: for line in f:\n",
    "   ...:     print(line)\n",
    "   ...:\n",
    "This is a test \n",
    "\n",
    "and another test\n",
    "\n",
    "In [8]: f.close()\n",
    "```"
   ]
  },
  {
   "cell_type": "markdown",
   "metadata": {},
   "source": [
    "**File modes**\n",
    "\n",
    "* Read-only: `r`\n",
    "* Write-only: `w`\n",
    "    * Note: Create a new file or *overwrite* existing file.\n",
    "* Append a file: `a`\n",
    "* Read and Write: `r+`\n",
    "* Binary mode: `b`\n",
    "    * Note: Use for binary files, especially on Windows."
   ]
  },
  {
   "cell_type": "markdown",
   "metadata": {},
   "source": [
    "## Standard Library"
   ]
  },
  {
   "cell_type": "markdown",
   "metadata": {},
   "source": [
    "**Note**: Reference document for this section:\n",
    "\n",
    "* The Python Standard Library documentation: https://docs.python.org/library/index.html\n",
    "\n",
    "* Python Essential Reference, David Beazley, ddison-Wesley Professional"
   ]
  },
  {
   "cell_type": "markdown",
   "metadata": {},
   "source": [
    "### `os` module: operating system functionality"
   ]
  },
  {
   "cell_type": "markdown",
   "metadata": {},
   "source": [
    "*\"A portable way of using operating system dependent functionality.\"*"
   ]
  },
  {
   "cell_type": "markdown",
   "metadata": {},
   "source": [
    "#### Directory and file manipulation"
   ]
  },
  {
   "cell_type": "markdown",
   "metadata": {},
   "source": [
    "Current directory:\n",
    "\n",
    "```python\n",
    "In [17]: os.getcwd()\n",
    "Out[17]: '/Users/cburns/src/scipy2009/scipy_2009_tutorial/source'\n",
    "```"
   ]
  },
  {
   "cell_type": "markdown",
   "metadata": {},
   "source": [
    "List a directory:\n",
    "\n",
    "```python\n",
    "In [31]: os.listdir(os.curdir)\n",
    "Out[31]:\n",
    "['.index.rst.swo',\n",
    " '.python_language.rst.swp',\n",
    " '.view_array.py.swp',\n",
    " '_static',\n",
    " '_templates',\n",
    " 'basic_types.rst',\n",
    " 'conf.py',\n",
    " 'control_flow.rst',\n",
    " 'debugging.rst',\n",
    " ...\n",
    "```"
   ]
  },
  {
   "cell_type": "markdown",
   "metadata": {},
   "source": [
    "Make a directory:\n",
    "\n",
    "```python\n",
    "In [32]: os.mkdir('junkdir')\n",
    "\n",
    "In [33]: 'junkdir' in os.listdir(os.curdir)\n",
    "Out[33]: True\n",
    "```"
   ]
  },
  {
   "cell_type": "markdown",
   "metadata": {},
   "source": [
    "Rename the directory:\n",
    "\n",
    "```python\n",
    "In [36]: os.rename('junkdir', 'foodir')\n",
    "\n",
    "In [37]: 'junkdir' in os.listdir(os.curdir)\n",
    "Out[37]: False\n",
    "\n",
    "In [38]: 'foodir' in os.listdir(os.curdir)\n",
    "Out[38]: True\n",
    "\n",
    "In [41]: os.rmdir('foodir')\n",
    "\n",
    "In [42]: 'foodir' in os.listdir(os.curdir)\n",
    "Out[42]: False\n",
    "```"
   ]
  },
  {
   "cell_type": "markdown",
   "metadata": {},
   "source": [
    "Delete a file:\n",
    "\n",
    "```python\n",
    "In [44]: fp = open('junk.txt', 'w')\n",
    "\n",
    "In [45]: fp.close()\n",
    "\n",
    "In [46]: 'junk.txt' in os.listdir(os.curdir)\n",
    "Out[46]: True\n",
    "\n",
    "In [47]: os.remove('junk.txt')\n",
    "\n",
    "In [48]: 'junk.txt' in os.listdir(os.curdir)\n",
    "Out[48]: False\n",
    "```"
   ]
  },
  {
   "cell_type": "markdown",
   "metadata": {},
   "source": [
    "#### `os.path`: path manipulations"
   ]
  },
  {
   "cell_type": "markdown",
   "metadata": {},
   "source": [
    "`os.path` provides common operations on pathnames.\n",
    "\n",
    "```python\n",
    "In [70]: fp = open('junk.txt', 'w')\n",
    "\n",
    "In [71]: fp.close()\n",
    "\n",
    "In [72]: a = os.path.abspath('junk.txt')\n",
    "\n",
    "In [73]: a\n",
    "Out[73]: '/Users/cburns/src/scipy2009/scipy_2009_tutorial/source/junk.txt'\n",
    "\n",
    "In [74]: os.path.split(a)\n",
    "Out[74]: ('/Users/cburns/src/scipy2009/scipy_2009_tutorial/source',\n",
    "          'junk.txt')\n",
    "\n",
    "In [78]: os.path.dirname(a)\n",
    "Out[78]: '/Users/cburns/src/scipy2009/scipy_2009_tutorial/source'\n",
    "\n",
    "In [79]: os.path.basename(a)\n",
    "Out[79]: 'junk.txt'\n",
    "\n",
    "In [80]: os.path.splitext(os.path.basename(a))\n",
    "Out[80]: ('junk', '.txt')\n",
    "\n",
    "In [84]: os.path.exists('junk.txt')\n",
    "Out[84]: True\n",
    "\n",
    "In [86]: os.path.isfile('junk.txt')\n",
    "Out[86]: True\n",
    "\n",
    "In [87]: os.path.isdir('junk.txt')\n",
    "Out[87]: False\n",
    "\n",
    "In [88]: os.path.expanduser('~/local')\n",
    "Out[88]: '/Users/cburns/local'\n",
    "\n",
    "In [92]: os.path.join(os.path.expanduser('~'), 'local', 'bin')\n",
    "Out[92]: '/Users/cburns/local/bin'\n",
    "```"
   ]
  },
  {
   "cell_type": "markdown",
   "metadata": {},
   "source": [
    "#### Running an external command"
   ]
  },
  {
   "cell_type": "markdown",
   "metadata": {},
   "source": [
    "```python\n",
    "In [8]: os.system('ls')\n",
    "basic_types.rst   demo.py          functions.rst  python_language.rst  standard_library.rst\n",
    "control_flow.rst  exceptions.rst   io.rst         python-logo.png\n",
    "demo2.py          first_steps.rst  oop.rst        reusing_code.rst\n",
    "```"
   ]
  },
  {
   "cell_type": "markdown",
   "metadata": {},
   "source": [
    "**Note**: Alternative to `os.system`\n",
    "\n",
    "A noteworthy alternative to `os.system` is the \n",
    "[sh module](http://amoffat.github.com/sh/). \n",
    "Which provides much more convenient ways to\n",
    "obtain the output, error stream and exit code of the external command.\n",
    "\n",
    "```python\n",
    "In [20]: import sh\n",
    "In [20]: com = sh.ls()\n",
    "\n",
    "In [21]: print(com)\n",
    "basic_types.rst   exceptions.rst   oop.rst              standard_library.rst\n",
    "control_flow.rst  first_steps.rst  python_language.rst\n",
    "demo2.py          functions.rst    python-logo.png\n",
    "demo.py           io.rst           reusing_code.rst\n",
    "\n",
    "In [22]: print(com.exit_code)\n",
    "0\n",
    "In [23]: type(com)\n",
    "Out[23]: sh.RunningCommand\n",
    "```"
   ]
  },
  {
   "cell_type": "markdown",
   "metadata": {},
   "source": [
    "#### Walking a directory"
   ]
  },
  {
   "cell_type": "markdown",
   "metadata": {},
   "source": [
    "`os.path.walk` generates a list of filenames in a directory tree.\n",
    "\n",
    "```python\n",
    "In [10]: for dirpath, dirnames, filenames in os.walk(os.curdir):\n",
    "....:     for fp in filenames:\n",
    "....:         print(os.path.abspath(fp))\n",
    "....:\n",
    "....:\n",
    "/Users/cburns/src/scipy2009/scipy_2009_tutorial/source/.index.rst.swo\n",
    "/Users/cburns/src/scipy2009/scipy_2009_tutorial/source/.view_array.py.swp\n",
    "/Users/cburns/src/scipy2009/scipy_2009_tutorial/source/basic_types.rst\n",
    "/Users/cburns/src/scipy2009/scipy_2009_tutorial/source/conf.py\n",
    "/Users/cburns/src/scipy2009/scipy_2009_tutorial/source/control_flow.rst\n",
    "...\n",
    "```"
   ]
  },
  {
   "cell_type": "markdown",
   "metadata": {},
   "source": [
    "#### Environment variables:\n",
    "\n",
    "```python\n",
    "In [9]: import os\n",
    "\n",
    "In [11]: os.environ.keys()\n",
    "Out[11]:\n",
    "['_',\n",
    "'FSLDIR',\n",
    "'TERM_PROGRAM_VERSION',\n",
    "'FSLREMOTECALL',\n",
    "'USER',\n",
    "'HOME',\n",
    "'PATH',\n",
    "'PS1',\n",
    "'SHELL',\n",
    "'EDITOR',\n",
    "'WORKON_HOME',\n",
    "'PYTHONPATH',\n",
    "...\n",
    "\n",
    "In [12]: os.environ['PYTHONPATH']\n",
    "Out[12]: '.:/Users/cburns/src/utils:/Users/cburns/src/nitools:\n",
    "/Users/cburns/local/lib/python2.5/site-packages/:\n",
    "/usr/local/lib/python2.5/site-packages/:\n",
    "/Library/Frameworks/Python.framework/Versions/2.5/lib/python2.5'\n",
    "\n",
    "In [16]: os.getenv('PYTHONPATH')\n",
    "Out[16]: '.:/Users/cburns/src/utils:/Users/cburns/src/nitools:\n",
    "/Users/cburns/local/lib/python2.5/site-packages/:\n",
    "/usr/local/lib/python2.5/site-packages/:\n",
    "/Library/Frameworks/Python.framework/Versions/2.5/lib/python2.5'\n",
    "```"
   ]
  },
  {
   "cell_type": "markdown",
   "metadata": {},
   "source": [
    "### `shutil`: high-level file operations"
   ]
  },
  {
   "cell_type": "markdown",
   "metadata": {},
   "source": [
    "The `shutil` provides useful file operations:\n",
    "\n",
    "* `shutil.rmtree`: Recursively delete a directory tree.\n",
    "* `shutil.move`: Recursively move a file or directory to another location.\n",
    "* `shutil.copy`: Copy files or directories."
   ]
  },
  {
   "cell_type": "markdown",
   "metadata": {},
   "source": [
    "### `glob`: Pattern matching on files\n",
    "\n",
    "The `glob` module provides convenient file pattern matching.\n",
    "\n",
    "Find all files ending in `.txt`:\n",
    "\n",
    "```python\n",
    "In [18]: import glob\n",
    "\n",
    "In [19]: glob.glob('*.txt')\n",
    "Out[19]: ['holy_grail.txt', 'junk.txt', 'newfile.txt']\n",
    "```"
   ]
  },
  {
   "cell_type": "markdown",
   "metadata": {},
   "source": [
    "### `sys` module: system-specific information"
   ]
  },
  {
   "cell_type": "markdown",
   "metadata": {},
   "source": [
    "System-specific information related to the Python interpreter.\n",
    "\n",
    "* Which version of python are you running and where is it installed:\n",
    "\n",
    "    ```python\n",
    "    In [117]: sys.platform\n",
    "    Out[117]: 'darwin'\n",
    "\n",
    "    In [118]: sys.version\n",
    "    Out[118]: '2.5.2 (r252:60911, Feb 22 2008, 07:57:53) \\n\n",
    "          [GCC 4.0.1 (Apple Computer, Inc. build 5363)]'\n",
    "\n",
    "    In [119]: sys.prefix\n",
    "    Out[119]: '/Library/Frameworks/Python.framework/Versions/2.5'\n",
    "    ```"
   ]
  },
  {
   "cell_type": "markdown",
   "metadata": {},
   "source": [
    "* List of command line arguments passed to a Python script:\n",
    "\n",
    "```python\n",
    "In [100]: sys.argv\n",
    "Out[100]: ['/Users/cburns/local/bin/ipython']\n",
    "```"
   ]
  },
  {
   "cell_type": "markdown",
   "metadata": {},
   "source": [
    "`sys.path` is a list of strings that specifies the search path for\n",
    "modules.  Initialized from PYTHONPATH:\n",
    "\n",
    "```python\n",
    "In [121]: sys.path\n",
    "Out[121]:\n",
    "['',\n",
    "'/Users/cburns/local/bin',\n",
    "'/Users/cburns/local/lib/python2.5/site-packages/grin-1.1-py2.5.egg',\n",
    "'/Users/cburns/local/lib/python2.5/site-packages/argparse-0.8.0-py2.5.egg',\n",
    "'/Users/cburns/local/lib/python2.5/site-packages/urwid-0.9.7.1-py2.5.egg',\n",
    "'/Users/cburns/local/lib/python2.5/site-packages/yolk-0.4.1-py2.5.egg',\n",
    "'/Users/cburns/local/lib/python2.5/site-packages/virtualenv-1.2-py2.5.egg',\n",
    "...\n",
    "```"
   ]
  },
  {
   "cell_type": "markdown",
   "metadata": {},
   "source": [
    "### `pickle`: easy persistence"
   ]
  },
  {
   "cell_type": "markdown",
   "metadata": {},
   "source": [
    "Useful to store arbitrary objects to a file. Not safe or fast!\n",
    "\n",
    "```python\n",
    "In [1]: import pickle\n",
    "\n",
    "In [2]: l = [1, None, 'Stan']\n",
    "\n",
    "In [3]: pickle.dump(l, file('test.pkl', 'w'))\n",
    "\n",
    "In [4]: pickle.load(file('test.pkl'))\n",
    "Out[4]: [1, None, 'Stan']\n",
    "```"
   ]
  },
  {
   "cell_type": "markdown",
   "metadata": {},
   "source": [
    "## Exercise"
   ]
  },
  {
   "cell_type": "markdown",
   "metadata": {},
   "source": [
    "Write a program to search your `PYTHONPATH` for the module `site.py`."
   ]
  }
 ],
 "metadata": {
  "kernelspec": {
   "display_name": "Python 3 (ipykernel)",
   "language": "python",
   "name": "python3"
  },
  "language_info": {
   "codemirror_mode": {
    "name": "ipython",
    "version": 3
   },
   "file_extension": ".py",
   "mimetype": "text/x-python",
   "name": "python",
   "nbconvert_exporter": "python",
   "pygments_lexer": "ipython3",
   "version": "3.9.7"
  }
 },
 "nbformat": 4,
 "nbformat_minor": 4
}