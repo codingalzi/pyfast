{
 "cells": [
  {
   "cell_type": "markdown",
   "metadata": {},
   "source": [
    "# 모음 자료형 1편"
   ]
  },
  {
   "cell_type": "markdown",
   "metadata": {},
   "source": [
    "**모음**<font size=\"2\">collection</font> 자료형은\n",
    "여러 개의 값을 하나로 묶어 놓은 값의 유형이다.\n",
    "파이썬은 문자열, 리스트, 튜플, 집합, 사전 등의 모음 자료형을\n",
    "기본으로 제공하며,\n",
    "여러 값을 묶어 둔다는 의미로 모음 자료형의 값을\n",
    "**컨테이너**<font size=\"2\">container</font>라고도 부른다.\n",
    "\n",
    "모음 자료형은 크게 두 종류로 나뉜다.\n",
    "\n",
    "- 순차형<font size=\"2\">sequence type</font>: 포함된 항목들의 순서를 가리는 모음 자료형\n",
    "    - 문자열\n",
    "    - 리스트\n",
    "    - 튜플\n",
    "- 집합형<font size=\"2\">set type</font>: 포함된 항목들의 순서를 무시하는 모음 자료형\n",
    "    - 집합\n",
    "    - 사전\n",
    "    \n",
    "먼저 순차형을 소개한다."
   ]
  },
  {
   "cell_type": "markdown",
   "metadata": {},
   "source": [
    "## 문자열"
   ]
  },
  {
   "cell_type": "markdown",
   "metadata": {},
   "source": [
    "**문자열**<font size=\"2\">string</font>은 문자 기호로 이루어진 단어, 문장 등을 가리킨다.\n",
    "키보드에 포함된 영문 알파벳, 한글 자음과 모음 등을 기본적으로 사용한다.\n",
    "문자열은 세 가지 방식으로 작성될 수 있다."
   ]
  },
  {
   "cell_type": "markdown",
   "metadata": {},
   "source": [
    "- 작은 따옴표 활용"
   ]
  },
  {
   "cell_type": "code",
   "execution_count": 1,
   "metadata": {},
   "outputs": [
    {
     "name": "stdout",
     "output_type": "stream",
     "text": [
      "잘 지내세요?\n"
     ]
    }
   ],
   "source": [
    "s = '잘 지내세요?'\n",
    "print(s)"
   ]
  },
  {
   "cell_type": "markdown",
   "metadata": {},
   "source": [
    "- 큰 따옴표 활용"
   ]
  },
  {
   "cell_type": "code",
   "execution_count": 2,
   "metadata": {},
   "outputs": [
    {
     "name": "stdout",
     "output_type": "stream",
     "text": [
      "별일 없으세요?\n"
     ]
    }
   ],
   "source": [
    "s = \"별일 없으세요?\"\n",
    "print(s)"
   ]
  },
  {
   "cell_type": "markdown",
   "metadata": {},
   "source": [
    "- 연속된 세 개의 작은 또는 큰 따옴표 활용: 여러 줄로 이루어진 문자열 작성"
   ]
  },
  {
   "cell_type": "code",
   "execution_count": 3,
   "metadata": {},
   "outputs": [
    {
     "name": "stdout",
     "output_type": "stream",
     "text": [
      "안녕.\n",
      "별일 없어?\n"
     ]
    }
   ],
   "source": [
    "s = '''안녕.\n",
    "별일 없어?'''\n",
    "\n",
    "print(s)"
   ]
  },
  {
   "cell_type": "code",
   "execution_count": 4,
   "metadata": {},
   "outputs": [
    {
     "name": "stdout",
     "output_type": "stream",
     "text": [
      "안녕.\n",
      "별일 없어?\n"
     ]
    }
   ],
   "source": [
    "s = \"\"\"안녕.\n",
    "별일 없어?\"\"\"\n",
    "\n",
    "print(s)"
   ]
  },
  {
   "cell_type": "markdown",
   "metadata": {},
   "source": [
    "스페이스와 탭을 활용해서 생성된 여백<font size=\"2\">white space</font>도 문자열로 처리된다.\n",
    "또한 줄바꿈을 나타내는 문자는 `\\n`이다."
   ]
  },
  {
   "cell_type": "code",
   "execution_count": 5,
   "metadata": {},
   "outputs": [
    {
     "name": "stdout",
     "output_type": "stream",
     "text": [
      "안녕.\n",
      "    별일 없어?\n"
     ]
    }
   ],
   "source": [
    "s = '''안녕.\n",
    "    별일 없어?'''\n",
    "\n",
    "print(s)"
   ]
  },
  {
   "cell_type": "code",
   "execution_count": 6,
   "metadata": {},
   "outputs": [
    {
     "name": "stdout",
     "output_type": "stream",
     "text": [
      "안녕.\n",
      "    별일 없어?\n"
     ]
    }
   ],
   "source": [
    "s = \"\"\"안녕.\n",
    "    별일 없어?\"\"\"\n",
    "\n",
    "print(s)"
   ]
  },
  {
   "cell_type": "markdown",
   "metadata": {},
   "source": [
    ":::{admonition} 유니코드\n",
    ":class: info\n",
    "\n",
    "키보드 상에 존재하지 않는 다른 기호나 문자도 **유니코드**<font size=\"2\">unicode</font> \n",
    "형식으로 지원된다.\n",
    "예를 들어 웃는 얼굴의 이모티콘을 나타내는 문자열은 다음과 같다. \n",
    "\n",
    "```python\n",
    ">>> s = '\\U0001f604'\n",
    ">>> print(s)\n",
    "😄\n",
    ">>> s * 2\n",
    "'😄😄'\n",
    "```\n",
    "\n",
    "유니코드로 지원되는 모든 이모티콘은 [Emoji Charts](https://unicode.org/emoji/charts/emoji-list.html)에서\n",
    "확인할 수 있다. 단, `U+` 시작하는 부분을 `U000` 으로 대체해서 사용해야 한다. \n",
    ":::"
   ]
  },
  {
   "cell_type": "markdown",
   "metadata": {},
   "source": [
    "### 백슬래시와 이스케이프 문자"
   ]
  },
  {
   "cell_type": "markdown",
   "metadata": {},
   "source": [
    "문자열에 따옴표를 사용하려면 문자열을 감싸는 방식에 주의해야 한다.\n",
    "예를 들어, 작은 따옴표를 사용하는 문자열을 다음과 같이 지정하면 오류가 발생한다.\n",
    "\n",
    "```python\n",
    ">>> 'Python's grammar'\n",
    "------------------------------------------------------------\n",
    "File \"<ipython console>\", line 1\n",
    "'Python's grammar'\n",
    "        ^\n",
    "SyntaxError invalid syntax\n",
    "```\n",
    "\n",
    "이유는 작은 따옴표로 문자열의 시작을 지정했기 때문에\n",
    "`Python's` 문장에 사용된 작은 따옴표가 \n",
    "문자열의 끝을 의미하게된다.\n",
    "그런데 이후에도 문자열이 이어지게 되어 결국 문자열의 끝이 불분명해져서\n",
    "구문 오류를 뜻하는 `SyntaxError`가 발생하였다.\n",
    "\n",
    "이런 오류를 방지하는 다양한 방식이 존재한다.\n",
    "예를 들어 작은 따옴표 바로 앞에 백슬래시<font size=\"2\">backslash</font> 기호 (`\\`)를 추가하면 된다."
   ]
  },
  {
   "cell_type": "code",
   "execution_count": 7,
   "metadata": {},
   "outputs": [
    {
     "name": "stdout",
     "output_type": "stream",
     "text": [
      "Python's grammer\n"
     ]
    }
   ],
   "source": [
    "s = 'Python\\'s grammer'\n",
    "print(s)"
   ]
  },
  {
   "cell_type": "markdown",
   "metadata": {},
   "source": [
    ":::{admonition} 슬래시 기호(&#x5C;)와 원화 기호(&#x20a9;)\n",
    ":class: info\n",
    "\n",
    "백슬래시 키는 오른쪽 <kbd>Enter</kbd> 키 바로 위에 위치하는데\n",
    "한글 키보드의 경우 원화 기호 키 <kbd>&#x20a9;</kbd> 가 대신 표시되어 있을 수 있다.\n",
    "그리고 모니터 화면 상에는 사용하는 운영체제 언어 설정에 따라\n",
    "원화 기호(&#x20a9;) 대신 백슬래시 기호(&#x5C;)로 보일 수 있다.\n",
    "하지만 단순한 언어 설정의 차이일 뿐 기능은 동일하다.\n",
    ":::"
   ]
  },
  {
   "cell_type": "markdown",
   "metadata": {},
   "source": [
    "백슬래시는 이처럼 특정 문자와 함께 사용되면 특별한 기능을 갖는\n",
    "이스케이프 문자<font size=\"2\">escape character</font>를 구성한다.\n",
    "가장 많이 사용되는 이스케이프 문자의 목록은 다음과 같다.\n",
    "\n",
    "| 이스케이프 문자 | 의미 |\n",
    "| :---: | :---:    |\n",
    "| `\\'` | 작은 따옴표 |\n",
    "| `\\\\` | 백슬래시 기호 |\n",
    "| `\\n` | 줄바꿈 |\n",
    "| `\\t` | 탭 |"
   ]
  },
  {
   "cell_type": "markdown",
   "metadata": {},
   "source": [
    "Strings are collections like lists. Hence they can be indexed and\n",
    "sliced, using the same syntax and rules."
   ]
  },
  {
   "cell_type": "markdown",
   "metadata": {},
   "source": [
    "Indexing\n",
    "\n",
    "```python\n",
    ">>> a = \"hello\"\n",
    ">>> a[0]\n",
    "'h'\n",
    ">>> a[1]\n",
    "'e'\n",
    ">>> a[-1]\n",
    "'o'\n",
    "```"
   ]
  },
  {
   "cell_type": "markdown",
   "metadata": {},
   "source": [
    "(Remember that negative indices correspond to counting from the right\n",
    "end.)"
   ]
  },
  {
   "cell_type": "markdown",
   "metadata": {},
   "source": [
    "Slicing\n",
    "\n",
    "```python\n",
    ">>> a = \"hello, world!\"\n",
    ">>> a[36] # 3rd to 6th (excluded) elements elements 3, 4, 5\n",
    "'lo,'\n",
    ">>> a[2102] # Syntax a[startstopstep]\n",
    "'lo o'\n",
    ">>> a[3] # every three characters, from beginning to end\n",
    "'hl r!'\n",
    "```"
   ]
  },
  {
   "cell_type": "markdown",
   "metadata": {},
   "source": [
    "Accents and special characters can also be handled as in Python 3\n",
    "strings consist of Unicode characters."
   ]
  },
  {
   "cell_type": "markdown",
   "metadata": {},
   "source": [
    "A string is an **immutable object** and it is not possible to modify its\n",
    "contents. One may however create new strings from the original one.\n",
    "\n",
    "```python\n",
    "In [53] a = \"hello, world!\"\n",
    "In [54] a[2] = 'z'\n",
    "---------------------------------------------------------------------------\n",
    "Traceback (most recent call last)\n",
    "File \"<stdin>\", line 1, in <module>\n",
    "TypeError 'str' object does not support item assignment\n",
    "\n",
    "In [55] a.replace('l', 'z', 1)\n",
    "Out[55] 'hezlo, world!'\n",
    "In [56] a.replace('l', 'z')\n",
    "Out[56] 'hezzo, worzd!'\n",
    "```"
   ]
  },
  {
   "cell_type": "markdown",
   "metadata": {},
   "source": [
    "Strings have many useful methods, such as `a.replace` as seen\n",
    "above. Remember the `a.` object-oriented notation and use tab\n",
    "completion or `help(str)` to search for new methods."
   ]
  },
  {
   "cell_type": "markdown",
   "metadata": {},
   "source": [
    "**seealso**\n",
    "\n",
    "Python offers advanced possibilities for manipulating strings,\n",
    "looking for patterns or formatting. The interested reader is referred to\n",
    "https//docs.python.org/library/stdtypes.html#string-methods and\n",
    "https//docs.python.org/3/library/string.html#format-string-syntax"
   ]
  },
  {
   "cell_type": "markdown",
   "metadata": {},
   "source": [
    "String formatting\n",
    "\n",
    "```python\n",
    ">>> 'An integer %i; a float %f; another string %s' % (1, 0.1, 'string') # with more values use tuple after %\n",
    "'An integer 1; a float 0.100000; another string string'\n",
    "\n",
    ">>> i = 102\n",
    ">>> filename = 'processing_of_dataset_%d.txt' % i   # no need for tuples with just one value after %\n",
    ">>> filename\n",
    "'processing_of_dataset_102.txt'\n",
    "```"
   ]
  },
  {
   "cell_type": "markdown",
   "metadata": {},
   "source": [
    "## 리스트"
   ]
  },
  {
   "cell_type": "markdown",
   "metadata": {},
   "source": [
    "리스트<font size=\"2\">list</font>는 여러 종류의 값을 순서지어 포함한다.\n",
    "포함되는 항목의 개수에 제한이 없다."
   ]
  },
  {
   "cell_type": "code",
   "execution_count": 8,
   "metadata": {},
   "outputs": [
    {
     "data": {
      "text/plain": [
       "list"
      ]
     },
     "execution_count": 8,
     "metadata": {},
     "output_type": "execute_result"
    }
   ],
   "source": [
    "colors = ['red', 'blue', 'green', 'black', 'white']\n",
    "type(colors)"
   ]
  },
  {
   "cell_type": "markdown",
   "metadata": {},
   "source": [
    "## Tuples"
   ]
  },
  {
   "cell_type": "markdown",
   "metadata": {},
   "source": [
    "Tuples are basically immutable lists. The elements of a tuple are written\n",
    "between parentheses, or just separated by commas\n",
    "\n",
    "```python\n",
    ">>> t = 12345, 54321, 'hello!'\n",
    ">>> t[0]\n",
    "12345\n",
    ">>> t\n",
    "(12345, 54321, 'hello!')\n",
    ">>> u = (0, 2)\n",
    "```"
   ]
  },
  {
   "cell_type": "markdown",
   "metadata": {},
   "source": [
    "## 인덱싱"
   ]
  },
  {
   "cell_type": "markdown",
   "metadata": {},
   "source": [
    "순차형 컨테이너는 모두 정수를 이용하여 항목을 확인하고, \n",
    "경우에 따라 항목을 다른 값으로 변경하는\n",
    "**인덱싱**<font size=\"2\">indexing</font> 기능을 갖는다.\n",
    "\n",
    "왼편에 위치한 항목으로부터 차례대로 0, 1, 2, ... 등의 \n",
    "**인덱스**<font size=\"2\">index</font>를 다음과 같이 사용한다."
   ]
  },
  {
   "cell_type": "code",
   "execution_count": 9,
   "metadata": {},
   "outputs": [
    {
     "data": {
      "text/plain": [
       "'red'"
      ]
     },
     "execution_count": 9,
     "metadata": {},
     "output_type": "execute_result"
    }
   ],
   "source": [
    "colors[0]"
   ]
  },
  {
   "cell_type": "code",
   "execution_count": 10,
   "metadata": {},
   "outputs": [
    {
     "data": {
      "text/plain": [
       "'blue'"
      ]
     },
     "execution_count": 10,
     "metadata": {},
     "output_type": "execute_result"
    }
   ],
   "source": [
    "colors[1]"
   ]
  },
  {
   "cell_type": "code",
   "execution_count": 11,
   "metadata": {},
   "outputs": [
    {
     "data": {
      "text/plain": [
       "'green'"
      ]
     },
     "execution_count": 11,
     "metadata": {},
     "output_type": "execute_result"
    }
   ],
   "source": [
    "colors[2]"
   ]
  },
  {
   "cell_type": "markdown",
   "metadata": {},
   "source": [
    ":::{admonition} 인덱스는 0부터 시작!\n",
    ":class: warning\n",
    "\n",
    "가장 왼편에 위치한 항목의 인덱스가 1이 아닌 0임에 주의해야 한다.\n",
    "순차 자료형의 가장 왼편에 위치한 값으로부터 첫째, 둘째, 셋째 등으로 \n",
    "언급하는 반면에 인덱스는 0, 1, 2 등으로 사용해야 해서 \n",
    "익숙해질 때까지 시간이 조금 걸린다.\n",
    "\n",
    "C 언어 계열의 언어를 비롯하여 자바, 자바스크립트 등 대부분의 \n",
    "프로그래밍 언어가 0부터 인덱스를 시작한다.\n",
    "반면에 포트란<font size=\"2\">Fortran</font>, 매트랩 등\n",
    "수치 계산 전용 프로그래밍 언어는 인덱스를 1부터 시작한다. \n",
    "\n",
    "참고로 인덱스를 0부터 시작해야 하는 논리적 이유는 없다.\n",
    "누군가 어떤 이유로 그렇게 정했고 나름 이유가 있었겠지만 \n",
    "사용 면에서 보면 어떤 논리적인 장점도 없다.\n",
    ":::"
   ]
  },
  {
   "cell_type": "markdown",
   "metadata": {},
   "source": [
    "-1, -2, -3, ... 등 음의 정수를 인덱스로 사용하면 오른편에 위치한 항목부터 \n",
    "차례대로 왼쪽으로 이동하면서 인덱싱을 실행할 수 있다."
   ]
  },
  {
   "cell_type": "code",
   "execution_count": 12,
   "metadata": {},
   "outputs": [
    {
     "data": {
      "text/plain": [
       "'white'"
      ]
     },
     "execution_count": 12,
     "metadata": {},
     "output_type": "execute_result"
    }
   ],
   "source": [
    "colors[-1]"
   ]
  },
  {
   "cell_type": "markdown",
   "metadata": {},
   "source": [
    "`colors` 변수가 가리키는 리스트에 5개의 문자열이 포함되어 있기 때문에\n",
    "왼편에서 넷째, 오른편에 둘째 항목은 동일한 문자열이 된다."
   ]
  },
  {
   "cell_type": "code",
   "execution_count": 13,
   "metadata": {},
   "outputs": [
    {
     "data": {
      "text/plain": [
       "True"
      ]
     },
     "execution_count": 13,
     "metadata": {},
     "output_type": "execute_result"
    }
   ],
   "source": [
    "왼쪽에서셋째 = colors[3]\n",
    "오른쪽에서둘째 = colors[-2]\n",
    "\n",
    "왼쪽에서셋째 == 오른쪽에서둘째"
   ]
  },
  {
   "cell_type": "markdown",
   "metadata": {},
   "source": [
    ":::{admonition} 한글 변수 이름\n",
    ":class: warning\n",
    "\n",
    "한글을 변수와 함수의 이름으로 사용할 수도 있다. \n",
    "하지만 다른 버전 또는 타 언어와의 호환성 등의 문제가 발생할 수 있기에\n",
    "아직은 일반적이지 않으며 추천되지 않는다.\n",
    ":::"
   ]
  },
  {
   "cell_type": "markdown",
   "metadata": {},
   "source": [
    "포함된 항목의 개수를 벗어나는 인덱스는 오류를 유발한다.\n",
    "`colors` 리스트가 5개의 항목을 포함하기에 사용할 수 있는 인덱스는 \n",
    "왼편에서 시작하는 경우엔 0부터 4까지이고\n",
    "오른편에서 시작하면 -1부터 -5까지이다. \n",
    "\n",
    "예를 들어 5를 인덱스로 사용하면 왼편에서 여섯째 항목을 확인하기 때문에\n",
    "인덱스의 범위를 벗어난다.\n",
    "따라서 `index out of range` 라는 설명과 함께 `IndexError`가 \n",
    "다음과 같이 발생한다.\n",
    "\n",
    "```python\n",
    ">>> colors[5]\n",
    "---------------------------------------------------------------------------\n",
    "IndexError                                Traceback (most recent call last)\n",
    "<ipython-input-3-5976064932c2> in <module>\n",
    "----> 1 colors[5]\n",
    "\n",
    "IndexError: list index out of range\n",
    "```"
   ]
  },
  {
   "cell_type": "markdown",
   "metadata": {},
   "source": [
    "## 슬라이싱"
   ]
  },
  {
   "cell_type": "markdown",
   "metadata": {},
   "source": [
    "인덱스의 구간을 지정하여 순차 자료형의 일부를 추출하는 것을\n",
    "**슬라이싱**<font size=\"2\">slicing</font>이라 한다.\n",
    "\n",
    "예를 들어 `colors` 리스트의 둘째부터 넷째 까지의 항목으로\n",
    "구성된 리스트를 생성하려면 다음과 같이 한다."
   ]
  },
  {
   "cell_type": "code",
   "execution_count": 14,
   "metadata": {},
   "outputs": [
    {
     "data": {
      "text/plain": [
       "['blue', 'green', 'black']"
      ]
     },
     "execution_count": 14,
     "metadata": {},
     "output_type": "execute_result"
    }
   ],
   "source": [
    "colors[1:4]"
   ]
  },
  {
   "cell_type": "markdown",
   "metadata": {},
   "source": [
    "`[1:4]` 는 1번 인덱스, 즉 둘째부터 4번 인덱스 이전까지, 즉 3번 인덱스인 넷째 항목까지 \n",
    "추출 대상으로 삼는다는 의미이다."
   ]
  },
  {
   "cell_type": "markdown",
   "metadata": {},
   "source": [
    "슬라이싱의 일반 형식은 다음과 같다.\n",
    "\n",
    "```python\n",
    "colors[시작:끝:보폭]\n",
    "```\n",
    "\n",
    "**시작**과 **끝**의 의 의미는 `colors[1:4]`의 경우에서 설명한 것과 동일하다.\n",
    "반면에 **보폭**은 항목 추출법을 설명한다.\n",
    "예를 들어 2를 보폭으로 사용하면\n",
    "시작 인덱스로 부터 2씩 건너 뛰며 항목을 추출한다.\n",
    "`colors[1:4:2]`는 따라서 1번, 3번 두 개의 인덱스에 위치한 항목을 추출해서 \n",
    "리스트를 생성한다."
   ]
  },
  {
   "cell_type": "code",
   "execution_count": 15,
   "metadata": {},
   "outputs": [
    {
     "data": {
      "text/plain": [
       "['blue', 'black']"
      ]
     },
     "execution_count": 15,
     "metadata": {},
     "output_type": "execute_result"
    }
   ],
   "source": [
    "colors[1:4:2]"
   ]
  },
  {
   "cell_type": "markdown",
   "metadata": {},
   "source": [
    "시작, 끝, 보폭 모두 생략될 수 있으며 각각에 대해 기본값이 사용된다.\n",
    "\n",
    "- 시작의 기본값: 0\n",
    "- 끝의 기본값: 항목의 개수 + 1. 즉, 시작부터 끝까지.\n",
    "- 보폭의 기본값: 1"
   ]
  },
  {
   "cell_type": "code",
   "execution_count": 16,
   "metadata": {},
   "outputs": [
    {
     "data": {
      "text/plain": [
       "['black', 'white']"
      ]
     },
     "execution_count": 16,
     "metadata": {},
     "output_type": "execute_result"
    }
   ],
   "source": [
    "colors[3:]"
   ]
  },
  {
   "cell_type": "code",
   "execution_count": 17,
   "metadata": {},
   "outputs": [
    {
     "data": {
      "text/plain": [
       "['red', 'blue', 'green']"
      ]
     },
     "execution_count": 17,
     "metadata": {},
     "output_type": "execute_result"
    }
   ],
   "source": [
    "colors[:3]"
   ]
  },
  {
   "cell_type": "code",
   "execution_count": 18,
   "metadata": {},
   "outputs": [
    {
     "data": {
      "text/plain": [
       "['red', 'green', 'white']"
      ]
     },
     "execution_count": 18,
     "metadata": {},
     "output_type": "execute_result"
    }
   ],
   "source": [
    "colors[::2]"
   ]
  }
 ],
 "metadata": {
  "kernelspec": {
   "display_name": "Python 3 (ipykernel)",
   "language": "python",
   "name": "python3"
  },
  "language_info": {
   "codemirror_mode": {
    "name": "ipython",
    "version": 3
   },
   "file_extension": ".py",
   "mimetype": "text/x-python",
   "name": "python",
   "nbconvert_exporter": "python",
   "pygments_lexer": "ipython3",
   "version": "3.9.7"
  }
 },
 "nbformat": 4,
 "nbformat_minor": 4
}