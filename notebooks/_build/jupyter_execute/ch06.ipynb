{
 "cells": [
  {
   "cell_type": "markdown",
   "metadata": {},
   "source": [
    "# 함수"
   ]
  },
  {
   "cell_type": "markdown",
   "metadata": {},
   "source": [
    "프로그램은 명령문의 합성으로 구현된다. \n",
    "그런데 특정 기능을 수행하는 명령문의 일부가 너무 길거나,\n",
    "반복적으로 사용되어 보다 편하게 사용하고 싶거나\n",
    "프로그램을 보다 체계적으로 구현하도록 하고 싶을 때가 있다.\n",
    "그럴 때 특정 기능을 수행하는 명령문에 이름을 주고\n",
    "필요에 따라 해당 이름을 대신 활용할 수 있다.\n",
    "\n",
    "예를 들어, `print('함수란 ...')`는 실행되면 \n",
    "`print()` 함수에 내재된\n",
    "명령문이 작동하여 모니터 화면에 \n",
    "문자열 `함수란 ...`을 출력한다.\n",
    "그런데 `print()` 함수에 내재된 어떤 명령문이 정확히 무슨 일을 하는지\n",
    "사용자는 쉽게 알지 못하고 또 굳이 알 필요도 없다. \n",
    "화면에 문자열을 출력하고 싶을 때 `print()` 함수를 \n",
    "사용할 수 있다는 사실만 기억하고 있으면 된다.\n",
    "\n",
    "이렇게 함수는 함수의 이름에 가려진 명령문을 대행하며\n",
    "해당 명령문을 실행하려면 지정된 함수를 \n",
    "**호출**<font size=\"2\">call</font>하면 된다."
   ]
  },
  {
   "cell_type": "markdown",
   "metadata": {},
   "source": [
    "## 함수 호출"
   ]
  },
  {
   "cell_type": "markdown",
   "metadata": {},
   "source": [
    "**함수 호출**<font size=\"2\">function call</font>은\n",
    "함수 이름과 연관된 명령문을 실행하도록 하는 일종의 명령문이다.\n",
    "함수 호출의 일반적인 형식은 다음과 같다. \n",
    "\n",
    "```python\n",
    "함수이름(인자1, 인자2, ..., 인자n)\n",
    "```"
   ]
  },
  {
   "cell_type": "markdown",
   "metadata": {},
   "source": [
    "`print()` 함수를 호출하는 방식은 다음과 같다."
   ]
  },
  {
   "cell_type": "code",
   "execution_count": 1,
   "metadata": {},
   "outputs": [
    {
     "name": "stdout",
     "output_type": "stream",
     "text": [
      "함수란 ...\n"
     ]
    }
   ],
   "source": [
    "print('함수란 ...')"
   ]
  },
  {
   "cell_type": "markdown",
   "metadata": {},
   "source": [
    "`int()` 함수는 소수점 이하를 버리는 명령문을 실행한다."
   ]
  },
  {
   "cell_type": "code",
   "execution_count": 2,
   "metadata": {},
   "outputs": [
    {
     "data": {
      "text/plain": [
       "3"
      ]
     },
     "execution_count": 2,
     "metadata": {},
     "output_type": "execute_result"
    }
   ],
   "source": [
    "int(3.14)"
   ]
  },
  {
   "cell_type": "markdown",
   "metadata": {},
   "source": [
    "`type()` 함수는 인자의 자료형을 확인하는 명령문을 실행한다."
   ]
  },
  {
   "cell_type": "code",
   "execution_count": 3,
   "metadata": {},
   "outputs": [
    {
     "data": {
      "text/plain": [
       "float"
      ]
     },
     "execution_count": 3,
     "metadata": {},
     "output_type": "execute_result"
    }
   ],
   "source": [
    "type(2.37)"
   ]
  },
  {
   "cell_type": "markdown",
   "metadata": {},
   "source": [
    ":::{admonition} 인자를 받지 않는 함수의 호출\n",
    ":class: info\n",
    "\n",
    "인자를 사용하지 않는 함수라 하더라도\n",
    "함수 호출은 열고닫기 괄호를 반드시 사용해야 한다.\n",
    "예를 들어 `dir()` 함수는 인자를 사용하지 않고 호출하면\n",
    "현재 사용가능한 함수 또는 변수의 목록을 반환한다.\n",
    "\n",
    "```python\n",
    ">>> dir()\n",
    "['__annotations__', '__builtins__', '__doc__', '__loader__', '__name__', '__package__', '__spec__']\n",
    "```\n",
    "\n",
    "반면에 괄호를 사용하지 않으면 함수 자체에 대한 정보를 확인해준다.\n",
    "예를 들어 다음과 같이 `dir` 가 내장 함수임을 확인해준다.\n",
    "\n",
    "```python\n",
    ">>> dir\n",
    "<built-in function dir>\n",
    "```\n",
    "\n",
    "**내장 함수**<font size=\"2\">built-in function</font>란 파이썬에서 기본으로 제공하는 함수라는 의미이다. "
   ]
  },
  {
   "cell_type": "markdown",
   "metadata": {},
   "source": [
    "### 함수의 인자"
   ]
  },
  {
   "cell_type": "markdown",
   "metadata": {},
   "source": [
    "모든 함수는 호출될 때 적절한 개수의 인자를 사용해야 한다.\n",
    "그렇지 않은 경우 오류가 발생한다. \n",
    "예를 들어, `type()` 함수는 1개 또는 3개의 인자와 함께 \n",
    "호출되어야 하며, 그렇지 않은 경우 아래와 같은 \n",
    "오류가 발생한다.\n",
    "\n",
    "```python\n",
    ">>> type()\n",
    "Traceback (most recent call last):\n",
    "  File \"<stdin>\", line 1, in <module>\n",
    "TypeError: type() takes 1 or 3 arguments\n",
    "```"
   ]
  },
  {
   "cell_type": "markdown",
   "metadata": {},
   "source": [
    ":::{admonition} 세 개의 인자를 사용하는 `type()` 함수\n",
    ":class: info\n",
    "\n",
    "`type(2.37)`처럼 하나의 인자를 사용하면 인자의 자료형을 확인해준다.\n",
    "반면에 세 개의 인자를 사용하는 경우는 특정 클래스의 객체를 \n",
    "생성할 때 사용하며, 여기서는 자세히 다루지 않는다.\n",
    ":::"
   ]
  },
  {
   "cell_type": "markdown",
   "metadata": {},
   "source": [
    "### 함수의 반환값과 `return` 키워드"
   ]
  },
  {
   "cell_type": "markdown",
   "metadata": {},
   "source": [
    "함수를 호출하면 함수에 의해 지정된 명령문을 실행한 후에\n",
    "최종적으로 어떤 값을 \n",
    "반환<font size=\"2\">return</font>하기도 한다.\n",
    "반환값은 `return 반환값` 형식의 명령문으로 지정된다.\n",
    "\n",
    "예를 들어 `int(3.14)`는 정수 `3`을, \n",
    "`type(2.37)`은 부동소수점의 자료형인 `float`를\n",
    "함수 실행의 결괏값으로 반환하며,\n",
    "반환된 값은 다른 연산에 재활용될 수 있다."
   ]
  },
  {
   "cell_type": "code",
   "execution_count": 4,
   "metadata": {},
   "outputs": [
    {
     "data": {
      "text/plain": [
       "4"
      ]
     },
     "execution_count": 4,
     "metadata": {},
     "output_type": "execute_result"
    }
   ],
   "source": [
    "y = int(3.14)\n",
    "y + 1"
   ]
  },
  {
   "cell_type": "markdown",
   "metadata": {},
   "source": [
    ":::{admonition} 자료형과 값\n",
    ":class: info\n",
    "\n",
    "`int`, `float` 등과 같은 자료형도 하나의 값으로 취급한다. \n",
    "앞으로 보겠지만, 파이썬에서 다루는 모든 **객체**<font size=\"2\">object</font>는\n",
    "값으로 사용될 수 있다.\n",
    ":::"
   ]
  },
  {
   "cell_type": "markdown",
   "metadata": {},
   "source": [
    "### `print()` 함수와 `None` 값"
   ]
  },
  {
   "cell_type": "markdown",
   "metadata": {},
   "source": [
    "파이썬은 모든 함수가 반환값을 갖도록 강제한다.\n",
    "`print()` 함수처럼 반환값이 없는 것처럼 보이는 함수도\n",
    "공식적으로는 아무런 의미가 없는 값을 의미하는 `None`을\n",
    "반환값으로 사용한다.\n",
    "\n",
    "`None`은 `NoneType` 자료형에 속하는 하나의 값이다.\n",
    "따라서 변수 할당에 사용되어 저장될 수 있다.\n",
    "하지만 연산 등에 사용하면 오류가 발생한다.\n",
    "즉, 아무런 기능을 수행하지 못한다. \n",
    "\n",
    "```python\n",
    ">>> x = None\n",
    ">>> x + 1\n",
    "Traceback (most recent call last):\n",
    "  File \"<stdin>\", line 1, in <module>\n",
    "TypeError: unsupported operand type(s) for +: 'NoneType' and 'int'\n",
    "```"
   ]
  },
  {
   "cell_type": "markdown",
   "metadata": {},
   "source": [
    "`print()` 함수에 의해 \n",
    "화면에 출력되는 문자열은 반환값이 아니고\n",
    "화면에 지정된 값을 출력하는 명령문의 실행 결과에 불과하다.\n",
    "함수의 반환값은 변수에 할당해서 활용할 수 있지만 \n",
    "화면에 출력된 문자열은 그럴 수 없다는 데서 `print()` 함수는 특정한 반환값을\n",
    "생성하지 않고, 대신에 `None`이 반환값으로 사용된다는 것을 확인할 수 있다.\n",
    "\n",
    "예를 들어 아래 할당 명령문을 실행할 때 화면에 보여지는 `3.14`는 \n",
    "변수 `x`가 가리키는 값이 아니다."
   ]
  },
  {
   "cell_type": "code",
   "execution_count": 5,
   "metadata": {},
   "outputs": [
    {
     "name": "stdout",
     "output_type": "stream",
     "text": [
      "3.14\n"
     ]
    }
   ],
   "source": [
    "x = print(3.14)"
   ]
  },
  {
   "cell_type": "markdown",
   "metadata": {},
   "source": [
    "변수 `x`는 `None`을 가리킨다."
   ]
  },
  {
   "cell_type": "code",
   "execution_count": 6,
   "metadata": {},
   "outputs": [
    {
     "name": "stdout",
     "output_type": "stream",
     "text": [
      "None\n"
     ]
    }
   ],
   "source": [
    "print(x)"
   ]
  },
  {
   "cell_type": "markdown",
   "metadata": {},
   "source": [
    "## 형변환 함수"
   ]
  },
  {
   "cell_type": "markdown",
   "metadata": {},
   "source": [
    "부동소수점 또는 정수 모양의 문자열을 정수로 변환하는 `int()` 함수는\n",
    "하나의 자료형을 다른 자료형으로 변환된 값을 반환한다.\n",
    "이처럼 자료형을 변환하는 것을 **형변환**<font size=\"2\">type casting 또는 type conversion</font>라 하며\n",
    "파이썬은 다양한 형변환 함수를 제공한다.\n",
    "`int()` 이외에 대표적으로 정수 또는 부동소수점 모양의 문자열을 부동소수점으로\n",
    "변환하는 `float()` 함수,\n",
    "모든 값을 문자열로 변환하는 `str()` 함수가 있다. "
   ]
  },
  {
   "cell_type": "code",
   "execution_count": 7,
   "metadata": {},
   "outputs": [
    {
     "data": {
      "text/plain": [
       "3"
      ]
     },
     "execution_count": 7,
     "metadata": {},
     "output_type": "execute_result"
    }
   ],
   "source": [
    "int(3.14)"
   ]
  },
  {
   "cell_type": "code",
   "execution_count": 8,
   "metadata": {},
   "outputs": [
    {
     "data": {
      "text/plain": [
       "3"
      ]
     },
     "execution_count": 8,
     "metadata": {},
     "output_type": "execute_result"
    }
   ],
   "source": [
    "int('3')"
   ]
  },
  {
   "cell_type": "code",
   "execution_count": 9,
   "metadata": {},
   "outputs": [
    {
     "data": {
      "text/plain": [
       "27.0"
      ]
     },
     "execution_count": 9,
     "metadata": {},
     "output_type": "execute_result"
    }
   ],
   "source": [
    "float(27)"
   ]
  },
  {
   "cell_type": "code",
   "execution_count": 10,
   "metadata": {},
   "outputs": [
    {
     "data": {
      "text/plain": [
       "27.25"
      ]
     },
     "execution_count": 10,
     "metadata": {},
     "output_type": "execute_result"
    }
   ],
   "source": [
    "float('27.25')"
   ]
  },
  {
   "cell_type": "code",
   "execution_count": 11,
   "metadata": {},
   "outputs": [
    {
     "data": {
      "text/plain": [
       "'3.15'"
      ]
     },
     "execution_count": 11,
     "metadata": {},
     "output_type": "execute_result"
    }
   ],
   "source": [
    "str(3.15)"
   ]
  },
  {
   "cell_type": "code",
   "execution_count": 12,
   "metadata": {},
   "outputs": [
    {
     "data": {
      "text/plain": [
       "'22'"
      ]
     },
     "execution_count": 12,
     "metadata": {},
     "output_type": "execute_result"
    }
   ],
   "source": [
    "str(22)"
   ]
  },
  {
   "cell_type": "markdown",
   "metadata": {},
   "source": [
    "## 수학 함수"
   ]
  },
  {
   "cell_type": "markdown",
   "metadata": {},
   "source": [
    "$\\sin x$, $\\cos x$, $\\sqrt{x}$, $\\log x$, $e^x$ 등\n",
    "수학에서 많이 사용되는 함수를 파이썬에서 기본으로 제공한다. "
   ]
  },
  {
   "cell_type": "markdown",
   "metadata": {},
   "source": [
    "### `math` 모듈"
   ]
  },
  {
   "cell_type": "markdown",
   "metadata": {},
   "source": [
    "파이썬에서 기본으로 제공하는 다양한 수학 함수를 사용하려면 먼저\n",
    "`math` 라는 모듈<font size=\"2\">module</font>을 \n",
    "불러와야<font size=\"2\">import</font> 한다.\n",
    "모듈은 {numref}`%s 장 <ch:module>`에서 자세히 살펴볼 것이며, \n",
    "여기서는 모듈이 다양한 함수를 모아 놓은 파이썬 코드 파일이라는 \n",
    "사실 정도만 기억하면 된다.\n",
    "`math` 모듈을 불러오는 방식은 다음과 같다."
   ]
  },
  {
   "cell_type": "code",
   "execution_count": 13,
   "metadata": {},
   "outputs": [],
   "source": [
    "import math"
   ]
  },
  {
   "cell_type": "markdown",
   "metadata": {},
   "source": [
    ":::{admonition} 자료형과 값\n",
    ":class: info\n",
    "\n",
    "앞서 언급했듯이 파이썬에 다루는 모든 객체는 특정 \n",
    "자료형에 속하는 하나의 값이다.\n",
    "`math` 모듈 조차도 하나의 값이며\n",
    "`module` 자료형에 속한다.\n",
    "\n",
    "```python\n",
    ">>> type(math)\n",
    "<class 'module'>\n",
    "```\n",
    ":::"
   ]
  },
  {
   "cell_type": "markdown",
   "metadata": {},
   "source": [
    "모듈에 포함된 함수를 호출하려면 모듈과 함수를 구두점으로 구분해서 명시해야 한다.\n",
    "예를 들어 정수 10을 밑으로 하는 상용로그 함수 $\\log_{10}$에 해당하는 \n",
    "`log10()` 함수를 사용하는 방법은 다음과 같다."
   ]
  },
  {
   "cell_type": "code",
   "execution_count": 14,
   "metadata": {},
   "outputs": [
    {
     "data": {
      "text/plain": [
       "1.0"
      ]
     },
     "execution_count": 14,
     "metadata": {},
     "output_type": "execute_result"
    }
   ],
   "source": [
    "math.log10(10)"
   ]
  },
  {
   "cell_type": "code",
   "execution_count": 15,
   "metadata": {},
   "outputs": [
    {
     "data": {
      "text/plain": [
       "100.0"
      ]
     },
     "execution_count": 15,
     "metadata": {},
     "output_type": "execute_result"
    }
   ],
   "source": [
    "10 ** math.log10(100)"
   ]
  },
  {
   "cell_type": "markdown",
   "metadata": {},
   "source": [
    "`math.log()`는 자연로그 함수($\\ln = \\log_e$)를 가리킨다."
   ]
  },
  {
   "cell_type": "code",
   "execution_count": 16,
   "metadata": {},
   "outputs": [
    {
     "data": {
      "text/plain": [
       "2.302585092994046"
      ]
     },
     "execution_count": 16,
     "metadata": {},
     "output_type": "execute_result"
    }
   ],
   "source": [
    "math.log(10)"
   ]
  },
  {
   "cell_type": "code",
   "execution_count": 17,
   "metadata": {},
   "outputs": [
    {
     "data": {
      "text/plain": [
       "1.0"
      ]
     },
     "execution_count": 17,
     "metadata": {},
     "output_type": "execute_result"
    }
   ],
   "source": [
    "math.log(2.718281828459045)"
   ]
  },
  {
   "cell_type": "markdown",
   "metadata": {},
   "source": [
    "`math.sqrt()`는 제곱근 함수 $\\sqrt{x}$를 가리킨다."
   ]
  },
  {
   "cell_type": "code",
   "execution_count": 18,
   "metadata": {},
   "outputs": [
    {
     "data": {
      "text/plain": [
       "1.4142135623730951"
      ]
     },
     "execution_count": 18,
     "metadata": {},
     "output_type": "execute_result"
    }
   ],
   "source": [
    "math.sqrt(2)"
   ]
  },
  {
   "cell_type": "markdown",
   "metadata": {},
   "source": [
    "`math.exp()`는 지수 함수 $e^x$를 가리킨다."
   ]
  },
  {
   "cell_type": "code",
   "execution_count": 19,
   "metadata": {},
   "outputs": [
    {
     "data": {
      "text/plain": [
       "2.718281828459045"
      ]
     },
     "execution_count": 19,
     "metadata": {},
     "output_type": "execute_result"
    }
   ],
   "source": [
    "math.exp(1)"
   ]
  },
  {
   "cell_type": "markdown",
   "metadata": {},
   "source": [
    "::::{prf:example}\n",
    ":label: degree2radian\n",
    "\n",
    "일반각의 각도<font size=\"2\">degree</font>를 \n",
    "호도법의 라디안<font size=\"2\">radian</font>으로 \n",
    "변환하는 공식은 다음과 같다.\n",
    "\n",
    "$$\n",
    "\\text{라디안} = \\frac{\\text{각도}}{180} \\, \\pi\n",
    "$$\n",
    "\n",
    "일반각 90도를 라디안으로 변환한 후에 \n",
    "사인<font size=\"2\">sine</font>값을 계산하는 과정은 다음과 같다.\n",
    "`math.pi`는 원주율을 가리킨다.\n",
    "\n",
    "```python\n",
    ">>> degree = 90\n",
    ">>> radian = degree / 180.0 * math.pi\n",
    ">>> math.sin(radian)\n",
    "1.0\n",
    "```"
   ]
  },
  {
   "cell_type": "markdown",
   "metadata": {},
   "source": [
    "### NumPy 패키지"
   ]
  },
  {
   "cell_type": "markdown",
   "metadata": {},
   "source": [
    "[넘파이<font size=\"2\">NumPy</font>](https://numpy.org)는 \n",
    "행렬, 다차원 배열 등을 효율적으로 빠르게 \n",
    "처리하는 많은 수학 함수를 지원하는 파이썬 라이브러리 패키지이며\n",
    "데이터분석, 계산과학 등 컴퓨터를 이용한 계산이 필요한 영역에서 많이 활용된다.\n",
    "파이썬의 기본 패키지에는 포함되지 않지만\n",
    "계산과학 툴킷인 \n",
    "[아나콘다 파이썬 배포판<font size=\"2\">Anaconda Python distribution</font>](https://www.anaconda.com)은\n",
    "함께 지원한다."
   ]
  },
  {
   "cell_type": "markdown",
   "metadata": {},
   "source": [
    ":::{admonition} 모듈과 패키지\n",
    ":class: info\n",
    "\n",
    "패키지<font size=\"2\">package</font>는 일종의 모듈 모음집이다.\n",
    "즉, 많이 활용되는 함수 등을 기능과 분야별로 여러 개의 모듈로 분류해서 모아놓은 것을 가리킨다.\n",
    "패키지와 모듈은 하나의 폴더 안에 내용에 따라 여러 개의 파일로 정리하는 개념과 유사하다.\n",
    "파일이 많아지면 폴더를 여러 개의 하위 폴더로 분류해서 파일을 분류하는 것처럼\n",
    "패키지를 여러 개의 하위 패키지로 구분하기도 한다.\n",
    "하위 패키지에 포함된 모듈의 활용법도 기본적으로 모듈의 함수를 사용하는 방법과 동일하다.\n",
    "나중에 그래프를 그릴 때 필요한 패키지와 모듈을 사용해야 할 때 활용 예제를 보게 될 것이다.\n",
    ":::"
   ]
  },
  {
   "cell_type": "markdown",
   "metadata": {},
   "source": [
    "넘파이 패키지는 앞서 언급한 `math` 모듈에서 지원하는 함수들을 포함해서 보다 많은 함수와 기능을 지원한다.\n",
    "앞으로 필요할 때마다 하나씩 넘파이가 제공하는 기능을 활용할 것이다. \n",
    "넘파이를 사용하려면 먼저 `numpy` 모듈을 불러오면 된다.\n",
    "그런데 `numpy`를 보통 `np`라는 약칭으로 아래처럼 불러온다."
   ]
  },
  {
   "cell_type": "code",
   "execution_count": 20,
   "metadata": {},
   "outputs": [],
   "source": [
    "import numpy as np"
   ]
  },
  {
   "cell_type": "markdown",
   "metadata": {},
   "source": [
    "모듈에 포함된 함수를 사용하는 방식은 `math.sqrt()` 처럼 구두점을 사용한다.\n",
    "다만 약칭이 지정된 모듈은 반드시 이용해서 사용해야 한다.\n",
    "\n",
    "`math` 모듈에 포함된 함수의 이름이 `numpy` 모듈에서 거의 동일하게 사용되었다."
   ]
  },
  {
   "cell_type": "code",
   "execution_count": 21,
   "metadata": {},
   "outputs": [
    {
     "data": {
      "text/plain": [
       "1.0"
      ]
     },
     "execution_count": 21,
     "metadata": {},
     "output_type": "execute_result"
    }
   ],
   "source": [
    "np.log10(10)"
   ]
  },
  {
   "cell_type": "code",
   "execution_count": 22,
   "metadata": {},
   "outputs": [
    {
     "data": {
      "text/plain": [
       "1.000631880307906"
      ]
     },
     "execution_count": 22,
     "metadata": {},
     "output_type": "execute_result"
    }
   ],
   "source": [
    "np.log(2.72)"
   ]
  },
  {
   "cell_type": "code",
   "execution_count": 23,
   "metadata": {},
   "outputs": [
    {
     "data": {
      "text/plain": [
       "1.4142135623730951"
      ]
     },
     "execution_count": 23,
     "metadata": {},
     "output_type": "execute_result"
    }
   ],
   "source": [
    "np.sqrt(2)"
   ]
  },
  {
   "cell_type": "code",
   "execution_count": 24,
   "metadata": {},
   "outputs": [
    {
     "data": {
      "text/plain": [
       "2.718281828459045"
      ]
     },
     "execution_count": 24,
     "metadata": {},
     "output_type": "execute_result"
    }
   ],
   "source": [
    "np.exp(1)"
   ]
  },
  {
   "cell_type": "code",
   "execution_count": 25,
   "metadata": {},
   "outputs": [
    {
     "data": {
      "text/plain": [
       "1.0"
      ]
     },
     "execution_count": 25,
     "metadata": {},
     "output_type": "execute_result"
    }
   ],
   "source": [
    "degree = 90\n",
    "radian = degree / 180.0 * np.pi\n",
    "np.sin(radian)"
   ]
  },
  {
   "cell_type": "markdown",
   "metadata": {},
   "source": [
    ":::{admonition} 함수 중복 정의\n",
    ":class: info\n",
    "\n",
    "`math`, `numpy` 두 모듈에 포함된 많은 함수가 동일한 이름을 사용한다.\n",
    "하지만 다른 모듈의 동일한 이름의 두 함수는 서로 다른 함수이다.\n",
    "일반 구문상 `math.exp()`와 `np.exp()` 처럼 모듈의 이름으로 구분된다.\n",
    "\n",
    "동일한 기능을 수해하는 함수라 하더라도 \n",
    "각 함수의 본문에 사용된 명령문은 기본적으로 다르다.\n",
    "실제로 `numpy` 모듈이 제공하는 수학 함수가 `math` 모듈이\n",
    "제공하는 동일 이름의 수학 함수보다 실행속도가 빠른 경우가 많다. \n",
    "\n",
    "하나의 모듈에서 동일한 이름의 두 함수를 지원하는 기능을 \n",
    "**함수 중복 정의** 또는 **함수 오버로딩**<font size=\"2\">function overloading</font>이라 한다.\n",
    "파이썬과 C 언어는 이 기능을 지원하지 않는 반면에 Java, C++, C# 등은 지원한다.\n",
    ":::"
   ]
  },
  {
   "cell_type": "markdown",
   "metadata": {},
   "source": [
    "## 함수 정의하기"
   ]
  },
  {
   "cell_type": "markdown",
   "metadata": {},
   "source": [
    "파이썬에서 사용자가 임의로 함수를 정의해서 사용할 수 있다.\n",
    "함수를 정의하는 방식은 다음과 같다.\n",
    "\n",
    "```python\n",
    "def 함수이름(매개변수1, 매개변수2, ..., 매개변수n):\n",
    "    명령문\n",
    "```\n",
    "\n",
    "키워드 `def` 로 시작하는 첫쨋줄은 함수의 기본 정보를 담은 **헤더**<font size=\"2\">header</font>이고\n",
    "나머지는 함수의 **본문**<font size=\"2\">body</font>이다.\n",
    "함수의 본문은 함수가 호출되었을 때 실행해야 하는 명령문을 담는다.\n",
    "\n",
    "문법적으로 다음 두 가지 사항에 주의해야 한다.\n",
    "\n",
    "- 함수 이름 짓기는 변수 이름 짓기와 동일한 조건을 따라야 한다.\n",
    "- 함수 본문에 사용되는 명령문은 들여쓰며, 보통 한 번의 탭<font size=\"2\">tab</font> 키 누르기에 \n",
    "    해당한다."
   ]
  },
  {
   "cell_type": "markdown",
   "metadata": {},
   "source": [
    "### 함수의 반환값"
   ]
  },
  {
   "cell_type": "markdown",
   "metadata": {},
   "source": [
    "함수의 반환값은 본문에 사용된 명령문을 실행하다가\n",
    "어느 순간 아래 모양의 기본 명령문을 실행하는 순간 결정된다.\n",
    "\n",
    "\n",
    "```python\n",
    "return 표현식\n",
    "```\n",
    "\n",
    "위 `return` 명령문이 실행되는 순간\n",
    "지정된 `표현식`이 가리키는 값이 반환되면서 함수의 실행이 멈춘다."
   ]
  },
  {
   "cell_type": "markdown",
   "metadata": {},
   "source": [
    ":::{admonition} `print()` 함수와 `return None` 명령문\n",
    ":class: info\n",
    "\n",
    "`print()` 함수의 반환값이 없다는 의미는\n",
    "`return` 명령문이 `print()` 함수의 본문에 포함되지 않았다는 것을 의미하며,\n",
    "이런 경우 파이썬 해석기는 `return None`을 자동으로 실행하면서 함수 호출을 종료한다.\n",
    ":::"
   ]
  },
  {
   "cell_type": "markdown",
   "metadata": {},
   "source": [
    "### 매개 변수와 인자"
   ]
  },
  {
   "cell_type": "markdown",
   "metadata": {},
   "source": [
    "**매개 변수**<font size=\"2\">parameter</font>는\n",
    "함수 호출에 사용되는 **인자**<font size=\"2\">argument</font>를\n",
    "함수 본문 명령문에 전달하는 역할을 수행한다.\n",
    "전달방식은 각 매개 변수가 지정된 인자를 가리키도록 하는 변수 할당을 통해 이루어진다.\n",
    "\n",
    "함수 호출이 다음과 같이 진행되었다고 가정하자.\n",
    "\n",
    "```python\n",
    "함수이름(인자1, 인자2, ..., 인자n)\n",
    "```\n",
    "\n",
    "그러면 함수의 본문에 포함된 명령문이 실행되기 이전에 다음 할당 명령문이 먼저 실행된다.\n",
    "\n",
    "```python\n",
    "매개변수1 = 인자1\n",
    "매개변수2 = 인자2\n",
    "...\n",
    "매개변수n = 인자n\n",
    "```"
   ]
  },
  {
   "cell_type": "markdown",
   "metadata": {},
   "source": [
    "::::{prf:example}\n",
    ":label: myAdd\n",
    "\n",
    "두 숫자의 합을 계산하는 함수 `myAdd`를 아래와 같이 직접 정의할 수 있다.\n",
    "더해야 할 두 개의 값을 입력받아야 하기에 두 개의 매개 변수가 필요하다.\n",
    "\n",
    "```python\n",
    "def myAdd(left, right):\n",
    "    sum = left + right\n",
    "    return sum\n",
    "```\n",
    "\n",
    "이제 `myAdd(-2, 5)`를 실행하면 아래 명령문이 실행된다.\n",
    "\n",
    "```python\n",
    "left = -2\n",
    "right = 5\n",
    "sum = left + right\n",
    "```\n",
    "\n",
    "결국 `sum`은 정수 `3`을 가리키게 되어 함수의 실행은 3을 \n",
    "반환하면서 종료한다.\n",
    "::::"
   ]
  },
  {
   "cell_type": "markdown",
   "metadata": {},
   "source": [
    "::::{prf:example} 인자 없는 함수\n",
    ":label: no-parameters\n",
    "\n",
    "매개 변수를 사용하지 않는 함수라 하더라도 반드시 괄호와 함께 호출해야 한다.\n",
    "\n",
    "```python\n",
    ">>> def myPrint():\n",
    "...     print('인자 없어요!')\n",
    "...\n",
    ">>> myPrint()\n",
    "인자 없어요!\n",
    "```\n",
    "::::"
   ]
  },
  {
   "cell_type": "markdown",
   "metadata": {},
   "source": [
    "### 제1종 객체 "
   ]
  },
  {
   "cell_type": "markdown",
   "metadata": {},
   "source": [
    "프로그래밍 언어에서 \n",
    "**제1종 객체**<font size=\"2\">first-class object</font>는 \n",
    "변수 할당, 함수의 인자, 함수의 반환값 등으로 사용될 수 있는\n",
    "객체<font size=\"2\">object</font>를 가리킨다.\n",
    "반면에 그렇지 않은 객체는 \n",
    "**제2종 객체**<font size=\"2\">second-class object</font>라고 \n",
    "한다."
   ]
  },
  {
   "cell_type": "markdown",
   "metadata": {},
   "source": [
    ":::{admonition} 제1종 객체 대 일급 객체 \n",
    ":class: tip\n",
    "\n",
    "first-class object를 주로 ''일급 객체''로 번역되지만\n",
    "\"제1종 객체\"가 개념상 보다 적절하다.\n",
    "first-class와 second-class는 사용법상 구분을 나타내는 반면에\n",
    "일급, 이급 표현은 질적 차이를 내포한다.\n",
    ":::"
   ]
  },
  {
   "cell_type": "markdown",
   "metadata": {},
   "source": [
    "프로그래밍 언어에 따라 제1종 객체의 기준이 다르다.\n",
    "대표적으로 C 언어의 경우 함수는 제1종 객체가 아니다.\n",
    "즉, 함수를 다른 함수의 인자 또는 반환값으로 사용할 수 없다.\n",
    "반면에 파이썬은 다룰 수 있는 모든 것이 제1종 객체이다. \n",
    "\n",
    "함수가 하나의 값이기에 예를 들어 다음과 같이 \n",
    "`myPrint()` 함수를 변수 할당에 사용할 수 있다.\n",
    "단, 함수를 하나의 값으로 취급할 때는 괄호를 전혀 \n",
    "사용하지 않는다.\n",
    "\n",
    "```python\n",
    ">>> a_function = myPrint\n",
    ">>> a_function\n",
    "<function myPrint at 0x7f1c890a2af0>\n",
    ">>> \n",
    "```\n",
    "\n",
    "괄호을 사용하면 함수 호출을 의미하깅 아래 코드는 `myPrint()` 함수가\n",
    "호출된 후에 반환한 `None`이 변수 할당에 사용된다.\n",
    "\n",
    "```python\n",
    ">>> a_return_value = myPrint()\n",
    "인자 없어요!\n",
    ">>> a_return_value\n",
    ">>> \n",
    "```"
   ]
  },
  {
   "cell_type": "markdown",
   "metadata": {},
   "source": [
    ":::{admonition} C 언어의 포인터 활용\n",
    ":class: info\n",
    "\n",
    "C 언어는 제1종 객체의 범위가 매우 제한적이다. \n",
    "반면에 파이썬, \n",
    "C++, C#, \n",
    "자바<font size=\"2\">Java</font>, \n",
    "자바스크립트<font size=\"2\">Javascript</font>, \n",
    "스위프트<font size=\"2\">Swift</font> 등\n",
    "보다 현대적인 프로그래밍 언어는\n",
    "이미 또는 거의 모든 객체를 제1종 객체로 지원한다.\n",
    "\n",
    "C 언어는 포인터<font size=\"2\">pointer</font>를 이용하여 \n",
    "함수, 구조체 등 제1종 객체가 아닌 대상을 다루며, \n",
    "포인터가 C 언어에서 핵심적인 역할을 수행하는 이유가 바로 여기에 있다.\n",
    ":::"
   ]
  },
  {
   "cell_type": "markdown",
   "metadata": {},
   "source": [
    "::::{prf:example} 함수를 인자로 받는 함수\n",
    ":label: exp:first-class-function_1\n",
    "\n",
    "아래 조건을 만족하도록 `do_twice()` 함수를 정의해보자.\n",
    "\n",
    "* 두 개의 인자를 받는다.\n",
    "* 첫째 인자는 하나의 인자를 받는 함수가 사용된다.\n",
    "* 둘째 인자는 첫째 인자로 사용된 함수의 인자로 사용될 값이다. \n",
    "* 둘째 인자로 들어온 값에 대해 두 번 연속 적용한 값을 반환한다.\n",
    "\n",
    "함수 `f`를 인자 `x`에 두 번 연속 적용한다는 의미는`f(f(x))`를 의미한다.\n",
    "따라서 `do_twice()` 함수를 다음과 같이 정의할 수 있다.\n",
    "\n",
    "```python\n",
    "def do_twice(func, arg):\n",
    "    x = func(arg)\n",
    "    return func(x)\n",
    "```\n",
    "\n",
    "`three_times()` 함수는 인자의 세 배를 반환한다.\n",
    "\n",
    "```python\n",
    "def three_times(num):\n",
    "    return num * 3\n",
    "```\n",
    "\n",
    "`three_times()` 함수를 정수 `2`에 대해 연속으로 적용한 값은 18이다.\n",
    "실제로 2의 세 배는 6, 6의 세 배는 18이다.\n",
    "다음과 같이 확인할 수 있다.\n",
    "\n",
    "```python\n",
    ">>> do_twice(three_times, 2)\n",
    "18\n",
    "```\n",
    "\n",
    "위 계산은 다음과 동일하다.\n",
    "\n",
    "```python\n",
    ">>> three_times(three_times(2))\n",
    "18\n",
    "```\n",
    "\n",
    "::::"
   ]
  },
  {
   "cell_type": "markdown",
   "metadata": {},
   "source": [
    "::::{prf:example} 함수를 반환하는 함수\n",
    ":label: exp:first-class-function_2\n",
    "\n",
    "`adding_n_func(n)`를 호출하면\n",
    "`n`을 더하는 함수 `myAdd_n()`을 반환한다.\n",
    "\n",
    "```python\n",
    "def adding_n_func(n):\n",
    "\n",
    "    def myAdd_n(m):\n",
    "        return n + m\n",
    "    \n",
    "    return myAdd_n\n",
    "```\n",
    "\n",
    "그려면 `adding_n_func(10)`은 입력값에 10을 더한 값을 반환하는 함수를\n",
    "반환한다.\n",
    "\n",
    "```python\n",
    ">>> myAdd10 = adding_n_func(10)\n",
    ">>> myAdd10(3)\n",
    "13\n",
    "```\n",
    "::::"
   ]
  },
  {
   "cell_type": "markdown",
   "metadata": {},
   "source": [
    ":::{admonition} C 언어의 포인터 활용\n",
    ":class: info\n",
    "\n",
    "C 언어는 제1종 객체의 범위가 매우 제한적이다. \n",
    "반면에 파이썬, \n",
    "C++, C#, \n",
    "자바<font size=\"2\">Java</font>, \n",
    "자바스크립트<font size=\"2\">Javascript</font>, \n",
    "스위프트<font size=\"2\">Swift</font> 등\n",
    "보다 현대적인 프로그래밍 언어는\n",
    "이미 또는 점점 더 거의 모든 객체를 제1종 객체로 지원한다.\n",
    "\n",
    "C 언어는 함수, 구조체 등 제1종 객체가 아닌 객체를\n",
    "포인터를 이용하여 다룬다. \n",
    "포인터가 C 언어에서 핵심적인 역할을 수행하는 이유가 여기에 있다.\n",
    ":::"
   ]
  },
  {
   "cell_type": "markdown",
   "metadata": {},
   "source": [
    "(sec:keyword-arguments)=\n",
    "### 키워드 인자"
   ]
  },
  {
   "cell_type": "markdown",
   "metadata": {},
   "source": [
    "`print()` 함수는 여러 개의 인자를 받을 수 있다.\n",
    "그러면 각 인자를 공백<font size=\"2\">space</font>으로 구분하여\n",
    "함께 한 줄에 출력한다."
   ]
  },
  {
   "cell_type": "code",
   "execution_count": 26,
   "metadata": {},
   "outputs": [
    {
     "name": "stdout",
     "output_type": "stream",
     "text": [
      "Hello, Python !\n"
     ]
    }
   ],
   "source": [
    "print('Hello,', 'Python', '!')"
   ]
  },
  {
   "cell_type": "markdown",
   "metadata": {},
   "source": [
    "그런데 각각의 인자를 서로 다른 줄에 출력하려면 아래와 같이 해야 한다."
   ]
  },
  {
   "cell_type": "code",
   "execution_count": 27,
   "metadata": {},
   "outputs": [
    {
     "name": "stdout",
     "output_type": "stream",
     "text": [
      "Hello,\n",
      "Python\n",
      "!\n"
     ]
    }
   ],
   "source": [
    "print('Hello,', 'Python', '!', sep='\\n')"
   ]
  },
  {
   "cell_type": "markdown",
   "metadata": {},
   "source": [
    "`sep='\\n'`의 `sep`은 `print()` 함수의 숨겨진 매개 변수이며\n",
    "인자를 굳이 지정하지 않으면 **키워드 인자**<font size=\"2\">keyword argument</font>로 \n",
    "지정된 값을 사용한다.\n",
    "매개 변수 `sep`의 원래 키워드 인자는 한 칸 띄어쓰기를 의미하는 문자열(`' '`)이며,\n",
    "사용된 인자들을 한 칸씩 띄어서 한 줄에 보여주도록 한다.\n",
    "\n",
    "`print()`함수에는\n",
    "`sep` 이외에 `end`, `file`, `flush`가\n",
    "키워드 인자를 갖는 매개 변수이다.\n",
    "실제로 `print()` 함수의 헤더는 다음과 같다.\n",
    "\n",
    "```python\n",
    "print(value, ..., sep=' ', end='\\n', file=sys.stdout, flush=False)\n",
    "```\n",
    "\n",
    "- 둘째 매개 변수 자리에 위치한 말줄임표(`...`)는 \n",
    "    여러 개의 값이 인자로 사용될 수 있음을 의미한다.\n",
    "- `end='\\n'` 매개 변수는 지정된 인자들을 출력한 후에 \n",
    "    기본적으로 줄바꿈을 실행하는 것을 의미한다.\n",
    "    `end=''`로 설정하면 줄바꿈을 하지 않게 된다. \n",
    "    아래 두 경우를 비교하면 차이점을 확인할 수 있다.\n",
    "\n",
    "    먼저 `end='\\n'` 기본값을 그대로 사용하는 경우엔 굳이 언급하지 않는다.\n",
    "\n",
    "    ```python\n",
    "    >>> print('Hello,', 'Python', '!', sep='\\n')\n",
    "    Hello,\n",
    "    Python\n",
    "    !\n",
    "    >>>\n",
    "    ```\n",
    "\n",
    "    다음은 줄바꿈을 나타내는 문자열 `'\\n'` 대신 \n",
    "    아무런 문자도 포함하지 않는 빈 문자열 `''`를 `end` 매개 변수의 인자로 사용한다.\n",
    "\n",
    "    ```python\n",
    "    >>> print('Hello,', 'Python', '!', sep='\\n', end='')\n",
    "    Hello,\n",
    "    Python\n",
    "    !>>>\n",
    "    ```"
   ]
  },
  {
   "cell_type": "markdown",
   "metadata": {},
   "source": [
    ":::{admonition} `file`과 `flush` 매개 변수\n",
    ":class: info\n",
    "\n",
    "`print()` 함수의 `file`과 `flush` 두 매개 변수는 특별한 경우에 활용되며\n",
    "간단한 예제는 [이곳](https://velog.io/@janeljs/python-print-sep-end-file-flush)에서 확인할 수 있다.\n",
    ":::"
   ]
  },
  {
   "cell_type": "markdown",
   "metadata": {},
   "source": [
    "::::{prf:example}\n",
    ":label: keyword_argument\n",
    "\n",
    "아래 코드는 `myAdd10()` 함수를 키워드 인자를 이용하여\n",
    "정의하는 방식을 보여준다. \n",
    "\n",
    "```python\n",
    "def myAdd10(left, right=10):\n",
    "    add10 = left + right\n",
    "    return add10\n",
    "```\n",
    "\n",
    "둘째 인자가 생략되면 자동으로 10이 대신 사용된다.\n",
    "\n",
    "```python\n",
    ">>> myAdd10(5) # right=10\n",
    "15\n",
    "```\n",
    "\n",
    "둘째 인자를 별도로 지정하면 지정된 값이 사용된다.\n",
    "\n",
    "```python\n",
    ">>> myAdd10(5, right=20)\n",
    "25\n",
    "```\n",
    "::::"
   ]
  },
  {
   "cell_type": "markdown",
   "metadata": {},
   "source": [
    "### 함수 합성과 함수 호출 표현식"
   ]
  },
  {
   "cell_type": "markdown",
   "metadata": {},
   "source": [
    "수학에서 $f$, $g$ 두 개의 함수를 합성해서 새로운 함수 $f\\circ g$ 를 \n",
    "다음과 같이 정의한다.\n",
    "\n",
    "$$\n",
    "(f\\circ g) (x) := f(g(x))\n",
    "$$\n",
    "\n",
    "동일한 방식으로 파이썬 함수를 합성하여 새로운 표현식을 정의할 수 있다.\n",
    "다음은 곱셈, 나눗셈, 사인 함수의 합성을 활용한 표현식이다.\n",
    "\n",
    "```python\n",
    "math.sin(degree / 360.0 * 2 * math.pi)\n",
    "```\n",
    "\n",
    "`f(x1, ..., xn)` 등의 함수 호출 표현식이 가리키는 값은\n",
    "함수 본문에 지정된 명령문이 \n",
    "실행되는 도중에 만나는 `return 표현식` 명령문의 `표현식`이 가리키는 값이다.\n",
    "예를 들어 아래 코드에서 변수 `x` 가 가리키는 값은 지수승 함수 `np.exp()`가\n",
    "`np.log(2)`를 인자로 사용해서 계산된 반환값을 가리킨다."
   ]
  },
  {
   "cell_type": "code",
   "execution_count": 28,
   "metadata": {},
   "outputs": [],
   "source": [
    "x = np.exp(np.log(2))"
   ]
  },
  {
   "cell_type": "markdown",
   "metadata": {},
   "source": [
    "### 프로그램 실행과 함수 호출"
   ]
  },
  {
   "cell_type": "markdown",
   "metadata": {},
   "source": [
    "파이썬 프로그램의 실행은 기본적으로 \n",
    "\"위에서 아래로\"와 \"왼쪽에서 오른쪽으로\"의 두 기준으로\n",
    "더 이상 실행할 명령문이 없을 때까지 진행된다.\n",
    "\n",
    "그런데 프로그램 실행 도중에 \n",
    "함수 호출이 발생하면 함수의 실행이 종료될 때까지 이후 명령문은 대기한다. \n",
    "함수 호출은 프로그램 실행 도중에 발생하는 일종의 \"나들이\"이다. \n",
    "즉, 프로그램 실행 도중 잠시 일을 멈추고 다른 일을 먼저 완료하는 기능이며\n",
    "나들이 도중에 얻어진 결과물을 이어서 활용할 수 있다.\n",
    "\n",
    "물론 함수 본문에서 다른 함수를 호출할 수도 있기 때문에 \n",
    "프로그램의 실행은 무한정 복잡해질 수 있다.\n",
    "다행히도 파이썬 해석기가 프로그램의 실행 과정을 철저하게 \n",
    "추적하고 관리한다. "
   ]
  },
  {
   "cell_type": "markdown",
   "metadata": {},
   "source": [
    "## 지역 변수와 전역 변수"
   ]
  },
  {
   "cell_type": "markdown",
   "metadata": {},
   "source": [
    "함수를 선언할 때 사용되는 매개 변수와 함수 본문에서 선언되는 변수는 \n",
    "함수가 실행되는 동안에만 의미를 가지며, \n",
    "이런 의미에서 **지역 변수**<font size=\"2\">local variable</font>라 한다.\n",
    "반면에 함수 밖에서도 의미를 갖는 변수는 **전역 변수**<font size=\"2\">global variable</font>이다. \n",
    "\n",
    "아래 코드에서 `hour_to_min()` 함수는 시간을 분으로 변환한 값을 반환한다. \n",
    "매개 변수 `hour`와 함수 본문에서 선언된 `minutes` 변수는 모두 지역 변수이다.\n",
    "반면에 `two_hour` `hour_to_min(2)`의 실행 결괏값을 가리키는 전역 변수이다. "
   ]
  },
  {
   "cell_type": "code",
   "execution_count": 29,
   "metadata": {},
   "outputs": [],
   "source": [
    "def hour2min(hour):\n",
    "    minutes = hour * 60\n",
    "    return minutes\n",
    "\n",
    "two_hour = hour2min(2)"
   ]
  },
  {
   "cell_type": "markdown",
   "metadata": {},
   "source": [
    "위 코드의 실행 결과 `two_hour` 변수는 120을 가리킨다."
   ]
  },
  {
   "cell_type": "code",
   "execution_count": 30,
   "metadata": {},
   "outputs": [
    {
     "name": "stdout",
     "output_type": "stream",
     "text": [
      "2 시간은 120 분입니다.\n"
     ]
    }
   ],
   "source": [
    "print(\"2 시간은\", two_hour, \"분입니다.\")"
   ]
  },
  {
   "cell_type": "markdown",
   "metadata": {},
   "source": [
    "반면에 `minutes`와 `hour` 두 지역변수는 더 이상 존재하지 않으며\n",
    "두 변수가 가리키는 값을 확인하려 시도하면 이름이 존재하지 않음을 의미하는\n",
    "`NameError` 오류가 발생한다. "
   ]
  },
  {
   "cell_type": "markdown",
   "metadata": {},
   "source": [
    "```python\n",
    ">>> print(minutes)\n",
    "Traceback (most recent call last):\n",
    "  File \"<stdin>\", line 1, in <module>\n",
    "NameError: name 'minutes' is not defined\n",
    "```"
   ]
  },
  {
   "cell_type": "markdown",
   "metadata": {},
   "source": [
    "```python\n",
    ">>> print(hour)\n",
    "Traceback (most recent call last):\n",
    "  File \"<stdin>\", line 1, in <module>\n",
    "NameError: name 'hour' is not defined\n",
    "```"
   ]
  },
  {
   "cell_type": "markdown",
   "metadata": {},
   "source": [
    ":::{admonition} 파이썬 튜터 활용: 지역 변수의 생존 주기\n",
    ":class: info\n",
    "\n",
    "[PythonTutor:지역 변수 전역 변수](http://pythontutor.com/visualize.html#code=def%20hour_to_min%28hour%29%3A%0A%20%20%20%20minutes%20%3D%20hour%20*%2060%0A%20%20%20%20return%20minutes%0A%0Atwo_hour%20%3D%20hour_to_min%282%29%0Aprint%28minutes%29&cumulative=false&curInstr=0&heapPrimitives=nevernest&mode=display&origin=opt-frontend.js&py=3&rawInputLstJSON=%5B%5D&textReferences=false)에서\n",
    "`hour`와 `minutes`의 생존주기, 즉, 언제 생성되고 언제 사라지는지를 시각적으로 확인할 수 있다.\n",
    ":::"
   ]
  },
  {
   "cell_type": "markdown",
   "metadata": {},
   "source": [
    "## 콜 스택: 프레임의 생성과 사멸"
   ]
  },
  {
   "cell_type": "markdown",
   "metadata": {},
   "source": [
    "함수가 실행되는 동안 발생하는 모든 정보는 컴퓨터 메모리 상에서\n",
    "**프레임**<font size=\"2\">frame</font> 형식으로 관리된다.\n",
    "프레임은 하나의 함수가 실행되는 동안 발생하는 지역 변수의 생성 및 값 할당, \n",
    "할당된 값 업데이트 등을 관리한다.\n",
    "함수의 실행과 함께 생성된 프레임은 함수의 실행이 종료되면 스택에서 사라진다.\n",
    "하지만 함수의 반환값은 지정된 변수에 할당되거나 다른 함수의 인자로 전달된다.\n",
    "\n",
    "다음 코드를 이용하여 함수 호출과 프레임 생성 및 사멸의 관계를 알아보자."
   ]
  },
  {
   "cell_type": "code",
   "execution_count": 31,
   "metadata": {},
   "outputs": [
    {
     "name": "stdout",
     "output_type": "stream",
     "text": [
      "2 시간은 7200 초입니다.\n"
     ]
    }
   ],
   "source": [
    "def hour2min(hour):\n",
    "    min = hour * 60\n",
    "    return min\n",
    "\n",
    "def hour2sec(hour):\n",
    "    min = hour2min(hour)\n",
    "    sec = 60 * min\n",
    "    return sec\n",
    "\n",
    "print(\"2 시간은\", hour2sec(2), \"초입니다.\")"
   ]
  },
  {
   "cell_type": "markdown",
   "metadata": {},
   "source": [
    "아래 그림은 `hour2sec(2)`가 실행되면 이어서 바로 `hour2min(2)`가 호출되어\n",
    "`hour`와 `min` 두 지역 변수로 구성된 프레임이 포함된 콜 스택의 상태를 보여준다.\n",
    "\n",
    "<div align=\"center\"><img src=\"https://raw.githubusercontent.com/codingalzi/pybook/master/notebooks/images/stack-diagram.jpg\" style=\"width:275px;\"></div>\n",
    "\n",
    "- 맨 위 프레임: Global frame은 전역적<font size=\"2\">global</font>으로 \n",
    "    사용 가능한 함수 이름과 전역 변수를 관리한다.\n",
    "- 가운데 프레임: hour2sec 프레임은 `hour2sec()` 함수가 호출되면서 \n",
    "    생성된 프레임이며, 매개 변수 `hour`가 \n",
    "    지역 변수로 포함되어 있다.\n",
    "- 맨 아래 프레임: hour2min 프레임은 \n",
    "    변수 할당문 `min = hour2min(hour)`를 실행하면 먼저 \n",
    "    `hour2min()` 함수가 호출되기에 새로 생성된 프레임이다.\n",
    "    매개 변수 `hour`와 지역 변수 `min`이 포함된다.\n",
    "- hour2sec 프레임의 지역 변수 `sec`은 `hour2min(hour)` 의 반환값이 정해지면 그때 포함된다.\n",
    "\n",
    "위 코드의 전체 실행 과정을 \n",
    "[PythonTutor: 프레임의 생성과 사멸](https://pythontutor.com/visualize.html#code=def%20hour2min%28hour%29%3A%0A%20%20%20%20min%20%3D%20hour%20*%2060%0A%20%20%20%20return%20min%0A%0Adef%20hour2sec%28hour%29%3A%0A%20%20%20%20min%20%3D%20hour2min%28hour%29%0A%20%20%20%20sec%20%3D%2060%20*%20min%0A%20%20%20%20return%20sec%0A%0Aprint%28%222%20%EC%8B%9C%EA%B0%84%EC%9D%80%22,%20hour2sec%282%29,%20%22%EC%B4%88%EC%9E%85%EB%8B%88%EB%8B%A4.%22%29&cumulative=false&curInstr=0&heapPrimitives=nevernest&mode=display&origin=opt-frontend.js&py=3&rawInputLstJSON=%5B%5D&textReferences=false)에서\n",
    "확인해 보면 함수 호출이 발생할 때마다 프레임이 생성되고 또 함수의 실행이 완료될 때마다\n",
    "해당 함수의 프레임이 사멸하는 것을 확인할 수 있다."
   ]
  },
  {
   "cell_type": "markdown",
   "metadata": {},
   "source": [
    "프레임은 생성된 순서 역순으로 사멸한다.\n",
    "즉, 가장 나중에 생성된 프레임이 가장 먼저,\n",
    "가장 먼저 생성된 프레임이 가장 나중에 사멸한다. \n",
    "이렇게 작동하는 구조가 **스택**<font size=\"2\">stack</font> 이기에\n",
    "함수의 프레임으로 구성된 스택을 **콜 스택**<font size=\"2\">call stack</font>이라 부른다.\n",
    "**스택 다이어그램**(stack diagram)은 콜 스택의 변화를 다이어그램으로 표현한다.\n",
    "위 프로그램의 실행 과정에서의 \n",
    "스택 다이어그램의 변화는 다음과 같다.\n",
    "\n",
    "- 프레임 생성 순서\n",
    "\n",
    "```\n",
    "Global frame => hour2sec 프레임 => hour2min 프레임\n",
    "```\n",
    "\n",
    "- 프레임 사멸 순서\n",
    "\n",
    "```\n",
    "hour2min 프레임 => hour2sec 프레임 => Global frame\n",
    "```"
   ]
  },
  {
   "cell_type": "markdown",
   "metadata": {},
   "source": [
    "## 연습문제 "
   ]
  },
  {
   "cell_type": "markdown",
   "metadata": {},
   "source": [
    "1. 다음 조건을 만족시키는 `right_align()`라는 함수를 정의하라.\n",
    "    * `s` 라는 매개 변수 하나만 사용한다.\n",
    "    * 하나의 문자열과 함께 호출되면 해당 문자열의 끝이 20번째 칸에 위치하도록\n",
    "        화면에 출력하라.\n",
    "\n",
    "    ```python\n",
    "    >>> right_align('python')\n",
    "                  python\n",
    "    >>> right_align('hello python')\n",
    "            hello python\n",
    "    ```                                                                 \n",
    "\n",
    "    힌트: 입력 문자열의 길이를 확인 한 후에 출력할 문자열을 지정하라.\n",
    "    문자열의 길이는 `len()` 함수를 이용한다.\n",
    "\n",
    "1. 지금까지 배운 방식만을 이용하여 다음 문제를 해결하라.\n",
    "\n",
    "    1. 다음과 같은 격자를 그리는 함수를 작성하라.\n",
    "\n",
    "        ```\n",
    "        + - - - - + - - - - +\n",
    "        |         |         |\n",
    "        |         |         |\n",
    "        |         |         |\n",
    "        |         |         |\n",
    "        + - - - - + - - - - +\n",
    "        |         |         |\n",
    "        |         |         |\n",
    "        |         |         |\n",
    "        |         |         |\n",
    "        + - - - - + - - - - +\n",
    "        ```\n",
    "\n",
    "        힌트: {numref}`%s <sec:keyword-arguments>`절의 `print()` 함수 설명 참고.\n",
    "\n",
    "    1. 위 문제와 유사하게 4개의 행과 4개의 열을 갖는 격자를 그리는 함수를 작성하라."
   ]
  }
 ],
 "metadata": {
  "kernelspec": {
   "display_name": "Python 3 (ipykernel)",
   "language": "python",
   "name": "python3"
  },
  "language_info": {
   "codemirror_mode": {
    "name": "ipython",
    "version": 3
   },
   "file_extension": ".py",
   "mimetype": "text/x-python",
   "name": "python",
   "nbconvert_exporter": "python",
   "pygments_lexer": "ipython3",
   "version": "3.9.7"
  }
 },
 "nbformat": 4,
 "nbformat_minor": 1
}