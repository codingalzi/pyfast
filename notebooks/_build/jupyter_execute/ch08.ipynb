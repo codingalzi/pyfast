{
 "cells": [
  {
   "cell_type": "markdown",
   "metadata": {},
   "source": [
    "# 조건문"
   ]
  },
  {
   "cell_type": "markdown",
   "metadata": {},
   "source": [
    "**조건문**<font size=\"2\">conditional statement</font>은\n",
    "특정 조건의 성립여부에 따라 다른 일을 하게 만드는 명령문이다.\n",
    "조건문의 가장 간단한 형식은 다음과 같다.\n",
    "\n",
    "```python\n",
    "if x < 0:\n",
    "    print('x는 음수')\n",
    "```\n",
    "\n",
    "위 조건문이 실행되는 순간 변수 `x`가 가리키는 값이 0보다 작으면 `'x는 음수'` \n",
    "라는 문장을 출력하고, 그렇지 않으면 다음 명령문으로 넘어간다. \n",
    "\n",
    "조건문의 헤더<font size=\"2\">header</font>는 \n",
    "`if` 키워드와 **조건**<font size=\"2\">condition</font>으로 구성된다.\n",
    "조건은 참 또는 거짓을 가리키는 **부울식**<font size=\"2\">boolean expression</font>으로\n",
    "표현되며\n",
    "조건이 참일 때 조건문의 본문이 실행된다.\n",
    "\n",
    "조건문의 본문에 사용된 명령문은 함수의 본문처럼 들여쓰며\n",
    "비어둘 수 없다.\n",
    "조건문의 본문을 비워 둔 다음에 나중에 다시 살펴보고자 하는 경우\n",
    "아무 것도 하지 말고 지나가라는 의미의 `pass` 명령문을 사용하곤 한다.\n",
    "\n",
    "```python\n",
    "if x < 0:\n",
    "    pass          # 음수인 경우 할 일을 나중에 추가할 것!\n",
    "```"
   ]
  },
  {
   "cell_type": "markdown",
   "metadata": {},
   "source": [
    "(sec:boolean_expression)=\n",
    "## 부울식"
   ]
  },
  {
   "cell_type": "markdown",
   "metadata": {},
   "source": [
    "**부울식**<font size=\"2\">boolean expression</font>은\n",
    "`True`와 `False` 두 개의 값중 하나를 가리키는 표현식이다.\n",
    "예를 들어, 두 표현식의 동치성 여부를 판단하는 연산자 `==`를\n",
    "이용한 부울식은 다음과 같다."
   ]
  },
  {
   "cell_type": "code",
   "execution_count": 1,
   "metadata": {},
   "outputs": [
    {
     "data": {
      "text/plain": [
       "True"
      ]
     },
     "execution_count": 1,
     "metadata": {},
     "output_type": "execute_result"
    }
   ],
   "source": [
    "5 == 4 + 1"
   ]
  },
  {
   "cell_type": "code",
   "execution_count": 2,
   "metadata": {},
   "outputs": [
    {
     "data": {
      "text/plain": [
       "False"
      ]
     },
     "execution_count": 2,
     "metadata": {},
     "output_type": "execute_result"
    }
   ],
   "source": [
    "3 + 2 ==  3 * 2"
   ]
  },
  {
   "cell_type": "markdown",
   "metadata": {},
   "source": [
    ":::{admonition} `==` vs. `=`\n",
    ":class: warning\n",
    "\n",
    "등호 기호가 하나인 경우와 두 개인 경우는 완전히 다르다.\n",
    "두 개의 등호 기호 `==` 는 동치<font size=\"2\">equality</font>\n",
    "여부를 판단하는 비교 연산자인 반면에\n",
    "하나의 등호 기호 `=` 는 변수 할당에 사용되는 특별한 기호이다.\n",
    "\n",
    "만약 `x = 3` 이 변수 `x`와 정수 `3`이 동일함을 의미한다면\n",
    "`3 = x` 또한 의미가 있어야 한다.\n",
    "그런데 이는 허용되지 않는 구문이다. \n",
    "파이썬을 포함한 대부분의 프로그래밍 언어는 등호 기호 왼편애 변수만 허용한다.\n",
    "\n",
    "```python\n",
    ">>> x = 3\n",
    ">>> 3 = x\n",
    "  File \"<stdin>\", line 1\n",
    "    3 = x\n",
    "    ^\n",
    "SyntaxError: cannot assign to literal\n",
    "```\n",
    ":::"
   ]
  },
  {
   "cell_type": "markdown",
   "metadata": {},
   "source": [
    "두 표현식이 서로 다른 값을 가리키는지 여부, 즉 동치성의 반대를 판단하는 연산자는 `!=`이며,\n",
    "`==` 와 반대로 작동한다."
   ]
  },
  {
   "cell_type": "code",
   "execution_count": 3,
   "metadata": {},
   "outputs": [
    {
     "data": {
      "text/plain": [
       "False"
      ]
     },
     "execution_count": 3,
     "metadata": {},
     "output_type": "execute_result"
    }
   ],
   "source": [
    "5 != 4 + 1"
   ]
  },
  {
   "cell_type": "code",
   "execution_count": 4,
   "metadata": {},
   "outputs": [
    {
     "data": {
      "text/plain": [
       "True"
      ]
     },
     "execution_count": 4,
     "metadata": {},
     "output_type": "execute_result"
    }
   ],
   "source": [
    "3 + 2 !=  3 * 2"
   ]
  },
  {
   "cell_type": "markdown",
   "metadata": {},
   "source": [
    "부울식이 가리키는 `True`와 `False`는 `bool` 자료형의 유일한 값이다.\n",
    "즉 `bool` 자료형은 참과 거짓 이외의 값은 존재하지 않는다."
   ]
  },
  {
   "cell_type": "code",
   "execution_count": 5,
   "metadata": {},
   "outputs": [
    {
     "data": {
      "text/plain": [
       "bool"
      ]
     },
     "execution_count": 5,
     "metadata": {},
     "output_type": "execute_result"
    }
   ],
   "source": [
    "type(True)"
   ]
  },
  {
   "cell_type": "code",
   "execution_count": 6,
   "metadata": {},
   "outputs": [
    {
     "data": {
      "text/plain": [
       "bool"
      ]
     },
     "execution_count": 6,
     "metadata": {},
     "output_type": "execute_result"
    }
   ],
   "source": [
    "type(False)"
   ]
  },
  {
   "cell_type": "markdown",
   "metadata": {},
   "source": [
    "### 비교 연산자"
   ]
  },
  {
   "cell_type": "markdown",
   "metadata": {},
   "source": [
    "`==`는 두 값의 동치여부를 판단하는 **비교 연산자**이다.\n",
    "이외에 다음 비교 연산자가 참, 거짓을 가리키는 부울식에 많이 사용된다.\n",
    "\n",
    "```python\n",
    "    x != y       # x와 y가 서로 다른 값을 가리킬 때 참\n",
    "    x > y        # x가 y보다 클 때 참\n",
    "    x < y        # x가 y보다 작을 때 참\n",
    "    x >= y       # x가 y보다 크거나 같을 때 참\n",
    "    x <= y       # x가 y보다 작거나 같을 때 참\n",
    "```"
   ]
  },
  {
   "cell_type": "markdown",
   "metadata": {},
   "source": [
    "::::{prf:example}\n",
    ":label: exp_comparison\n",
    "\n",
    "변수 `x`가 가리키는 값이 짝수이면 2로 나눈 값을,\n",
    "그렇지 않으면 두 배한 값을 출력하도록 해보자.\n",
    "\n",
    "정수의 짝수 여부는 2로 나눈 나머지가 0 또는 1인지 여부로 판단할 수 있다.\n",
    "파이썬의 나머지 연산자는 `%` 이다.\n",
    "\n",
    "```python\n",
    ">>> 21 % 6\n",
    "3\n",
    ">>> 21 % 4\n",
    "1\n",
    "```\n",
    "\n",
    "따라서 다음 부울식이 짝수 여부를 판단한다.\n",
    "\n",
    "```python\n",
    "x % 2 == 0\n",
    "```\n",
    "\n",
    "반면에 몫을 계산하는 연산자는 `//` 이다.\n",
    "\n",
    "```python\n",
    ">>> 27 // 6\n",
    "4\n",
    ">>> 27 // 4\n",
    "6\n",
    "```\n",
    "\n",
    "정리하면 짝수일 때와 홀수일 때 지정된 일을 하도록 하는 명령문은 다음과 같다.\n",
    "\n",
    "```python\n",
    "if x % 2 == 0:\n",
    "    print(x // 2)\n",
    "else:\n",
    "    print(x * 2)\n",
    "```\n",
    "::::"
   ]
  },
  {
   "cell_type": "markdown",
   "metadata": {},
   "source": [
    "### 논리 연산자"
   ]
  },
  {
   "cell_type": "markdown",
   "metadata": {},
   "source": [
    "논리 연산자를 이용하여 보다 복잡한 부울식을 생성할 수 있다.\n",
    "`and`, `or`, `not` 세 개의 논리 연산자가 기본으로 제공되며\n",
    "기능과 사용법은 영어 단어의 일반적인 의미와 유사하다.\n",
    "\n",
    "| 연산자 | 기능 | 예제 | 의미 |\n",
    "| :---:  | :---: | :---: | :--- |\n",
    "|`and` | 논리곱 연산자| `x > 0 and x < 10` | `x`가 0보다 크고 10보다 작음 | \n",
    "| `or` | 논리합 연산자 |`n % 2 == 0 or n % 3 == 0` | `n`이 2의 배수 또는 3의 배수 |\n",
    "| `not` | 논리곱 연산자 | `not (x > y)` | x가 y보다 크가 않음 |"
   ]
  },
  {
   "cell_type": "markdown",
   "metadata": {},
   "source": [
    "파이썬이 제공하는 편리 기능 중에 하나로 \n",
    "논리 연산자의 인자로 부울식이 아닌 값이 사용될 수 있다.\n",
    "예를 들어, 0이 아닌 수는 참, 0은 거짓으로 처리된다."
   ]
  },
  {
   "cell_type": "code",
   "execution_count": 7,
   "metadata": {},
   "outputs": [
    {
     "data": {
      "text/plain": [
       "True"
      ]
     },
     "execution_count": 7,
     "metadata": {},
     "output_type": "execute_result"
    }
   ],
   "source": [
    "17 and True"
   ]
  },
  {
   "cell_type": "markdown",
   "metadata": {},
   "source": [
    "이외에 `None`은 거짓, 빈 리스트는 거짓으로 그렇지 않은 리스트는 참으로 등등처럼\n",
    "많은 값들에 대해 비어 있거나 또는 의미가 없는 값은 거짓으로\n",
    "그렇지 않으면 참으로 처리한다.\n",
    "하지만 이런 방식은 코드의 이해를 어렵게 만들 수 있기에 조심해서 사용해야 한다."
   ]
  },
  {
   "cell_type": "markdown",
   "metadata": {},
   "source": [
    "## `if ... else ...` 조건문"
   ]
  },
  {
   "cell_type": "markdown",
   "metadata": {},
   "source": [
    "변수 `x`가 가리키는 값이 음수가 아닐 때에는 음수가 아니다 라는 내용도 출력하는\n",
    "기능을 추가하려면 다음과 같이 조건문을 작성한다.\n",
    "\n",
    "```python\n",
    "if x < 0:\n",
    "    print('x는 음수')\n",
    "else:\n",
    "    print('x는 음수 아님!')\n",
    "```\n",
    "\n",
    "이처럼 조건 제어문의 일반적인 형식은 다음과 같다.\n",
    "\n",
    "```python\n",
    "if 조건식:\n",
    "    명령문1\n",
    "else:\n",
    "    명령문2\n",
    "```\n",
    "\n",
    "- `명령문1`: 조건식이 참일 때 실행\n",
    "- `명령문2`: 조건식이 거짓일 때 실행"
   ]
  },
  {
   "cell_type": "markdown",
   "metadata": {},
   "source": [
    "## `elif` 키워드"
   ]
  },
  {
   "cell_type": "markdown",
   "metadata": {},
   "source": [
    "세 개 이상의 경우를 다루고자 할 경우\n",
    "다음과 같은 형식을 사용한다.\n",
    "\n",
    "```python\n",
    "if x < y:\n",
    "    print('x가 y보다 작다')\n",
    "elif x > y:\n",
    "    print('x가 y보다 크다')\n",
    "else:\n",
    "    print('x와 y가 같다')\n",
    "```"
   ]
  },
  {
   "cell_type": "markdown",
   "metadata": {},
   "source": [
    "`elif`는 영어의 ''else if''의 줄임말이며,\n",
    "임의로 많이 사용될 수 있고,\n",
    "`else` 는 생략될 수 있지만 사용된다면 항상 마지막에 위치해야 한다.\n",
    "`if`와 `elif` 문에 사용된 조건은 위에서 차례대로 확인되어\n",
    "참이되는 경우의 명령문이 실행되며 나머지 경우는 무조건 무시된다."
   ]
  },
  {
   "cell_type": "markdown",
   "metadata": {},
   "source": [
    "예를 들어 `y`를 5로 나눈 나머지에 따라 다른 명령문을 다음과 같이 지정할 수 있다.\n",
    "\n",
    "```python\n",
    "x = y % 5\n",
    "\n",
    "if x == 0:\n",
    "    print('나머지가 0')\n",
    "elif x == 1:\n",
    "    print('나머지가 1')\n",
    "elif x == 2:\n",
    "    print('나머지가 2')\n",
    "elif x == 3:\n",
    "    print('나머지가 3')\n",
    "else\n",
    "    print('나머지가 4')\n",
    "```"
   ]
  },
  {
   "cell_type": "markdown",
   "metadata": {},
   "source": [
    "`else`를 사용하지 않을 수도 있다.\n",
    "\n",
    "```python\n",
    "x = y % 5\n",
    "\n",
    "if x == 0:\n",
    "    print('나머지가 0')\n",
    "elif x == 1:\n",
    "    print('나머지가 1')\n",
    "elif x == 2:\n",
    "    print('나머지가 2')\n",
    "elif x == 3:\n",
    "    print('나머지가 3')\n",
    "elif x == 4:\n",
    "    print('나머지가 4')\n",
    "```"
   ]
  },
  {
   "cell_type": "markdown",
   "metadata": {},
   "source": [
    "## 중첩 조건문"
   ]
  },
  {
   "cell_type": "markdown",
   "metadata": {},
   "source": [
    "`elif` 키워드는 사실 없어도 된다.\n",
    "예를 들어 크거나, 작거나, 같은 세 가지 경우를 다음과 같이 다룰 수 있다.\n",
    "\n",
    "```python\n",
    "if x < y:\n",
    "    print('x가 y보다 작다')\n",
    "else:\n",
    "    if x > y:\n",
    "        print('x가 y보다 크다')\n",
    "    else:\n",
    "        print('x와 y가 같다')\n",
    "```"
   ]
  },
  {
   "cell_type": "markdown",
   "metadata": {},
   "source": [
    "위와 같이 `if ... else ...` 조건문을 중첩해서 사용하면\n",
    "원하는 대로 경우를 나누어서 처리할 수 있다.\n",
    "경우의 확인 순서는 바깥 쪽에 위치한 경우부터 시작해서\n",
    "점차 `else` 문 안쪽으로 진행한다.\n",
    "\n",
    "일반적으로 3번 이상의 중첩을 사용하는 것은 권장되지 않는다.\n",
    "이유는 경우의 구분이 너무 복잡해질 수 있기 때문이다.\n",
    "가능하면 중첩 조건문 대신에 `elif` 문을 활용할 것이 권장된다."
   ]
  },
  {
   "cell_type": "markdown",
   "metadata": {},
   "source": [
    "::::{prf:example}\n",
    ":label: exp_nested_conditionals\n",
    "\n",
    "논리 연산자를 활용하여 중첩 조건문의 활용을 피할 수도 있다.\n",
    "\n",
    "아래 코드는 중첩 조건문을 사용하여 `x`가 0보다 크면서 동시에 10보다 작은 경우를 다룬다.\n",
    "\n",
    "```python\n",
    "if 0 < x:\n",
    "    if x < 10:\n",
    "        print('x가 0보다 크고 동시에 10보다 작은 경우')\n",
    "```\n",
    "\n",
    "`print()` 함수가 `0 < x`와 `x < 10` 두 조건을 모두 만족하는 경우에만\n",
    "실행되기에 아래와 같이 `and` 연산자를 이용하면 굳이 조건문을 \n",
    "중첩으로 사용할 필요가 없다. \n",
    "\n",
    "```python\n",
    "if 0 < x and x < 10:\n",
    "    print('x가 0보다 크고 동시에 10보다 작은 경우')\n",
    "```\n",
    "\n",
    "참고로 `0 < x and x < 10` 을 `0 < x < 10`로 표현할 수 있다.\n",
    "\n",
    "```python\n",
    "if 0 < x < 10:\n",
    "    print('x가 0보다 크고 동시에 10보다 작은 경우')\n",
    "```\n",
    "::::\n"
   ]
  }
 ],
 "metadata": {
  "kernelspec": {
   "display_name": "Python 3 (ipykernel)",
   "language": "python",
   "name": "python3"
  },
  "language_info": {
   "codemirror_mode": {
    "name": "ipython",
    "version": 3
   },
   "file_extension": ".py",
   "mimetype": "text/x-python",
   "name": "python",
   "nbconvert_exporter": "python",
   "pygments_lexer": "ipython3",
   "version": "3.9.7"
  }
 },
 "nbformat": 4,
 "nbformat_minor": 1
}