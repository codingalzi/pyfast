{
 "cells": [
  {
   "cell_type": "markdown",
   "metadata": {},
   "source": [
    "# 데이터 과학과 파이썬"
   ]
  },
  {
   "cell_type": "markdown",
   "metadata": {},
   "source": [
    "**감사의 말**: 아래 내용은 [SciPy Lecture Notes](https://scipy-lectures.org/_downloads/ScipyLectures-simple.pdf)의 1장 내용을 많이 참고합니다. "
   ]
  },
  {
   "cell_type": "markdown",
   "metadata": {},
   "source": [
    "## 파이썬"
   ]
  },
  {
   "cell_type": "markdown",
   "metadata": {},
   "source": [
    "데이터 과학자는 보통 다음 세 가지를 필요로 한다.\n",
    "\n",
    "* 데이터 구하기: 모의 실험\n",
    "* 데이터 처리: 데이터로부터 정보 얻기\n",
    "* 데이터 시각화: 얻어진 정보 이해 및 전달"
   ]
  },
  {
   "cell_type": "markdown",
   "metadata": {},
   "source": [
    "파이썬의 장점은 다음과 같다.\n",
    "\n",
    "* 수치 계산, 데이터 처리 및 시각화와 관련된 많고 다양한 툴을 제공한다.\n",
    "* 배우고 사용하기 쉽다.\n",
    "* 문법이 단순하다.\n",
    "* 효율적인 코드를 작성하기 쉽다.\n",
    "* 데이터 분석 이외에 프로그래밍 관련 모든 분야에서 사용된다."
   ]
  },
  {
   "cell_type": "markdown",
   "metadata": {},
   "source": [
    "## 파이썬 대 기타 언어"
   ]
  },
  {
   "cell_type": "markdown",
   "metadata": {},
   "source": [
    "**컴파일 언어**\n",
    "\n",
    "C, C++, C#, 자바 등 작성된 코드를 컴파일<font size=\"2\">compile</font>한 후에 실행하도록 하는 \n",
    "컴파일 언어<font size=\"2\">compiled language</font>의\n",
    "장점과 단점은 다음과 같다.\n",
    "\n",
    "* 장점\n",
    "    * 실행이 매우 빠르다. 따라서 매우 많은 양의 계산에 적합하다.\n",
    "* 단점\n",
    "    * 사용하기 어렵다. 메모리 수동 관리, 복잡한 구문 등 일반 사용자가 접근하기에는 \n",
    "        조금 어려운 프로그래밍 언어이다."
   ]
  },
  {
   "cell_type": "markdown",
   "metadata": {},
   "source": [
    "**매트랩**<font size=\"2\">Matlab</font>\n",
    "\n",
    "* 장점\n",
    "    * 다양한 분야에서 활용될 수 있는 효율적인 수치 계산용 알고리즘을 포함하는 라이브러리를 제공한다.\n",
    "    * 편리한 개발환경을 제공한다.\n",
    "    * (유료) 기술 지원이 제공된다.\n",
    "* 단점\n",
    "    * 언어 자체가 고수준의 기능을 지원하지 않는다.\n",
    "    * 유료."
   ]
  },
  {
   "cell_type": "markdown",
   "metadata": {},
   "source": [
    "**R**\n",
    "\n",
    "* 장점\n",
    "    * 오픈 소스<font size=\"2\">open source</font>이며 무료.\n",
    "    * 통계 관련 고수준의 기능을 지원한다.\n",
    "    \n",
    "* 단점\n",
    "    * 매트랩보다 지원되는 알고리즘이 적으며, 언어 자체도 고수준의 기능을 제대로 지원하지 않는다.\n",
    "    * 지원되는 기능도 제한적인 영역에서만 활용되어 보편성이 떨어진다."
   ]
  },
  {
   "cell_type": "markdown",
   "metadata": {},
   "source": [
    "**파이썬**\n",
    "\n",
    "* 장점\n",
    "    * 계산 관련 라이브러리가 풍부하다.\n",
    "    * 체계적이며 가독성이 높은 코드 작성을 지원한다.\n",
    "    * 웹서버 등 계산 과학 이외의 기타 분야에서도 활용되는 라이브러리를 지원한다.\n",
    "    * 오픈 소스이자 무료이고 많은 사용자 그룹이 존재한다.\n",
    "    * 다양한 개발환경이 지원된다.\n",
    "        * [IPython](http://ipython.readthedocs.io/en/stable/)\n",
    "        * [Spyder](https://www.spyder-ide.org/)\n",
    "        * [Jupyter notebooks](http://jupyter.org/)\n",
    "        * [Visual Studio Code](https://code.visualstudio.com/docs/languages/python)\n",
    "        \n",
    "* 단점\n",
    "    * 컴파일 언어로 작성된 프로그램에 비해 상대적으로 느리게 작동한다.\n",
    "    * 시스템 개발 등에 사용되기에는 제한적이다."
   ]
  },
  {
   "cell_type": "markdown",
   "metadata": {},
   "source": [
    "## 데이터 과학용 파이썬 생태계"
   ]
  },
  {
   "cell_type": "markdown",
   "metadata": {},
   "source": [
    "Unlike Matlab, or R, Python does not come with a prebundled set\n",
    "of modules for scientific computing. Below are the basic building blocks\n",
    "that can be combined to obtain a scientific computing environment:"
   ]
  },
  {
   "cell_type": "markdown",
   "metadata": {},
   "source": [
    "**Python**, a generic and modern computing language\n",
    "\n",
    "* The language: flow control, data types (`string`, `int`),\n",
    "  data collections (lists, dictionaries), etc.\n",
    "\n",
    "* Modules of the standard library: string processing, file\n",
    "  management, simple network protocols.\n",
    "\n",
    "* A large number of specialized modules or applications written in\n",
    "  Python: web framework, etc. ... and scientific\n",
    "  computing.\n",
    "\n",
    "* Development tools (automatic testing, documentation generation)\n",
    "\n",
    "**참고**: `<python_language_chapter>`"
   ]
  },
  {
   "cell_type": "markdown",
   "metadata": {},
   "source": [
    "<div align=\"center\"><img src=\"https://github.com/codingalzi/pyfast/blob/master/notebooks/images/random_c.jpg?raw=true\" width=\"50%\"></div>"
   ]
  },
  {
   "cell_type": "markdown",
   "metadata": {},
   "source": [
    "**Core numeric libraries**\n",
    "\n",
    "* **Numpy**: numerical computing with powerful **numerical arrays**\n",
    "  objects, and routines to manipulate them. [http://www.numpy.org/](http://www.numpy.org/)\n",
    "\n",
    "**참고**: `<numpy>`\n",
    "\n",
    "* **Scipy** : highlevel numerical routines.\n",
    "  Optimization, regression, interpolation, etc [http://www.scipy.org/](http://www.scipy.org/)\n",
    "\n",
    "**참고**: `<scipy>`\n",
    "\n",
    "* **Matplotlib** : 2D visualization, \"publicationready\" plots\n",
    "  [http://matplotlib.org/](http://matplotlib.org/)\n",
    "\n",
    "**참고**: `<matplotlib>`"
   ]
  },
  {
   "cell_type": "markdown",
   "metadata": {},
   "source": [
    "<div align=\"center\"><img src=\"https://github.com/codingalzi/pyfast/blob/master/notebooks/images/snapshot_ipython.png?raw=true\" width=\"50%\"></div>"
   ]
  },
  {
   "cell_type": "markdown",
   "metadata": {},
   "source": [
    "**Advanced interactive environments**:\n",
    "\n",
    "* **IPython**, an advanced **Python console** [http://ipython.org/](http://ipython.org/)\n",
    "\n",
    "* **Jupyter**, **notebooks** in the browser [http://jupyter.org/](http://jupyter.org/)"
   ]
  },
  {
   "cell_type": "markdown",
   "metadata": {},
   "source": [
    "<div align=\"center\"><img src=\"https://github.com/codingalzi/pyfast/blob/master/notebooks/images/example_surface_from_irregular_data.jpg?raw=true\" width=\"50%\"></div>"
   ]
  },
  {
   "cell_type": "markdown",
   "metadata": {},
   "source": [
    "**Domainspecific packages**,\n",
    "\n",
    "* **Mayavi** for 3D visualization (link to chapter `mayavilabel`)\n",
    "\n",
    "* **pandas, statsmodels, seaborn** for statistics (link to chapter `statistics`)\n",
    "\n",
    "* **sympy** for symbolic computing (link to chapter `sympy`)\n",
    "\n",
    "* **scikitimage** for image processing (link to chapter `scikit_image`)\n",
    "\n",
    "* **scikitlearn** for machine learning (link to chapter `scikitlearn_chapter`)\n",
    "\n",
    "and much more packages not documented in the scipy lectures.\n",
    "\n",
    "**참고**: chapters on advanced topics, chapters on packages and applications"
   ]
  },
  {
   "cell_type": "markdown",
   "metadata": {},
   "source": [
    "## Before starting: Installing a working environment"
   ]
  },
  {
   "cell_type": "markdown",
   "metadata": {},
   "source": [
    "Python comes in many flavors, and there are many ways to install it.\n",
    "However, we recommend to install a scientificcomputing distribution,\n",
    "that comes readily with optimized versions of scientific modules.\n",
    "\n",
    "**Under Linux**\n",
    "\n",
    "If you have a recent distribution, most of the tools are probably\n",
    "packaged, and it is recommended to use your package manager.\n",
    "\n",
    "**Other systems**\n",
    "\n",
    "There are several fullyfeatured Scientific Python distributions:\n",
    "\n",
    "* [Anaconda](https://www.anaconda.com/download/)\n",
    "* [EPD](https://store.enthought.com/downloads)\n",
    "* [WinPython](https://winpython.github.io)"
   ]
  },
  {
   "cell_type": "markdown",
   "metadata": {},
   "source": [
    "## The workflow: interactive environments and text editors"
   ]
  },
  {
   "cell_type": "markdown",
   "metadata": {},
   "source": [
    "**Interactive work to test and understand algorithms:** In this section, we\n",
    "describe a workflow combining interactive work and consolidation.\n",
    "\n",
    "Python is a generalpurpose language. As such, there is not one blessed\n",
    "environment to work in, and not only one way of using it. Although\n",
    "this makes it harder for beginners to find their way, it makes it\n",
    "possible for Python to be used for programs, in web servers, or\n",
    "embedded devices."
   ]
  },
  {
   "cell_type": "markdown",
   "metadata": {},
   "source": [
    "### Interactive work"
   ]
  },
  {
   "cell_type": "markdown",
   "metadata": {},
   "source": [
    "We recommend an interactive work with the \n",
    "[IPython](http://ipython.org) console, or its offspring, the \n",
    "[Jupyter notebook](http://jupyter.readthedocs.io/en/latest/contentquickstart.html). They are handy to explore and understand algorithms."
   ]
  },
  {
   "cell_type": "markdown",
   "metadata": {},
   "source": [
    "**Under the notebook**\n",
    "\n",
    "To execute code, press \"shift enter\""
   ]
  },
  {
   "cell_type": "markdown",
   "metadata": {},
   "source": [
    "Start *ipython*:\n",
    "\n",
    "```\n",
    "In [1]: print('Hello world')\n",
    "Hello world\n",
    "```"
   ]
  },
  {
   "cell_type": "markdown",
   "metadata": {},
   "source": [
    "Getting help by using the **?** operator after an object:"
   ]
  },
  {
   "cell_type": "markdown",
   "metadata": {},
   "source": [
    "```\n",
    "In [2]: print?\n",
    "Docstring:\n",
    "print(value, ..., sep=' ', end='\\n', file=sys.stdout, flush=False)\n",
    "\n",
    "Prints the values to a stream, or to sys.stdout by default.\n",
    "Optional keyword arguments:\n",
    "file:  a file-like object (stream); defaults to the current sys.stdout.\n",
    "sep:   string inserted between values, default a space.\n",
    "end:   string appended after the last value, default a newline.\n",
    "flush: whether to forcibly flush the stream.\n",
    "Type:      builtin_function_or_method\n",
    "```"
   ]
  },
  {
   "cell_type": "markdown",
   "metadata": {},
   "source": [
    "**참고**\n",
    "\n",
    "* IPython user manual: [https://ipython.readthedocs.io/en/stable/](https://ipython.readthedocs.io/en/stable/)\n",
    "\n",
    "* Jupyter Notebook QuickStart:\n",
    "  [http://jupyter.readthedocs.io/en/latest/contentquickstart.html](http://jupyter.readthedocs.io/en/latest/contentquickstart.html)"
   ]
  },
  {
   "cell_type": "markdown",
   "metadata": {},
   "source": [
    "### Elaboration of the work in an editor"
   ]
  },
  {
   "cell_type": "markdown",
   "metadata": {},
   "source": [
    "As you move forward, it will be important to not only work interactively,\n",
    "but also to create and reuse Python files. For this, a powerful code editor\n",
    "will get you far. Here are several good easytouse editors:\n",
    "\n",
    "  * [Spyder](https://www.spyderide.org/): integrates an IPython\n",
    "    console, a debugger, a profiler...\n",
    "  * [PyCharm](https://www.jetbrains.com/pycharm): integrates an IPython\n",
    "    console, notebooks, a debugger... (freely available,\n",
    "    but commercial)\n",
    "  * [Visual Studio Code](https://code.visualstudio.com/docs/languages/python):\n",
    "    integrates a Python console, notebooks, a debugger, ...\n",
    "  * [Atom](https://atom.io)\n",
    "\n",
    "Some of these are shipped by the various scientific Python distributions,\n",
    "and you can find them in the menus."
   ]
  },
  {
   "cell_type": "markdown",
   "metadata": {},
   "source": [
    "As an exercise, create a file *my_file.py* in a code editor, and add the\n",
    "following lines:\n",
    "\n",
    "```\n",
    "s = 'Hello world'\n",
    "print(s)\n",
    "```"
   ]
  },
  {
   "cell_type": "markdown",
   "metadata": {},
   "source": [
    "Now, you can run it in IPython console or a notebook and explore the\n",
    "resulting variables:"
   ]
  },
  {
   "cell_type": "markdown",
   "metadata": {},
   "source": [
    "```\n",
    "In [1]: %run my_file.py\n",
    "Hello world\n",
    "\n",
    "In [2]: s\n",
    "Out[2]: 'Hello world'\n",
    "\n",
    "In [3]: %whos\n",
    "Variable   Type    Data/Info\n",
    "----------------------------\n",
    "s          str     Hello world\n",
    "```"
   ]
  },
  {
   "cell_type": "markdown",
   "metadata": {},
   "source": [
    "```{seealso}\n",
    "\n",
    "**From a script to functions**\n",
    "\n",
    "While it is tempting to work only with scripts, that is a file full\n",
    "of instructions following each other, do plan to progressively evolve\n",
    "the script to a set of functions:\n",
    "\n",
    "* A script is not reusable, functions are.\n",
    "\n",
    "* Thinking in terms of functions helps breaking the problem in small\n",
    "  blocks.\n",
    "```"
   ]
  },
  {
   "cell_type": "markdown",
   "metadata": {},
   "source": [
    "### IPython and Jupyter Tips and Tricks"
   ]
  },
  {
   "cell_type": "markdown",
   "metadata": {},
   "source": [
    "The user manuals contain a wealth of information. Here we give a quick\n",
    "introduction to four useful features: *history*, *tab completion*, *magic\n",
    "functions*, and *aliases*."
   ]
  },
  {
   "cell_type": "markdown",
   "metadata": {},
   "source": [
    "**Command history** Like a UNIX shell, the IPython console supports\n",
    "command history. Type *up* and *down* to navigate previously typed\n",
    "commands:"
   ]
  },
  {
   "cell_type": "markdown",
   "metadata": {},
   "source": [
    "```\n",
    "In [1]: x = 10\n",
    "\n",
    "In [2]: <UP>\n",
    "\n",
    "In [2]: x = 10\n",
    "```"
   ]
  },
  {
   "cell_type": "markdown",
   "metadata": {},
   "source": [
    "**Tab completion** Tab completion, is a convenient way to explore the\n",
    "structure of any object you’re dealing with. Simply type object_name.<TAB> to\n",
    "view the object’s attributes. Besides Python objects and keywords, tab\n",
    "completion also works on file and directory names.*"
   ]
  },
  {
   "cell_type": "markdown",
   "metadata": {},
   "source": [
    "```\n",
    "In [1]: x = 10\n",
    "\n",
    "In [2]: x.<TAB>\n",
    "x.bit_length   x.denominator  x.imag         x.real\n",
    "x.conjugate    x.from_bytes   x.numerator    x.to_bytes\n",
    "```"
   ]
  },
  {
   "cell_type": "markdown",
   "metadata": {},
   "source": [
    "**Magic functions**\n",
    "The console and the notebooks support socalled *magic* functions by prefixing a command with the\n",
    "`%` character. For example, the `run` and `whos` functions from the\n",
    "previous section are magic functions. Note that, the setting `automagic`,\n",
    "which is enabled by default, allows you to omit the preceding `%` sign. Thus,\n",
    "you can just type the magic function and it will work.\n",
    "\n",
    "Other useful magic functions are:\n",
    "\n",
    "* `%cd` to change the current directory.\n",
    "\n",
    "    ```\n",
    "    In [1]: cd /tmp\n",
    "    /tmp\n",
    "    ```\n",
    "\n",
    "* `%cpaste` allows you to paste code, especially code from websites which has\n",
    "  been prefixed with the standard Python prompt (e.g. `>>>`) or with an ipython\n",
    "  prompt, (e.g. `in [3]`):\n",
    "\n",
    "    ```\n",
    "    In [2]: %cpaste\n",
    "    Pasting code; enter '' alone on the line to stop or use CtrlD.\n",
    "    :>>> for i in range(3):\n",
    "    :...     print(i)\n",
    "    :--\n",
    "    0\n",
    "    1\n",
    "    2\n",
    "    ```\n",
    "    \n",
    "* `%timeit` allows you to time the execution of short snippets using the\n",
    "  `timeit` module from the standard library:\n",
    "\n",
    "    ```\n",
    "    In [3]: %timeit x = 10\n",
    "    10000000 loops, best of 3: 39 ns per loop\n",
    "    ```\n",
    "    \n",
    "    **참고**: `<optimizing_code_chapter>`\n",
    "\n",
    "* `%debug` allows you to enter postmortem debugging. That is to say, if the\n",
    "  code you try to execute, raises an exception, using `%debug` will enter the\n",
    "  debugger at the point where the exception was thrown.\n",
    "\n",
    "    ```\n",
    "    In [4]: x === 10\n",
    "    File \"<ipythoninput612fd421b5f28>\", line 1\n",
    "        x === 10\n",
    "        ^\n",
    "    SyntaxError: invalid syntax\n",
    "\n",
    "    In [5]: %debug\n",
    "    > /.../IPython/core/compilerop.py (87)ast_parse()\n",
    "         86         and are passed to the builtin compile function.\"\"\"\n",
    "    ---> 87         return compile(source, filename, symbol, self.flags  PyCF_ONLY_AST, 1)\n",
    "         88\n",
    "\n",
    "    ipdb>locals()\n",
    "    {'source': u'x === 10\\n', 'symbol': 'exec', 'self':\n",
    "    <IPython.core.compilerop.CachingCompiler instance at 0x2ad8ef0>,\n",
    "    'filename': '<ipythoninput612fd421b5f28>'}\n",
    "    ```\n",
    "\n",
    "    **참고**: `<debugging_chapter>`"
   ]
  },
  {
   "cell_type": "markdown",
   "metadata": {},
   "source": [
    "**Aliases**\n",
    "Furthermore IPython ships with various *aliases* which emulate common UNIX\n",
    "command line tools such as `ls` to list files, `cp` to copy files and `rm` to\n",
    "remove files (a full list of aliases is shown when typing `alias`)."
   ]
  },
  {
   "cell_type": "markdown",
   "metadata": {},
   "source": [
    "**Getting help**\n",
    "\n",
    "* The builtin cheatsheet is accessible via the `%quickref` magic\n",
    "    function.\n",
    "\n",
    "* A list of all available magic functions is shown when typing `%magic`."
   ]
  }
 ],
 "metadata": {
  "kernelspec": {
   "display_name": "Python 3 (ipykernel)",
   "language": "python",
   "name": "python3"
  },
  "language_info": {
   "codemirror_mode": {
    "name": "ipython",
    "version": 3
   },
   "file_extension": ".py",
   "mimetype": "text/x-python",
   "name": "python",
   "nbconvert_exporter": "python",
   "pygments_lexer": "ipython3",
   "version": "3.9.7"
  }
 },
 "nbformat": 4,
 "nbformat_minor": 4
}
