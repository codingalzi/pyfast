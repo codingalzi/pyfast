{
 "cells": [
  {
   "cell_type": "markdown",
   "metadata": {},
   "source": [
    "# 함수"
   ]
  },
  {
   "cell_type": "markdown",
   "metadata": {},
   "source": [
    "## Function definition"
   ]
  },
  {
   "cell_type": "markdown",
   "metadata": {},
   "source": [
    "```python\n",
    "In [56]: def test():\n",
    "   ....:     print('in test function')\n",
    "   ....:\n",
    "   ....:\n",
    "\n",
    "In [57]: test()\n",
    "in test function\n",
    "```"
   ]
  },
  {
   "cell_type": "markdown",
   "metadata": {},
   "source": [
    "**Warning**\n",
    "\n",
    "Function blocks must be indented as other control-flow blocks."
   ]
  },
  {
   "cell_type": "markdown",
   "metadata": {},
   "source": [
    "## Return statement"
   ]
  },
  {
   "cell_type": "markdown",
   "metadata": {},
   "source": [
    "Functions can *optionally* return values."
   ]
  },
  {
   "cell_type": "markdown",
   "metadata": {},
   "source": [
    "```python\n",
    "In [6]: def disk_area(radius):\n",
    "   ...:     return 3.14 * radius * radius\n",
    "   ...:\n",
    "\n",
    "In [8]: disk_area(1.5)\n",
    "Out[8]: 7.0649999999999995\n",
    "```"
   ]
  },
  {
   "cell_type": "markdown",
   "metadata": {},
   "source": [
    "**Note** By default, functions return ``None``."
   ]
  },
  {
   "cell_type": "markdown",
   "metadata": {},
   "source": [
    "**Note** Note the syntax to define a function:\n",
    "\n",
    "* the `def` keyword;\n",
    "* is followed by the function's **name**, then\n",
    "* the arguments of the function are given between parentheses followed\n",
    "  by a colon.\n",
    "* the function body;\n",
    "* and `return object` for optionally returning values."
   ]
  },
  {
   "cell_type": "markdown",
   "metadata": {},
   "source": [
    "## Parameters"
   ]
  },
  {
   "cell_type": "markdown",
   "metadata": {},
   "source": [
    "Mandatory parameters (positional arguments)\n",
    "\n",
    "```python\n",
    "In [81]: def double_it(x):\n",
    "   ....:     return x * 2\n",
    "   ....:\n",
    "\n",
    "In [82]: double_it(3)\n",
    "Out[82]: 6\n",
    "\n",
    "In [83]: double_it()\n",
    "---------------------------------------------------------------------------\n",
    "Traceback (most recent call last):\n",
    "  File \"<stdin>\", line 1, in <module>\n",
    "TypeError: double_it() takes exactly 1 argument (0 given)\n",
    "```"
   ]
  },
  {
   "cell_type": "markdown",
   "metadata": {},
   "source": [
    "Optional parameters (keyword or named arguments)\n",
    "\n",
    "```python\n",
    "In [84]: def double_it(x=2):\n",
    "   ....:     return x * 2\n",
    "   ....:\n",
    "\n",
    "In [85]: double_it()\n",
    "Out[85]: 4\n",
    "\n",
    "In [86]: double_it(3)\n",
    "Out[86]: 6\n",
    "```"
   ]
  },
  {
   "cell_type": "markdown",
   "metadata": {},
   "source": [
    "Keyword arguments allow you to specify *default values*."
   ]
  },
  {
   "cell_type": "markdown",
   "metadata": {},
   "source": [
    "**Warning**\n",
    "\n",
    "Default values are evaluated when the function is defined, not when\n",
    "it is called. This can be problematic when using mutable types (e.g.\n",
    "dictionary or list) and modifying them in the function body, since the\n",
    "modifications will be persistent across invocations of the function.\n",
    "\n",
    "Using an immutable type in a keyword argument:\n",
    "\n",
    "```python\n",
    "In [124]: bigx = 10\n",
    "\n",
    "In [125]: def double_it(x=bigx):\n",
    "  .....:     return x * 2\n",
    "  .....:\n",
    "\n",
    "In [126]: bigx = 1e9  # Now really big\n",
    "\n",
    "In [128]: double_it()\n",
    "Out[128]: 20\n",
    "```\n",
    "\n",
    "Using an mutable type in a keyword argument (and modifying it inside the\n",
    "function body):\n",
    "\n",
    "```python\n",
    "In [2]: def add_to_dict(args={'a': 1, 'b': 2}):\n",
    "  ...:     for i in args.keys():\n",
    "  ...:         args[i] += 1\n",
    "  ...:     print(args)\n",
    "  ...:\n",
    "\n",
    "In [3]: add_to_dict\n",
    "Out[3]: <function __main__.add_to_dict>\n",
    "\n",
    "In [4]: add_to_dict()\n",
    "{'a': 2, 'b': 3}\n",
    "\n",
    "In [5]: add_to_dict()\n",
    "{'a': 3, 'b': 4}\n",
    "\n",
    "In [6]: add_to_dict()\n",
    "{'a': 4, 'b': 5}\n",
    "```"
   ]
  },
  {
   "cell_type": "markdown",
   "metadata": {},
   "source": [
    "More involved example implementing python's slicing:"
   ]
  },
  {
   "cell_type": "markdown",
   "metadata": {},
   "source": [
    "```python\n",
    "In [98]: def slicer(seq, start=None, stop=None, step=None):\n",
    "   ....:     \"\"\"Implement basic python slicing.\"\"\"\n",
    "   ....:     return seq[start:stop:step]\n",
    "   ....:\n",
    "\n",
    "In [101]: rhyme = 'one fish, two fish, red fish, blue fish'.split()\n",
    "\n",
    "In [102]: rhyme\n",
    "Out[102]: ['one', 'fish,', 'two', 'fish,', 'red', 'fish,', 'blue', 'fish']\n",
    "\n",
    "In [103]: slicer(rhyme)\n",
    "Out[103]: ['one', 'fish,', 'two', 'fish,', 'red', 'fish,', 'blue', 'fish']\n",
    "\n",
    "In [104]: slicer(rhyme, step=2)\n",
    "Out[104]: ['one', 'two', 'red', 'blue']\n",
    "\n",
    "In [105]: slicer(rhyme, 1, step=2)\n",
    "Out[105]: ['fish,', 'fish,', 'fish,', 'fish']\n",
    "\n",
    "In [106]: slicer(rhyme, start=1, stop=4, step=2)\n",
    "Out[106]: ['fish,', 'fish,']\n",
    "```"
   ]
  },
  {
   "cell_type": "markdown",
   "metadata": {},
   "source": [
    "The order of the keyword arguments does not matter:\n",
    "\n",
    "```python\n",
    "In [107]: slicer(rhyme, step=2, start=1, stop=4)\n",
    "Out[107]: ['fish,', 'fish,']\n",
    "```\n",
    "\n",
    "but it is good practice to use the same ordering as the function's\n",
    "definition."
   ]
  },
  {
   "cell_type": "markdown",
   "metadata": {},
   "source": [
    "*Keyword arguments* are a very convenient feature for defining functions\n",
    "with a variable number of arguments, especially when default values are\n",
    "to be used in most calls to the function."
   ]
  },
  {
   "cell_type": "markdown",
   "metadata": {},
   "source": [
    "## Passing by value"
   ]
  },
  {
   "cell_type": "markdown",
   "metadata": {},
   "source": [
    "Can you modify the value of a variable inside a function? Most languages\n",
    "(C, Java, ...) distinguish \"passing by value\" and \"passing by reference\".\n",
    "In Python, such a distinction is somewhat artificial, and it is a bit\n",
    "subtle whether your variables are going to be modified or not.\n",
    "Fortunately, there exist clear rules.\n",
    "\n",
    "Parameters to functions are references to objects, which are passed by\n",
    "value. When you pass a variable to a function, python passes the\n",
    "reference to the object to which the variable refers (the **value**).\n",
    "Not the variable itself."
   ]
  },
  {
   "cell_type": "markdown",
   "metadata": {},
   "source": [
    "If the **value** passed in a function is immutable, the function does not\n",
    "modify the caller's variable.  If the **value** is mutable, the function\n",
    "may modify the caller's variable in-place::\n",
    "\n",
    "```python\n",
    ">>> def try_to_modify(x, y, z):\n",
    "...     x = 23\n",
    "...     y.append(42)\n",
    "...     z = [99] # new reference\n",
    "...     print(x)\n",
    "...     print(y)\n",
    "...     print(z)\n",
    "...\n",
    ">>> a = 77    # immutable variable\n",
    ">>> b = [99]  # mutable variable\n",
    ">>> c = [28]\n",
    ">>> try_to_modify(a, b, c)\n",
    "23\n",
    "[99, 42]\n",
    "[99]\n",
    ">>> print(a)\n",
    "77\n",
    ">>> print(b)\n",
    "[99, 42]\n",
    ">>> print(c)\n",
    "[28]\n",
    "```"
   ]
  },
  {
   "cell_type": "markdown",
   "metadata": {},
   "source": [
    "Functions have a local variable table called a *local namespace*.\n",
    "\n",
    "The variable `x` only exists within the function `try_to_modify`."
   ]
  },
  {
   "cell_type": "markdown",
   "metadata": {},
   "source": [
    "## Global variables"
   ]
  },
  {
   "cell_type": "markdown",
   "metadata": {},
   "source": [
    "Variables declared outside the function can be referenced within the\n",
    "function:\n",
    "\n",
    "```python\n",
    "In [114]: x = 5\n",
    "\n",
    "In [115]: def addx(y):\n",
    "   .....:     return x + y\n",
    "   .....:\n",
    "\n",
    "In [116]: addx(10)\n",
    "Out[116]: 15\n",
    "```"
   ]
  },
  {
   "cell_type": "markdown",
   "metadata": {},
   "source": [
    "But these \"global\" variables cannot be modified within the function,\n",
    "unless declared **global** in the function.\n",
    "\n",
    "This doesn't work:\n",
    "\n",
    "```python\n",
    "In [117]: def setx(y):\n",
    "   .....:     x = y\n",
    "   .....:     print('x is %d' % x)\n",
    "   .....:\n",
    "   .....:\n",
    "\n",
    "In [118]: setx(10)\n",
    "x is 10\n",
    "\n",
    "In [120]: x\n",
    "Out[120]: 5\n",
    "```"
   ]
  },
  {
   "cell_type": "markdown",
   "metadata": {},
   "source": [
    "This works:\n",
    "\n",
    "```python\n",
    "In [121]: def setx(y):\n",
    "   .....:     global x\n",
    "   .....:     x = y\n",
    "   .....:     print('x is %d' % x)\n",
    "   .....:\n",
    "   .....:\n",
    "\n",
    "In [122]: setx(10)\n",
    "x is 10\n",
    "\n",
    "In [123]: x\n",
    "Out[123]: 10\n",
    "```"
   ]
  },
  {
   "cell_type": "markdown",
   "metadata": {},
   "source": [
    "## Variable number of parameters"
   ]
  },
  {
   "cell_type": "markdown",
   "metadata": {},
   "source": [
    "Special forms of parameters:\n",
    "\n",
    "* `*args`: any number of positional arguments packed into a tuple\n",
    "* `**kwargs`: any number of keyword arguments packed into a dictionary\n",
    "\n",
    "```python\n",
    "In [35]: def variable_args(*args, **kwargs):\n",
    "   ....:     print('args is', args)\n",
    "   ....:     print('kwargs is', kwargs)\n",
    "   ....:\n",
    "\n",
    "In [36]: variable_args('one', 'two', x=1, y=2, z=3)\n",
    "args is ('one', 'two')\n",
    "kwargs is {'x': 1, 'y': 2, 'z': 3}\n",
    "```"
   ]
  },
  {
   "cell_type": "markdown",
   "metadata": {},
   "source": [
    "## Docstrings"
   ]
  },
  {
   "cell_type": "markdown",
   "metadata": {},
   "source": [
    "Documentation about what the function does and its parameters.  General\n",
    "convention:\n",
    "\n",
    "```python\n",
    "In [67]: def funcname(params):\n",
    "   ....:     \"\"\"Concise one-line sentence describing the function.\n",
    "   ....:\n",
    "   ....:     Extended summary which can contain multiple paragraphs.\n",
    "   ....:     \"\"\"\n",
    "   ....:     # function body\n",
    "   ....:     pass\n",
    "   ....:\n",
    "\n",
    "In [68]: funcname?\n",
    "Type:           function\n",
    "Base Class:     type 'function'>\n",
    "String Form:    <function funcname at 0xeaa0f0>\n",
    "Namespace:      Interactive\n",
    "File:           <ipython console>\n",
    "Definition:     funcname(params)\n",
    "Docstring:\n",
    "    Concise one-line sentence describing the function.\n",
    "\n",
    "    Extended summary which can contain multiple paragraphs.\n",
    "```"
   ]
  },
  {
   "cell_type": "markdown",
   "metadata": {},
   "source": [
    "**Note** **Docstring guidelines**\n",
    "\n",
    "For the sake of standardization, the `Docstring\n",
    "Conventions <https://www.python.org/dev/peps/pep-0257>`_ webpage\n",
    "documents the semantics and conventions associated with Python\n",
    "docstrings.\n",
    "\n",
    "Also, the Numpy and Scipy modules have defined a precise standard\n",
    "for documenting scientific functions, that you may want to follow for\n",
    "your own functions, with a `Parameters` section, an `Examples`\n",
    "section, etc. See\n",
    "https://numpydoc.readthedocs.io/en/latest/format.html#docstring-standard"
   ]
  },
  {
   "cell_type": "markdown",
   "metadata": {},
   "source": [
    "## Functions are objects"
   ]
  },
  {
   "cell_type": "markdown",
   "metadata": {},
   "source": [
    "Functions are first-class objects, which means they can be:\n",
    "\n",
    "* assigned to a variable\n",
    "* an item in a list (or any collection)\n",
    "* passed as an argument to another function.\n",
    "\n",
    "```python\n",
    "In [38]: va = variable_args\n",
    "\n",
    "In [39]: va('three', x=1, y=2)\n",
    "args is ('three',)\n",
    "kwargs is {'x': 1, 'y': 2}\n",
    "```"
   ]
  },
  {
   "cell_type": "markdown",
   "metadata": {},
   "source": [
    "## Methods"
   ]
  },
  {
   "cell_type": "markdown",
   "metadata": {},
   "source": [
    "Methods are functions attached to objects.  You've seen these in our\n",
    "examples on *lists*, *dictionaries*, *strings*, etc..."
   ]
  },
  {
   "cell_type": "markdown",
   "metadata": {},
   "source": [
    "## Exercises"
   ]
  },
  {
   "cell_type": "markdown",
   "metadata": {},
   "source": [
    "1. Fibonacci sequence\n",
    "\n",
    "    Write a function that displays the `n` first terms of the Fibonacci\n",
    "    sequence, defined by:\n",
    "\n",
    "    $$\n",
    "    \\left\\{\n",
    "        \\begin{array}{ll}\n",
    "            U_{0} = 0 \\\\\n",
    "            U_{1} = 1 \\\\\n",
    "            U_{n+2} = U_{n+1} + U_{n}\n",
    "        \\end{array}\n",
    "    \\right.\n",
    "    $$\n",
    "\n",
    "1. Quicksort\n",
    "\n",
    "    Implement the quicksort algorithm, as defined by wikipedia\n",
    "    \n",
    "    ```javascript\n",
    "    function quicksort(array)\n",
    "        var list less, greater\n",
    "        if length(array) < 2\n",
    "            return array\n",
    "        select and remove a pivot value pivot from array\n",
    "        for each x in array\n",
    "            if x < pivot + 1 then append x to less\n",
    "            else append x to greater\n",
    "        return concatenate(quicksort(less), pivot, quicksort(greater))\n",
    "    ```"
   ]
  }
 ],
 "metadata": {
  "kernelspec": {
   "display_name": "Python 3 (ipykernel)",
   "language": "python",
   "name": "python3"
  },
  "language_info": {
   "codemirror_mode": {
    "name": "ipython",
    "version": 3
   },
   "file_extension": ".py",
   "mimetype": "text/x-python",
   "name": "python",
   "nbconvert_exporter": "python",
   "pygments_lexer": "ipython3",
   "version": "3.9.7"
  }
 },
 "nbformat": 4,
 "nbformat_minor": 4
}
