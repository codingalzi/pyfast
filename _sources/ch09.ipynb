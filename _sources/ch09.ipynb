{
 "cells": [
  {
   "cell_type": "markdown",
   "metadata": {},
   "source": [
    "# 객체 지향 프로그래밍(OOP)"
   ]
  },
  {
   "cell_type": "markdown",
   "metadata": {},
   "source": [
    "Python supports object-oriented programming (OOP). The goals of OOP are:\n",
    "\n",
    "* to organize the code, and\n",
    "* to re-use code in similar contexts."
   ]
  },
  {
   "cell_type": "markdown",
   "metadata": {},
   "source": [
    "Here is a small example: we create a Student *class*, which is an object\n",
    "gathering several custom functions (*methods*) and variables (*attributes*),\n",
    "we will be able to use::\n",
    "\n",
    "```python\n",
    ">>> class Student(object):\n",
    "...     def __init__(self, name):\n",
    "...         self.name = name\n",
    "...     def set_age(self, age):\n",
    "...         self.age = age\n",
    "...     def set_major(self, major):\n",
    "...         self.major = major\n",
    "...\n",
    ">>> anna = Student('anna')\n",
    ">>> anna.set_age(21)\n",
    ">>> anna.set_major('physics')\n",
    "```"
   ]
  },
  {
   "cell_type": "markdown",
   "metadata": {},
   "source": [
    "In the previous example, the Student class has `__init__`, `set_age` and\n",
    "`set_major` methods. Its attributes are `name`, `age` and `major`. We\n",
    "can call these methods and attributes with the following notation:\n",
    "`classinstance.method` or  `classinstance.attribute`.  The `__init__`\n",
    "constructor is a special method we call with: `MyClass(init parameters if\n",
    "any)`."
   ]
  },
  {
   "cell_type": "markdown",
   "metadata": {},
   "source": [
    "Now, suppose we want to create a new class MasterStudent with the same\n",
    "methods and attributes as the previous one, but with an additional\n",
    "`internship` attribute. We won't copy the previous class, but\n",
    "**inherit** from it::\n",
    "\n",
    "```python\n",
    ">>> class MasterStudent(Student):\n",
    "...     internship = 'mandatory, from March to June'\n",
    "...\n",
    ">>> james = MasterStudent('james')\n",
    ">>> james.internship\n",
    "'mandatory, from March to June'\n",
    ">>> james.set_age(23)\n",
    ">>> james.age\n",
    "23\n",
    "```\n",
    "\n",
    "The MasterStudent class inherited from the Student attributes and methods."
   ]
  },
  {
   "cell_type": "markdown",
   "metadata": {},
   "source": [
    "Thanks to classes and object-oriented programming, we can organize code\n",
    "with different classes corresponding to different objects we encounter\n",
    "(an Experiment class, an Image class, a Flow class, etc.), with their own\n",
    "methods and attributes. Then we can use inheritance to consider\n",
    "variations around a base class and **re-use** code. Ex : from a Flow\n",
    "base class, we can create derived StokesFlow, TurbulentFlow,\n",
    "PotentialFlow, etc."
   ]
  }
 ],
 "metadata": {
  "kernelspec": {
   "display_name": "Python 3 (ipykernel)",
   "language": "python",
   "name": "python3"
  },
  "language_info": {
   "codemirror_mode": {
    "name": "ipython",
    "version": 3
   },
   "file_extension": ".py",
   "mimetype": "text/x-python",
   "name": "python",
   "nbconvert_exporter": "python",
   "pygments_lexer": "ipython3",
   "version": "3.9.7"
  }
 },
 "nbformat": 4,
 "nbformat_minor": 4
}
