{
 "cells": [
  {
   "cell_type": "markdown",
   "metadata": {},
   "source": [
    "# 명령문"
   ]
  },
  {
   "cell_type": "markdown",
   "metadata": {},
   "source": [
    "## Assignment operator"
   ]
  },
  {
   "cell_type": "markdown",
   "metadata": {},
   "source": [
    "[Python library reference](<https//docs.python.org/reference/simple_stmts.html#assignment-statements>)\n",
    "says\n",
    "\n",
    "    Assignment statements are used to (re)bind names to values and to\n",
    "    modify attributes or items of mutable objects.\n",
    "\n",
    "In short, it works as follows (simple assignment)\n",
    "\n",
    "1. an expression on the right hand side is evaluated, the corresponding\n",
    "object is created/obtained\n",
    "1. a **name** on the left hand side is assigned, or bound, to the\n",
    "r.h.s. object"
   ]
  },
  {
   "cell_type": "markdown",
   "metadata": {},
   "source": [
    "Things to note\n",
    "\n",
    "* a single object can have several names bound to it\n",
    "\n",
    "```python\n",
    "In [1] a = [1, 2, 3]\n",
    "In [2] b = a\n",
    "In [3] a\n",
    "Out[3] [1, 2, 3]\n",
    "In [4] b\n",
    "Out[4] [1, 2, 3]\n",
    "In [5] a is b\n",
    "Out[5] True\n",
    "In [6] b[1] = 'hi!'\n",
    "In [7] a\n",
    "Out[7] [1, 'hi!', 3]\n",
    "```"
   ]
  },
  {
   "cell_type": "markdown",
   "metadata": {},
   "source": [
    "* to change a list *in place*, use indexing/slices\n",
    "\n",
    "```python\n",
    "In [1] a = [1, 2, 3]\n",
    "In [3] a\n",
    "Out[3] [1, 2, 3]\n",
    "In [4] a = ['a', 'b', 'c'] # Creates another object.\n",
    "In [5] a\n",
    "Out[5] ['a', 'b', 'c']\n",
    "In [6] id(a)\n",
    "Out[6] 138641676\n",
    "In [7] a[] = [1, 2, 3] # Modifies object in place.\n",
    "In [8] a\n",
    "Out[8] [1, 2, 3]\n",
    "In [9] id(a)\n",
    "Out[9] 138641676 # Same as in Out[6], yours will differ...\n",
    "```"
   ]
  },
  {
   "cell_type": "markdown",
   "metadata": {},
   "source": [
    "* the key concept here is **mutable vs. immutable**\n",
    "    * mutable objects can be changed in place\n",
    "    * immutable objects cannot be modified once created"
   ]
  },
  {
   "cell_type": "markdown",
   "metadata": {},
   "source": [
    "## Control Flow"
   ]
  },
  {
   "cell_type": "markdown",
   "metadata": {},
   "source": [
    "Controls the order in which the code is executed."
   ]
  },
  {
   "cell_type": "markdown",
   "metadata": {},
   "source": [
    "### if/elif/else"
   ]
  },
  {
   "cell_type": "markdown",
   "metadata": {},
   "source": [
    "```python\n",
    ">>> if 2**2 == 4:\n",
    "...     print('Obvious!')\n",
    "...\n",
    "Obvious!\n",
    "```"
   ]
  },
  {
   "cell_type": "markdown",
   "metadata": {},
   "source": [
    "**Blocks are delimited by indentation**"
   ]
  },
  {
   "cell_type": "markdown",
   "metadata": {},
   "source": [
    "Type the following lines in your Python interpreter, and be careful\n",
    "to **respect the indentation depth**. The Ipython shell automatically\n",
    "increases the indentation depth after a colon ``:`` sign; to\n",
    "decrease the indentation depth, go four spaces to the left with the\n",
    "Backspace key. Press the Enter key twice to leave the logical block."
   ]
  },
  {
   "cell_type": "markdown",
   "metadata": {},
   "source": [
    "```python\n",
    ">>> a = 10\n",
    "\n",
    ">>> if a == 1:\n",
    "...     print(1)\n",
    "... elif a == 2:\n",
    "...     print(2)\n",
    "... else:\n",
    "...     print('A lot')\n",
    "A lot\n",
    "```"
   ]
  },
  {
   "cell_type": "markdown",
   "metadata": {},
   "source": [
    "Indentation is compulsory in scripts as well. As an exercise, re-type the\n",
    "previous lines with the same indentation in a script ``condition.py``, and\n",
    "execute the script with ``run condition.py`` in Ipython."
   ]
  },
  {
   "cell_type": "markdown",
   "metadata": {},
   "source": [
    "### for/range"
   ]
  },
  {
   "cell_type": "markdown",
   "metadata": {},
   "source": [
    "Iterating with an index:\n",
    "\n",
    "```python\n",
    ">>> for i in range(4):\n",
    "...     print(i)\n",
    "0\n",
    "1\n",
    "2\n",
    "3\n",
    "```"
   ]
  },
  {
   "cell_type": "markdown",
   "metadata": {},
   "source": [
    "But most often, it is more readable to iterate over values:"
   ]
  },
  {
   "cell_type": "markdown",
   "metadata": {},
   "source": [
    "```python\n",
    ">>> for word in ('cool', 'powerful', 'readable'):\n",
    "...     print('Python is %s' % word)\n",
    "Python is cool\n",
    "Python is powerful\n",
    "Python is readable\n",
    "```"
   ]
  },
  {
   "cell_type": "markdown",
   "metadata": {},
   "source": [
    "### while/break/continue"
   ]
  },
  {
   "cell_type": "markdown",
   "metadata": {},
   "source": [
    "Typical C-style while loop (Mandelbrot problem):\n",
    "\n",
    "```python\n",
    ">>> z = 1 + 1j\n",
    ">>> while abs(z) < 100:\n",
    "...     z = z**2 + 1\n",
    ">>> z\n",
    "(-134+352j)\n",
    "```"
   ]
  },
  {
   "cell_type": "markdown",
   "metadata": {},
   "source": [
    "**More advanced features**\n",
    "\n",
    "`break` out of enclosing for/while loop:\n",
    "\n",
    "```python\n",
    ">>> z = 1 + 1j\n",
    "\n",
    ">>> while abs(z) < 100:\n",
    "...     if z.imag == 0:\n",
    "...         break\n",
    "...     z = z**2 + 1\n",
    "```"
   ]
  },
  {
   "cell_type": "markdown",
   "metadata": {},
   "source": [
    "`continue` the next iteration of a loop.:\n",
    "\n",
    "```python\n",
    ">>> a = [1, 0, 2, 4]\n",
    ">>> for element in a:\n",
    "...     if element == 0:\n",
    "...         continue\n",
    "...     print(1. / element)\n",
    "1.0\n",
    "0.5\n",
    "0.25\n",
    "```"
   ]
  },
  {
   "cell_type": "markdown",
   "metadata": {},
   "source": [
    "### Conditional Expressions"
   ]
  },
  {
   "cell_type": "markdown",
   "metadata": {},
   "source": [
    "`if <OBJECT>`\n",
    "\n",
    "Evaluates to False:\n",
    "* any number equal to zero (`0`, `0.0`, `0+0`)\n",
    "* an empty container (list, tuple, set, dictionary, ...)\n",
    "* `False`, `None`\n",
    "\n",
    "Evaluates to True:\n",
    "* everything else"
   ]
  },
  {
   "cell_type": "markdown",
   "metadata": {},
   "source": [
    "`a == b`\n",
    "\n",
    "Tests equality, with logics:\n",
    "\n",
    "```python\n",
    ">>> 1 == 1.\n",
    "True\n",
    "```"
   ]
  },
  {
   "cell_type": "markdown",
   "metadata": {},
   "source": [
    "`a is b`\n",
    "\n",
    "Tests identity: both sides are the same object:\n",
    "\n",
    "```python\n",
    ">>> 1 is 1.\n",
    "False\n",
    "\n",
    ">>> a = 1\n",
    ">>> b = 1\n",
    ">>> a is b\n",
    "True\n",
    "```"
   ]
  },
  {
   "cell_type": "markdown",
   "metadata": {},
   "source": [
    "`a in b`\n",
    "\n",
    "For any collection `b`: `b` contains `a` :\n",
    "\n",
    "```python\n",
    ">>> b = [1, 2, 3]\n",
    ">>> 2 in b\n",
    "True\n",
    ">>> 5 in b\n",
    "False\n",
    "```\n",
    "\n",
    "If `b` is a dictionary, this tests that `a` is a key of `b`."
   ]
  },
  {
   "cell_type": "markdown",
   "metadata": {},
   "source": [
    "### Advanced iteration"
   ]
  },
  {
   "cell_type": "markdown",
   "metadata": {},
   "source": [
    "**Iterate over any sequence**\n",
    "\n",
    "You can iterate over any sequence (string, list, keys in a dictionary, lines in\n",
    "a file, ...):\n",
    "\n",
    "```python\n",
    ">>> vowels = 'aeiouy'\n",
    "\n",
    ">>> for i in 'powerful':\n",
    "...     if i in vowels:\n",
    "...         print(i)\n",
    "o\n",
    "e\n",
    "u\n",
    "```"
   ]
  },
  {
   "cell_type": "markdown",
   "metadata": {},
   "source": [
    "```python\n",
    ">>> message = \"Hello how are you?\"\n",
    ">>> message.split() # returns a list\n",
    "['Hello', 'how', 'are', 'you?']\n",
    ">>> for word in message.split():\n",
    "...     print(word)\n",
    "...\n",
    "Hello\n",
    "how\n",
    "are\n",
    "you?\n",
    "```"
   ]
  },
  {
   "cell_type": "markdown",
   "metadata": {},
   "source": [
    "Few languages (in particular, languages for scientific computing) allow to\n",
    "loop over anything but integers/indices. With Python it is possible to\n",
    "loop exactly over the objects of interest without bothering with indices\n",
    "you often don't care about. This feature can often be used to make\n",
    "code more readable."
   ]
  },
  {
   "cell_type": "markdown",
   "metadata": {},
   "source": [
    "**warning**: Not safe to modify the sequence you are iterating over."
   ]
  },
  {
   "cell_type": "markdown",
   "metadata": {},
   "source": [
    "**Keeping track of enumeration number**\n",
    "\n",
    "Common task is to iterate over a sequence while keeping track of the\n",
    "item number."
   ]
  },
  {
   "cell_type": "markdown",
   "metadata": {},
   "source": [
    "* Could use while loop with a counter as above. Or a for loop:\n",
    "\n",
    "```python\n",
    ">>> words = ('cool', 'powerful', 'readable')\n",
    ">>> for i in range(0, len(words)):\n",
    "...     print((i, words[i]))\n",
    "(0, 'cool')\n",
    "(1, 'powerful')\n",
    "(2, 'readable')\n",
    "```"
   ]
  },
  {
   "cell_type": "markdown",
   "metadata": {},
   "source": [
    "* But, Python provides a built-in function - `enumerate` - for this:\n",
    "\n",
    "```python\n",
    ">>> for index, item in enumerate(words):\n",
    "...     print((index, item))\n",
    "(0, 'cool')\n",
    "(1, 'powerful')\n",
    "(2, 'readable')\n",
    "```"
   ]
  },
  {
   "cell_type": "markdown",
   "metadata": {},
   "source": [
    "**Looping over a dictionary**\n",
    "\n",
    "Use **items**:\n",
    "\n",
    "```python\n",
    ">>> d = {'a': 1, 'b':1.2, 'c':1j}\n",
    "\n",
    ">>> for key, val in sorted(d.items()):\n",
    "...     print('Key: %s has value: %s' % (key, val))\n",
    "Key: a has value: 1\n",
    "Key: b has value: 1.2\n",
    "Key: c has value: 1j\n",
    "```"
   ]
  },
  {
   "cell_type": "markdown",
   "metadata": {},
   "source": [
    "**note**\n",
    "\n",
    "The ordering of a dictionary is random, thus we use :func:`sorted`\n",
    "which will sort on the keys."
   ]
  },
  {
   "cell_type": "markdown",
   "metadata": {},
   "source": [
    "**Exercise**\n",
    "ref: `pi_wallis`\n",
    "\n",
    "Compute the decimals of Pi using the Wallis formula:\n",
    "\n",
    "$$\n",
    "\\pi = 2 \\prod_{i=1}^{\\infty} \\frac{4i^2}{4i^2 - 1}\n",
    "$$\n"
   ]
  }
 ],
 "metadata": {
  "kernelspec": {
   "display_name": "Python 3 (ipykernel)",
   "language": "python",
   "name": "python3"
  },
  "language_info": {
   "codemirror_mode": {
    "name": "ipython",
    "version": 3
   },
   "file_extension": ".py",
   "mimetype": "text/x-python",
   "name": "python",
   "nbconvert_exporter": "python",
   "pygments_lexer": "ipython3",
   "version": "3.9.7"
  }
 },
 "nbformat": 4,
 "nbformat_minor": 4
}
