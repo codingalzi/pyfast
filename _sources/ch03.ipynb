{
 "cells": [
  {
   "cell_type": "markdown",
   "metadata": {},
   "source": [
    "# 모음 자료형 2편"
   ]
  },
  {
   "cell_type": "markdown",
   "metadata": {},
   "source": [
    "집합형 컨테이너 두 개를 소개한다."
   ]
  },
  {
   "cell_type": "markdown",
   "metadata": {},
   "source": [
    "## 집합"
   ]
  },
  {
   "cell_type": "markdown",
   "metadata": {},
   "source": [
    "unordered, unique items\n",
    "\n",
    "```python\n",
    ">>> s = set(('a', 'b', 'c', 'a'))\n",
    ">>> s    # doctest +SKIP\n",
    "set(['a', 'c', 'b'])\n",
    ">>> s.difference(('a', 'b'))    # doctest +SKIP\n",
    "set(['c'])\n",
    "```"
   ]
  },
  {
   "cell_type": "markdown",
   "metadata": {},
   "source": [
    "## 사전"
   ]
  },
  {
   "cell_type": "markdown",
   "metadata": {},
   "source": [
    "A dictionary is basically an efficient table that **maps keys to\n",
    "values**. It is an **unordered** container"
   ]
  },
  {
   "cell_type": "markdown",
   "metadata": {},
   "source": [
    "```python\n",
    ">>> tel = {'emmanuelle' 5752, 'sebastian' 5578}\n",
    ">>> tel['francis'] = 5915\n",
    ">>> tel     # doctest +SKIP\n",
    "{'sebastian' 5578, 'francis' 5915, 'emmanuelle' 5752}\n",
    ">>> tel['sebastian']\n",
    "5578\n",
    ">>> tel.keys()   # doctest +SKIP\n",
    "['sebastian', 'francis', 'emmanuelle']\n",
    ">>> tel.values()   # doctest +SKIP\n",
    "[5578, 5915, 5752]\n",
    ">>> 'francis' in tel\n",
    "True\n",
    "```"
   ]
  },
  {
   "cell_type": "markdown",
   "metadata": {},
   "source": [
    "It can be used to conveniently store and retrieve values\n",
    "associated with a name (a string for a date, a name, etc.). See\n",
    "https//docs.python.org/tutorial/datastructures.html#dictionaries\n",
    "for more information."
   ]
  },
  {
   "cell_type": "markdown",
   "metadata": {},
   "source": [
    "A dictionary can have keys (resp. values) with different types\n",
    "\n",
    "```python\n",
    ">>> d = {'a'1, 'b'2, 3'hello'}\n",
    ">>> d       # doctest +SKIP\n",
    "{'a' 1, 3 'hello', 'b' 2}\n",
    "```"
   ]
  },
  {
   "cell_type": "markdown",
   "metadata": {},
   "source": [
    "## 수정 가능성"
   ]
  },
  {
   "cell_type": "markdown",
   "metadata": {},
   "source": [
    "Lists are *mutable* objects and can be modified\n",
    "\n",
    "```python\n",
    ">>> colors[0] = 'yellow'\n",
    ">>> colors\n",
    "['yellow', 'blue', 'green', 'black', 'white']\n",
    ">>> colors[24] = ['gray', 'purple']\n",
    ">>> colors\n",
    "['yellow', 'blue', 'gray', 'purple', 'white']\n",
    "```"
   ]
  },
  {
   "cell_type": "markdown",
   "metadata": {},
   "source": [
    "**Note**\n",
    "\n",
    "The elements of a list may have different types\n",
    "\n",
    "```python\n",
    ">>> colors = [3, -200, 'hello']\n",
    ">>> colors\n",
    "[3, -200, 'hello']\n",
    ">>> colors[1], colors[2]\n",
    "(-200, 'hello')\n",
    "```"
   ]
  },
  {
   "cell_type": "markdown",
   "metadata": {},
   "source": [
    "For collections of numerical data that all have the same type, it\n",
    "is often **more efficient** to use the `array` type provided by\n",
    "the `numpy` module. A NumPy array is a chunk of memory\n",
    "containing fixed-sized items.  With NumPy arrays, operations on\n",
    "elements can be faster because elements are regularly spaced in\n",
    "memory and more operations are performed through specialized C\n",
    "functions instead of Python loops."
   ]
  },
  {
   "cell_type": "markdown",
   "metadata": {},
   "source": [
    "Python offers a large panel of functions to modify lists, or query\n",
    "them. Here are a few examples; for more details, see\n",
    "https//docs.python.org/tutorial/datastructures.html#more-on-lists"
   ]
  },
  {
   "cell_type": "markdown",
   "metadata": {},
   "source": [
    "Add and remove elements\n",
    "\n",
    "```python\n",
    ">>> colors = ['red', 'blue', 'green', 'black', 'white']\n",
    ">>> colors.append('pink')\n",
    ">>> colors\n",
    "['red', 'blue', 'green', 'black', 'white', 'pink']\n",
    ">>> colors.pop() # removes and returns the last item\n",
    "'pink'\n",
    ">>> colors\n",
    "['red', 'blue', 'green', 'black', 'white']\n",
    ">>> colors.extend(['pink', 'purple']) # extend colors, in-place\n",
    ">>> colors\n",
    "['red', 'blue', 'green', 'black', 'white', 'pink', 'purple']\n",
    ">>> colors = colors[-2]\n",
    ">>> colors\n",
    "['red', 'blue', 'green', 'black', 'white']\n",
    "```"
   ]
  },
  {
   "cell_type": "markdown",
   "metadata": {},
   "source": [
    "Reverse\n",
    "\n",
    "```python\n",
    ">>> rcolors = colors[-1]\n",
    ">>> rcolors\n",
    "['white', 'black', 'green', 'blue', 'red']\n",
    ">>> rcolors2 = list(colors) # new object that is a copy of colors in a different memory area\n",
    ">>> rcolors2\n",
    "['red', 'blue', 'green', 'black', 'white']\n",
    ">>> rcolors2.reverse() # in-place; reversing rcolors2 does not affect colors\n",
    ">>> rcolors2\n",
    "['white', 'black', 'green', 'blue', 'red']\n",
    "```"
   ]
  },
  {
   "cell_type": "markdown",
   "metadata": {},
   "source": [
    "Concatenate and repeat lists\n",
    "\n",
    "```python\n",
    ">>> rcolors + colors\n",
    "['white', 'black', 'green', 'blue', 'red', 'red', 'blue', 'green', 'black', 'white']\n",
    ">>> rcolors * 2\n",
    "['white', 'black', 'green', 'blue', 'red', 'white', 'black', 'green', 'blue', 'red']\n",
    "```"
   ]
  },
  {
   "cell_type": "markdown",
   "metadata": {},
   "source": [
    "Sort\n",
    "\n",
    "```python\n",
    ">>> sorted(rcolors) # new object\n",
    "['black', 'blue', 'green', 'red', 'white']\n",
    ">>> rcolors\n",
    "['white', 'black', 'green', 'blue', 'red']\n",
    ">>> rcolors.sort()  # in-place\n",
    ">>> rcolors\n",
    "['black', 'blue', 'green', 'red', 'white']\n",
    "```"
   ]
  },
  {
   "cell_type": "markdown",
   "metadata": {},
   "source": [
    "## List Comprehensions\n",
    "\n",
    "Instead of creating a list by means of a loop, one can make use\n",
    "of a list comprehension with a rather self-explaining syntax.\n",
    "\n",
    "```python\n",
    ">>> [i**2 for i in range(4)]\n",
    "[0, 1, 4, 9]\n",
    "```"
   ]
  },
  {
   "cell_type": "markdown",
   "metadata": {},
   "source": [
    "## Methods and Object-Oriented Programming"
   ]
  },
  {
   "cell_type": "markdown",
   "metadata": {},
   "source": [
    "The notation `rcolors.method()` (e.g. `rcolors.append(3)` and `colors.pop()`) is our\n",
    "first example of object-oriented programming (OOP). Being a `list`, the\n",
    "object `rcolors` owns the *method* `function` that is called using the notation\n",
    "**.**. No further knowledge of OOP than understanding the notation **.** is\n",
    "necessary for going through this tutorial.\n",
    "\n",
    "**Discovering methods**\n",
    "\n",
    "Reminder in Ipython tab-completion (press tab)\n",
    "\n",
    "```python\n",
    "In [28] rcolors.<TAB>\n",
    "rcolors.append   rcolors.index    rcolors.remove   \n",
    "rcolors.count    rcolors.insert   rcolors.reverse  \n",
    "rcolors.extend   rcolors.pop      rcolors.sort    \n",
    "```"
   ]
  }
 ],
 "metadata": {
  "kernelspec": {
   "display_name": "Python 3 (ipykernel)",
   "language": "python",
   "name": "python3"
  },
  "language_info": {
   "codemirror_mode": {
    "name": "ipython",
    "version": 3
   },
   "file_extension": ".py",
   "mimetype": "text/x-python",
   "name": "python",
   "nbconvert_exporter": "python",
   "pygments_lexer": "ipython3",
   "version": "3.9.7"
  }
 },
 "nbformat": 4,
 "nbformat_minor": 4
}
