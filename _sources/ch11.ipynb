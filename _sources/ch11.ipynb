{
 "cells": [
  {
   "cell_type": "markdown",
   "metadata": {},
   "source": [
    "# 모음 자료형"
   ]
  },
  {
   "cell_type": "markdown",
   "metadata": {},
   "source": [
    "(sec:string)=\n",
    "## 문자열"
   ]
  },
  {
   "cell_type": "markdown",
   "metadata": {},
   "source": [
    "(sec:list)=\n",
    "## 리스트"
   ]
  },
  {
   "cell_type": "markdown",
   "metadata": {},
   "source": [
    "- 변수 재할당을 다시 한 번 설명할 것.\n",
    "    - {numref}`%s절 <sec:variable_reassignment>` 참고\n",
    "    - 아래 코드 참고\n",
    "    \n",
    "        ```python\n",
    "        >>> x = [0, 1, 2]\n",
    "        >>> y = x\n",
    "        >>> x[0] = 5\n",
    "        >>> y[0]\n",
    "        5\n",
    "        ```"
   ]
  },
  {
   "cell_type": "markdown",
   "metadata": {},
   "source": [
    "### 영화 감독 봉준호"
   ]
  },
  {
   "cell_type": "markdown",
   "metadata": {},
   "source": [
    "봉준호 영화 감독의 영화를 담고 있는 리스트가 아래와 같이 있다."
   ]
  },
  {
   "cell_type": "code",
   "execution_count": null,
   "metadata": {},
   "outputs": [],
   "source": [
    "movie_Bong = [\"기생충\", 2019, [\"설국열차\", 2013, [\"살인의 추억\", 2003]]]"
   ]
  },
  {
   "cell_type": "markdown",
   "metadata": {},
   "source": [
    "위 리스트는 3중이다. 리스트 안에 리스트, 또 리스트 안에 리스트.\n",
    "이제 아래와 같이 모든 항목을 나열하고자 한다.\n",
    "\n",
    "```\n",
    "기생충\n",
    "2019\n",
    "설국열차\n",
    "2013\n",
    "살인의 추억\n",
    "2003\n",
    "```"
   ]
  },
  {
   "cell_type": "code",
   "execution_count": null,
   "metadata": {},
   "outputs": [
    {
     "name": "stdout",
     "output_type": "stream",
     "text": [
      "기생충\n",
      "2019\n",
      "['설국열차', 2013, ['살인의 추억', 2003]]\n"
     ]
    }
   ],
   "source": [
    "for item in movie_Bong:\n",
    "    print(item)"
   ]
  },
  {
   "cell_type": "markdown",
   "metadata": {},
   "source": [
    "그런데 위와 같이 하면 중첩으로 되어 있는 영화들을 제대로 풀어헤칠 수 없다.\n",
    "2중 `for` 반복문을 활용해보자.\n",
    "\n",
    "**주의:** 아래 코드에서 `isinstance(item, list)`는 `item` 변수가 가리키는 항목이 \n",
    "리스트 자료형 여부를 확인한다."
   ]
  },
  {
   "cell_type": "code",
   "execution_count": null,
   "metadata": {
    "scrolled": true
   },
   "outputs": [
    {
     "name": "stdout",
     "output_type": "stream",
     "text": [
      "기생충\n",
      "2019\n",
      "설국열차\n",
      "2013\n",
      "['살인의 추억', 2003]\n"
     ]
    }
   ],
   "source": [
    "for item in movie_Bong:\n",
    "    if isinstance(item, list):\n",
    "        for itemN in item:\n",
    "            print(itemN)\n",
    "    else:\n",
    "        print(item)"
   ]
  },
  {
   "cell_type": "markdown",
   "metadata": {},
   "source": [
    "여전히 삼중 리스트의 모든 항목을 나열하진 못한다. \n",
    "3중 `for` 반복문을 활용해보자."
   ]
  },
  {
   "cell_type": "code",
   "execution_count": null,
   "metadata": {},
   "outputs": [
    {
     "name": "stdout",
     "output_type": "stream",
     "text": [
      "기생충\n",
      "2019\n",
      "설국열차\n",
      "2013\n",
      "살인의 추억\n",
      "2003\n"
     ]
    }
   ],
   "source": [
    "for item in movie_Bong:\n",
    "    if isinstance(item, list):\n",
    "        for itemN in item:\n",
    "            if isinstance(itemN, list):\n",
    "                for itemNN in itemN:\n",
    "                    print(itemNN)\n",
    "            else:\n",
    "                print(itemN)\n",
    "    else:\n",
    "        print(item)"
   ]
  },
  {
   "cell_type": "markdown",
   "metadata": {},
   "source": [
    "그런데 프로그램을 이렇게 구현하면 안된다.\n",
    "만약에 영화목록이 4중, 5중으로 구성된 리스트로 작성되었다면\n",
    "위 프로그램은 4중, 5중 `for` 반복문으로 수정해야 하고,\n",
    "그러면서 프로그램의 길이와 복잡도가 기하급수적으로 증가하기 때문이다.\n",
    "\n",
    "처리해야 하는 데이터에 따라 프로그램이 수정되거나 복잡도가 증가하지 않는 \n",
    "프로그램을 구현해야 한다. \n",
    "\n",
    "다시 한 번 위 세 개의 프로그램을 살펴보자. \n",
    "세 개의 프로그램은 사실상 아래 명령문을 반복해서 사용한다. \n",
    "\n",
    "```python\n",
    "for 항목 in 리스트:\n",
    "    if isinstance(항목, list):\n",
    "        명령문\n",
    "    else:\n",
    "        print(항목)\n",
    "```\n",
    "\n",
    "위 명령문은 리스트의 항목이 또 다른 리스트이면 그 리스트의 항목들을 \n",
    "대상으로 동일한 확인작업을 수행하며,\n",
    "더 이상 리스트가 다른 리스트의 항목으로 포함되지 않을 때 까지 반복된다.\n",
    "즉, 모든 중첩 리스트가 해체될 까지 리스트 여부를 반복하며, \n",
    "리스트가 아니면 해당 항목을 화면에 출력한다.\n",
    "\n",
    "이런 반복작업을 **재귀**(recursion)라 부르며,\n",
    "반복되는 작업에 이름을 주면, 위 세 개의 코드를 하나의 함수로 정의할 수 있다.\n",
    "예를 들어, 아래와 같이 앞서 언급된 명령문에 `printItems`이란 이름을 주어 함수로 정의해보자."
   ]
  },
  {
   "cell_type": "code",
   "execution_count": null,
   "metadata": {},
   "outputs": [],
   "source": [
    "def printItems(aList):\n",
    "    for item in aList:\n",
    "        if isinstance(item, list):\n",
    "            printItems(item)\n",
    "        else:\n",
    "            print(item)"
   ]
  },
  {
   "cell_type": "markdown",
   "metadata": {},
   "source": [
    "`printItems` 함수는 좀 이상하다. \n",
    "정의가 끝나지 않았는데 자신을 자신 본체에서 사용한다. \n",
    "(4번 줄 참조)\n",
    "\n",
    "실제로 `printItems` 함수를 호출하면 실행과정 중에\n",
    "자신을 또다시 호출한다. \n",
    "단, 사용되는 인자가 다르며, 애초에 사용된 리스트의 항목이면서\n",
    "또다른 리스트가 인자로 사용된다.\n",
    "이런 함수를 자기 자신을 호출한다는 의미로 **재귀함수**(recursive function)라 부른다. \n",
    "\n",
    "사실 임의로 중첩된 리스트를 인자로 받아도 중첩을 모두 풀어버린다."
   ]
  },
  {
   "cell_type": "code",
   "execution_count": null,
   "metadata": {},
   "outputs": [
    {
     "name": "stdout",
     "output_type": "stream",
     "text": [
      "기생충\n",
      "2019\n",
      "설국열차\n",
      "2013\n",
      "살인의 추억\n",
      "2003\n"
     ]
    }
   ],
   "source": [
    "printItems(movie_Bong)"
   ]
  },
  {
   "cell_type": "markdown",
   "metadata": {},
   "source": [
    "## 튜플"
   ]
  },
  {
   "cell_type": "markdown",
   "metadata": {},
   "source": [
    "## 사전"
   ]
  },
  {
   "cell_type": "markdown",
   "metadata": {},
   "source": [
    "## 집합"
   ]
  },
  {
   "cell_type": "markdown",
   "metadata": {},
   "source": [
    "## 조건제시법"
   ]
  },
  {
   "cell_type": "markdown",
   "metadata": {},
   "source": [
    "## 연습문제 "
   ]
  },
  {
   "cell_type": "markdown",
   "metadata": {},
   "source": [
    "1. `printItems` 수정하여 `movie_Bong`에 포함된 항목들을 아래와 같이 \n",
    "    출력하도록 하는 `printItems2` 함수를 구현하라.\n",
    "\n",
    "        기생충\n",
    "        2019\n",
    "            설국열차\n",
    "            2013\n",
    "                살인의 추억\n",
    "                2003\n",
    "\n",
    "    **힌트**\n",
    "    * `printItems` 함수의 인자를 두 개로 수정한다. \n",
    "        하나는 리스트의 인자를 다루며, 다른 하나는 들어쓰기 정도를 다루는 \n",
    "        인자를 하나 받는다.\n",
    "        \n",
    "        ```python\n",
    "        def printItems2(aList, level):\n",
    "        명령문\n",
    "        ```\n",
    "\n",
    "    * 위에서 `level` 매개변수의 인자는 탭키를 사용하는 횟수를 나타내도록 한다. \n",
    "        그러면 `printItems2(movie_Bong, 0)`을 실행하면 원하는 결과가 나와야 한다.\n",
    "    * 탭 출력은 `print('\\t')`를 이용하면 된다.\n",
    "    <br><br>\n",
    "1. 위 과제에서 구현한 `printItems2` 함수를 아래와 같이 수정하라.\n",
    "    * 인자수를 세 개로 늘린다.\n",
    "\n",
    "        ```python\n",
    "        def printItems3(aList, level, indent=False):\n",
    "            명령문\n",
    "        ```\n",
    "\n",
    "    * `indent` 매개변수의 키워드인자 값이 `True`이면 연습4에서 처럼 들여쓰기를 하고, \n",
    "        `False`이면 들여쓰기를 하지 않아야 한다.\n",
    "    <br><br>\n",
    "1. `printItems` 함수를 재귀가 아닌 `while` 함수를 이용하여 구현하라.\n",
    "\n",
    "    **힌트:** `while` 반복문에 사용되는 조건식을 선택하는 게 핵심이다.\n",
    "    재귀로 구현된 함수로부터 이에대한 힌트를 얻을 수 있다."
   ]
  }
 ],
 "metadata": {
  "kernelspec": {
   "display_name": "Python 3 (ipykernel)",
   "language": "python",
   "name": "python3"
  },
  "language_info": {
   "codemirror_mode": {
    "name": "ipython",
    "version": 3
   },
   "file_extension": ".py",
   "mimetype": "text/x-python",
   "name": "python",
   "nbconvert_exporter": "python",
   "pygments_lexer": "ipython3",
   "version": "3.9.7"
  }
 },
 "nbformat": 4,
 "nbformat_minor": 1
}
